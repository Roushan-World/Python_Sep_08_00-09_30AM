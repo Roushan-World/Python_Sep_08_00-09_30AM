{
 "cells": [
  {
   "cell_type": "markdown",
   "id": "c818a652",
   "metadata": {},
   "source": [
    "# Module in Python in Basically a file which contains python defination and Statement.\n",
    "\n",
    " * __Module__\n",
    "\n",
    " * __1.sys_Module__\n",
    " * __2. os_Module__\n",
    " * __3. Math_Module__\n",
    " * __4. Random_Module__\n",
    " * __5. Date&Time_Module__\n",
    " * __6. Json__"
   ]
  },
  {
   "cell_type": "markdown",
   "id": "c7f29a48",
   "metadata": {},
   "source": [
    " * __1. Sys_Module : Sys Module Basecally provide functions and method of Python Interepreter. so, just basically respponsible for controlling and interaction with interpreter. Ex: Any information about system and python interpreter.__"
   ]
  },
  {
   "cell_type": "code",
   "execution_count": 1,
   "id": "be4c4a27",
   "metadata": {},
   "outputs": [
    {
     "name": "stdout",
     "output_type": "stream",
     "text": [
      "3.9.13 (main, Aug 25 2022, 23:51:50) [MSC v.1916 64 bit (AMD64)]\n"
     ]
    }
   ],
   "source": [
    "import sys\n",
    "\n",
    "print(sys.version)"
   ]
  },
  {
   "cell_type": "code",
   "execution_count": 3,
   "id": "3b95dbbf",
   "metadata": {},
   "outputs": [
    {
     "name": "stdout",
     "output_type": "stream",
     "text": [
      "['C:\\\\Users\\\\Admin\\\\anaconda3\\\\lib\\\\site-packages\\\\ipykernel_launcher.py', '-f', 'C:\\\\Users\\\\Admin\\\\AppData\\\\Roaming\\\\jupyter\\\\runtime\\\\kernel-a02d3bc6-1f20-4b17-ab92-2860b99bdb8d.json']\n"
     ]
    }
   ],
   "source": [
    "print(sys.argv) # -----> argv is a list which contains command line argument which pass the script."
   ]
  },
  {
   "cell_type": "markdown",
   "id": "3fa8ced3",
   "metadata": {},
   "source": [
    " * __2.os_Module: It must be pritty clear that moduel is used to intract to the operation system.__\n",
    " \n",
    " * __1.Create folder__\n",
    " * __2.Remove folder__\n",
    " * __3.Move folder__\n",
    " * __4.Someting change in your working directory.__"
   ]
  },
  {
   "cell_type": "code",
   "execution_count": 2,
   "id": "cb7a4dcd",
   "metadata": {},
   "outputs": [],
   "source": [
    "# Command of os_module\n",
    "\n",
    "import os"
   ]
  },
  {
   "cell_type": "code",
   "execution_count": 5,
   "id": "56aef1bd",
   "metadata": {},
   "outputs": [
    {
     "name": "stdout",
     "output_type": "stream",
     "text": [
      "C:\\Users\\Admin\\1.Python-New-08-09_30\n"
     ]
    }
   ],
   "source": [
    "print(os.getcwd())  #--------> Current working directory."
   ]
  },
  {
   "cell_type": "code",
   "execution_count": 6,
   "id": "dfb09310",
   "metadata": {},
   "outputs": [],
   "source": [
    "# Change Directory\n",
    "\n",
    "os.chdir(\"D:\\\\Vivek\")"
   ]
  },
  {
   "cell_type": "code",
   "execution_count": 7,
   "id": "65693065",
   "metadata": {},
   "outputs": [
    {
     "data": {
      "text/plain": [
       "'D:\\\\Vivek'"
      ]
     },
     "execution_count": 7,
     "metadata": {},
     "output_type": "execute_result"
    }
   ],
   "source": [
    "os.getcwd()"
   ]
  },
  {
   "cell_type": "code",
   "execution_count": 12,
   "id": "6667e20c",
   "metadata": {},
   "outputs": [],
   "source": [
    "# Make Directory\n",
    "\n",
    "os.mkdir(\"D:\\\\Purushottam\")"
   ]
  },
  {
   "cell_type": "code",
   "execution_count": 13,
   "id": "37f7afb9",
   "metadata": {},
   "outputs": [
    {
     "data": {
      "text/plain": [
       "'D:\\\\Vivek'"
      ]
     },
     "execution_count": 13,
     "metadata": {},
     "output_type": "execute_result"
    }
   ],
   "source": [
    "os.getcwd()"
   ]
  },
  {
   "cell_type": "code",
   "execution_count": 14,
   "id": "4b2901cd",
   "metadata": {},
   "outputs": [
    {
     "name": "stdout",
     "output_type": "stream",
     "text": [
      " Volume in drive D is Windows\n",
      " Volume Serial Number is D68B-A907\n",
      "\n",
      " Directory of D:\\Vivek\n",
      "\n",
      "05/10/2023  13:24    <DIR>          .\n",
      "05/10/2023  13:24    <DIR>          ..\n",
      "05/10/2023  13:03               288 a.py\n",
      "05/10/2023  13:28               203 b.py\n",
      "16/08/2023  15:28             4,093 Chandra_Shekhar_Azad.txt\n",
      "05/10/2023  13:17               130 file_read_loop.py\n",
      "               4 File(s)          4,714 bytes\n",
      "               2 Dir(s)  175,784,890,368 bytes free\n"
     ]
    }
   ],
   "source": [
    "ls  # -------------> list of directory"
   ]
  },
  {
   "cell_type": "code",
   "execution_count": 15,
   "id": "4ffe258e",
   "metadata": {},
   "outputs": [],
   "source": [
    "os.chdir(\"D:\\\\Purushottam\")"
   ]
  },
  {
   "cell_type": "code",
   "execution_count": 17,
   "id": "24137ac1",
   "metadata": {},
   "outputs": [
    {
     "data": {
      "text/plain": [
       "'D:\\\\Purushottam'"
      ]
     },
     "execution_count": 17,
     "metadata": {},
     "output_type": "execute_result"
    }
   ],
   "source": [
    "os.getcwd()"
   ]
  },
  {
   "cell_type": "code",
   "execution_count": 19,
   "id": "3dc64507",
   "metadata": {},
   "outputs": [
    {
     "ename": "PermissionError",
     "evalue": "[WinError 32] The process cannot access the file because it is being used by another process: 'D:\\\\Purushottam'",
     "output_type": "error",
     "traceback": [
      "\u001b[1;31m---------------------------------------------------------------------------\u001b[0m",
      "\u001b[1;31mPermissionError\u001b[0m                           Traceback (most recent call last)",
      "\u001b[1;32m~\\AppData\\Local\\Temp\\ipykernel_5252\\1487768912.py\u001b[0m in \u001b[0;36m<module>\u001b[1;34m\u001b[0m\n\u001b[0;32m      1\u001b[0m \u001b[1;31m# Delete or remove directory\u001b[0m\u001b[1;33m\u001b[0m\u001b[1;33m\u001b[0m\u001b[0m\n\u001b[0;32m      2\u001b[0m \u001b[1;33m\u001b[0m\u001b[0m\n\u001b[1;32m----> 3\u001b[1;33m \u001b[0mos\u001b[0m\u001b[1;33m.\u001b[0m\u001b[0mrmdir\u001b[0m\u001b[1;33m(\u001b[0m\u001b[1;34m\"D:\\\\Purushottam\"\u001b[0m\u001b[1;33m)\u001b[0m \u001b[1;31m# --------------remove directory\u001b[0m\u001b[1;33m\u001b[0m\u001b[1;33m\u001b[0m\u001b[0m\n\u001b[0m",
      "\u001b[1;31mPermissionError\u001b[0m: [WinError 32] The process cannot access the file because it is being used by another process: 'D:\\\\Purushottam'"
     ]
    }
   ],
   "source": [
    "# Delete or remove directory\n",
    "\n",
    "os.rmdir(\"D:\\\\Purushottam\") # --------------remove directory"
   ]
  },
  {
   "cell_type": "code",
   "execution_count": 20,
   "id": "61bb615d",
   "metadata": {},
   "outputs": [
    {
     "ename": "PermissionError",
     "evalue": "[WinError 32] The process cannot access the file because it is being used by another process: 'D:\\\\Purushottam'",
     "output_type": "error",
     "traceback": [
      "\u001b[1;31m---------------------------------------------------------------------------\u001b[0m",
      "\u001b[1;31mPermissionError\u001b[0m                           Traceback (most recent call last)",
      "\u001b[1;32m~\\AppData\\Local\\Temp\\ipykernel_5252\\1487768912.py\u001b[0m in \u001b[0;36m<module>\u001b[1;34m\u001b[0m\n\u001b[0;32m      1\u001b[0m \u001b[1;31m# Delete or remove directory\u001b[0m\u001b[1;33m\u001b[0m\u001b[1;33m\u001b[0m\u001b[0m\n\u001b[0;32m      2\u001b[0m \u001b[1;33m\u001b[0m\u001b[0m\n\u001b[1;32m----> 3\u001b[1;33m \u001b[0mos\u001b[0m\u001b[1;33m.\u001b[0m\u001b[0mrmdir\u001b[0m\u001b[1;33m(\u001b[0m\u001b[1;34m\"D:\\\\Purushottam\"\u001b[0m\u001b[1;33m)\u001b[0m \u001b[1;31m# --------------remove directory\u001b[0m\u001b[1;33m\u001b[0m\u001b[1;33m\u001b[0m\u001b[0m\n\u001b[0m",
      "\u001b[1;31mPermissionError\u001b[0m: [WinError 32] The process cannot access the file because it is being used by another process: 'D:\\\\Purushottam'"
     ]
    }
   ],
   "source": [
    "# Delete or remove directory\n",
    "\n",
    "os.rmdir(\"D:\\\\Purushottam\") # --------------remove directory"
   ]
  },
  {
   "cell_type": "code",
   "execution_count": 21,
   "id": "3316660c",
   "metadata": {},
   "outputs": [
    {
     "name": "stdout",
     "output_type": "stream",
     "text": [
      " Volume in drive D is Windows\n",
      " Volume Serial Number is D68B-A907\n",
      "\n",
      " Directory of D:\\Purushottam\n",
      "\n",
      "06/12/2023  08:42    <DIR>          .\n",
      "06/12/2023  08:42    <DIR>          ..\n",
      "               0 File(s)              0 bytes\n",
      "               2 Dir(s)  175,784,890,368 bytes free\n"
     ]
    }
   ],
   "source": [
    "ls"
   ]
  },
  {
   "cell_type": "code",
   "execution_count": 22,
   "id": "e602672c",
   "metadata": {},
   "outputs": [],
   "source": [
    "os.chdir(\"C:\\\\Users\\\\Admin\\\\1.Python-New-08-09_30\")"
   ]
  },
  {
   "cell_type": "code",
   "execution_count": 23,
   "id": "9ca6248b",
   "metadata": {},
   "outputs": [
    {
     "data": {
      "text/plain": [
       "'C:\\\\Users\\\\Admin\\\\1.Python-New-08-09_30'"
      ]
     },
     "execution_count": 23,
     "metadata": {},
     "output_type": "execute_result"
    }
   ],
   "source": [
    "os.getcwd()"
   ]
  },
  {
   "cell_type": "code",
   "execution_count": 24,
   "id": "fc6612ba",
   "metadata": {},
   "outputs": [],
   "source": [
    "os.rmdir(\"D:\\\\Purushottam\")"
   ]
  },
  {
   "cell_type": "code",
   "execution_count": 25,
   "id": "2076acb2",
   "metadata": {},
   "outputs": [
    {
     "name": "stdout",
     "output_type": "stream",
     "text": [
      " Volume in drive C has no label.\n",
      " Volume Serial Number is 58E4-E3F3\n",
      "\n",
      " Directory of C:\\Users\\Admin\\1.Python-New-08-09_30\n",
      "\n",
      "06/12/2023  09:00    <DIR>          .\n",
      "06/12/2023  09:00    <DIR>          ..\n",
      "06/12/2023  08:19    <DIR>          .ipynb_checkpoints\n",
      "07/10/2023  10:50            37,671 1. Python Basic.ipynb\n",
      "08/11/2023  09:15            16,690 10.Exception Handling in Python.ipynb\n",
      "23/11/2023  08:54            18,224 11. Classes and Objects in Python.ipynb\n",
      "28/11/2023  09:09            45,971 12. Reading Files in Python.ipynb\n",
      "29/11/2023  09:31             7,549 13.Writing_Files_in_Python.ipynb\n",
      "05/12/2023  09:14             9,419 14. Lambda Functions in Python.ipynb\n",
      "06/12/2023  09:00             9,284 15. Python Scripting.ipynb\n",
      "09/10/2023  08:49            30,243 3. Lists.ipynb\n",
      "10/10/2023  08:44            15,705 4. Tuples in Python.ipynb\n",
      "11/10/2023  08:39            17,828 5. Sets in Python.ipynb\n",
      "11/10/2023  09:21            13,909 6. Dictionaries in Python.ipynb\n",
      "19/10/2023  09:19            14,712 7. Conditions in Python.ipynb\n",
      "30/10/2023  09:10            22,280 8.Loops in Python.ipynb\n",
      "02/11/2023  09:09            20,902 9. Functions in Python.ipynb\n",
      "23/11/2023  09:16             4,093 Chandra_Shekhar_Azad.txt\n",
      "29/11/2023  09:14                60 f1.txt\n",
      "29/11/2023  09:30                 9 My_self.txt\n",
      "29/11/2023  09:15                30 purushottam.txt\n",
      "              18 File(s)        284,579 bytes\n",
      "               3 Dir(s)  156,235,927,552 bytes free\n"
     ]
    }
   ],
   "source": [
    "ls"
   ]
  },
  {
   "cell_type": "code",
   "execution_count": 26,
   "id": "c5ab44b5",
   "metadata": {},
   "outputs": [],
   "source": [
    "os.chdir(\"D:\\\\\")"
   ]
  },
  {
   "cell_type": "code",
   "execution_count": 27,
   "id": "3d6701ee",
   "metadata": {},
   "outputs": [
    {
     "name": "stdout",
     "output_type": "stream",
     "text": [
      " Volume in drive D is Windows\n",
      " Volume Serial Number is D68B-A907\n",
      "\n",
      " Directory of D:\\\n",
      "\n",
      "11/10/2023  10:14    <DIR>          Data Analytics Class\n",
      "25/09/2023  12:31    <DIR>          demo\n",
      "11/06/2023  17:14    <DIR>          Django_Practise\n",
      "09/06/2023  14:50    <DIR>          django-project\n",
      "01/06/2023  10:23    <DIR>          fastapi\n",
      "26/11/2023  15:01    <DIR>          IPL_Flask\n",
      "08/07/2023  14:57    <DIR>          KeyPress_OSD\n",
      "13/07/2023  10:28    <DIR>          New_directory\n",
      "30/11/2023  13:52         1,565,663 pexels-pavel-danilyuk-8438964.jpg\n",
      "30/11/2023  13:50           573,107 pexels-pixabay-256219.jpg\n",
      "30/11/2023  13:48         2,958,771 pexels-vlad-alexandru-popa-1402787.jpg\n",
      "01/10/2023  14:26    <DIR>          Projects_tkinter\n",
      "08/06/2023  17:52    <DIR>          Pycharm\n",
      "28/11/2023  16:05    <DIR>          Python_2-4PM\n",
      "05/12/2023  11:43    <DIR>          Python_Batch_12-02PM\n",
      "02/12/2023  09:46    <DIR>          Python_Batch_Sun_To_Sat\n",
      "30/04/2023  09:36    <DIR>          Python_Scripting\n",
      "04/07/2023  13:27    <DIR>          Python_videos\n",
      "20/11/2023  14:05    <DIR>          Recording_Videos\n",
      "09/07/2023  14:10    <DIR>          Registration_Form using Django\n",
      "09/07/2023  14:22    <DIR>          Registration_Form Using Python\n",
      "30/11/2023  14:47    <DIR>          Resume\n",
      "26/11/2023  16:57       172,462,492 Roushan_World_SportsWinPredictor.zip\n",
      "03/12/2023  11:53       172,462,492 Sharma.zip\n",
      "03/12/2023  11:49    <DIR>          Sports_Predictor\n",
      "21/02/2023  18:08    <DIR>          SportsWinnerPredictor-main\n",
      "26/11/2023  15:08        51,247,711 SportsWinnerPredictor-main.zip\n",
      "18/11/2023  11:25    <DIR>          Tableau\n",
      "05/10/2023  13:24    <DIR>          Vivek\n",
      "13/07/2023  19:00               375 xyz.sql\n",
      "               7 File(s)    401,270,611 bytes\n",
      "              23 Dir(s)  175,784,890,368 bytes free\n"
     ]
    }
   ],
   "source": [
    "ls"
   ]
  },
  {
   "cell_type": "code",
   "execution_count": 28,
   "id": "4c2d3034",
   "metadata": {},
   "outputs": [],
   "source": [
    "os.chdir(\"C:\\\\Users\\\\Admin\\\\1.Python-New-08-09_30\")"
   ]
  },
  {
   "cell_type": "code",
   "execution_count": 29,
   "id": "86ad1c79",
   "metadata": {},
   "outputs": [
    {
     "data": {
      "text/plain": [
       "'C:\\\\Users\\\\Admin\\\\1.Python-New-08-09_30'"
      ]
     },
     "execution_count": 29,
     "metadata": {},
     "output_type": "execute_result"
    }
   ],
   "source": [
    "os.getcwd()"
   ]
  },
  {
   "cell_type": "code",
   "execution_count": 30,
   "id": "9607166a",
   "metadata": {},
   "outputs": [
    {
     "data": {
      "text/plain": [
       "('C:\\\\Users\\\\Admin', '1.Python-New-08-09_30')"
      ]
     },
     "execution_count": 30,
     "metadata": {},
     "output_type": "execute_result"
    }
   ],
   "source": [
    "os.path.split(\"C:\\\\Users\\\\Admin\\\\1.Python-New-08-09_30\")"
   ]
  },
  {
   "cell_type": "code",
   "execution_count": 31,
   "id": "f267c91b",
   "metadata": {},
   "outputs": [
    {
     "data": {
      "text/plain": [
       "'C:\\\\Users\\\\Admin\\\\1.Python-New-08-09_30'"
      ]
     },
     "execution_count": 31,
     "metadata": {},
     "output_type": "execute_result"
    }
   ],
   "source": [
    "os.getcwd()"
   ]
  },
  {
   "cell_type": "code",
   "execution_count": 33,
   "id": "da0618e0",
   "metadata": {},
   "outputs": [
    {
     "ename": "AttributeError",
     "evalue": "module 'ntpath' has no attribute 'exit'",
     "output_type": "error",
     "traceback": [
      "\u001b[1;31m---------------------------------------------------------------------------\u001b[0m",
      "\u001b[1;31mAttributeError\u001b[0m                            Traceback (most recent call last)",
      "\u001b[1;32m~\\AppData\\Local\\Temp\\ipykernel_5252\\1114261287.py\u001b[0m in \u001b[0;36m<module>\u001b[1;34m\u001b[0m\n\u001b[1;32m----> 1\u001b[1;33m \u001b[0mos\u001b[0m\u001b[1;33m.\u001b[0m\u001b[0mpath\u001b[0m\u001b[1;33m.\u001b[0m\u001b[0mexit\u001b[0m\u001b[1;33m(\u001b[0m\u001b[1;34m\"C:\\\\Users\\\\Admin\\\\1.Python-New-08-09_30\"\u001b[0m\u001b[1;33m)\u001b[0m\u001b[1;33m\u001b[0m\u001b[1;33m\u001b[0m\u001b[0m\n\u001b[0m",
      "\u001b[1;31mAttributeError\u001b[0m: module 'ntpath' has no attribute 'exit'"
     ]
    }
   ],
   "source": [
    "os.path.exits(\"C:\\\\Users\\\\Admin\\\\1.Python-New-08-09_30\")"
   ]
  },
  {
   "cell_type": "code",
   "execution_count": 8,
   "id": "e964d625",
   "metadata": {},
   "outputs": [
    {
     "name": "stderr",
     "output_type": "stream",
     "text": [
      "C:\\Users\\Admin\\AppData\\Local\\Temp\\ipykernel_6432\\580794972.py:5: DeprecationWarning: 'U' mode is deprecated\n",
      "  f=open(filename,'rU') #(Rack Unit)\n"
     ]
    },
    {
     "ename": "TypeError",
     "evalue": "bad operand type for unary +: 'str'",
     "output_type": "error",
     "traceback": [
      "\u001b[1;31m---------------------------------------------------------------------------\u001b[0m",
      "\u001b[1;31mFileNotFoundError\u001b[0m                         Traceback (most recent call last)",
      "\u001b[1;32m~\\AppData\\Local\\Temp\\ipykernel_6432\\580794972.py\u001b[0m in \u001b[0;36m<module>\u001b[1;34m\u001b[0m\n\u001b[0;32m      4\u001b[0m     \u001b[0mfilename\u001b[0m\u001b[1;33m=\u001b[0m\u001b[1;34m\"Python.txt\"\u001b[0m\u001b[1;33m\u001b[0m\u001b[1;33m\u001b[0m\u001b[0m\n\u001b[1;32m----> 5\u001b[1;33m     \u001b[0mf\u001b[0m\u001b[1;33m=\u001b[0m\u001b[0mopen\u001b[0m\u001b[1;33m(\u001b[0m\u001b[0mfilename\u001b[0m\u001b[1;33m,\u001b[0m\u001b[1;34m'rU'\u001b[0m\u001b[1;33m)\u001b[0m \u001b[1;31m#(Rack Unit)\u001b[0m\u001b[1;33m\u001b[0m\u001b[1;33m\u001b[0m\u001b[0m\n\u001b[0m\u001b[0;32m      6\u001b[0m     \u001b[0mtext\u001b[0m\u001b[1;33m=\u001b[0m\u001b[0mf\u001b[0m\u001b[1;33m.\u001b[0m\u001b[0mread\u001b[0m\u001b[1;33m(\u001b[0m\u001b[1;33m)\u001b[0m\u001b[1;33m\u001b[0m\u001b[1;33m\u001b[0m\u001b[0m\n",
      "\u001b[1;31mFileNotFoundError\u001b[0m: [Errno 2] No such file or directory: 'Python.txt'",
      "\nDuring handling of the above exception, another exception occurred:\n",
      "\u001b[1;31mTypeError\u001b[0m                                 Traceback (most recent call last)",
      "\u001b[1;32m~\\AppData\\Local\\Temp\\ipykernel_6432\\580794972.py\u001b[0m in \u001b[0;36m<module>\u001b[1;34m\u001b[0m\n\u001b[0;32m      8\u001b[0m \u001b[1;33m\u001b[0m\u001b[0m\n\u001b[0;32m      9\u001b[0m \u001b[1;32mexcept\u001b[0m \u001b[0mIOError\u001b[0m\u001b[1;33m:\u001b[0m\u001b[1;33m\u001b[0m\u001b[1;33m\u001b[0m\u001b[0m\n\u001b[1;32m---> 10\u001b[1;33m     \u001b[0mprint\u001b[0m\u001b[1;33m(\u001b[0m\u001b[1;34m\"Problem Reading:\"\u001b[0m\u001b[1;33m,\u001b[0m \u001b[1;33m+\u001b[0m\u001b[0mfilename\u001b[0m\u001b[1;33m)\u001b[0m\u001b[1;33m\u001b[0m\u001b[1;33m\u001b[0m\u001b[0m\n\u001b[0m\u001b[0;32m     11\u001b[0m \u001b[1;33m\u001b[0m\u001b[0m\n\u001b[0;32m     12\u001b[0m \u001b[1;32mexcept\u001b[0m \u001b[0mFileNotFoundError\u001b[0m\u001b[1;33m:\u001b[0m\u001b[1;33m\u001b[0m\u001b[1;33m\u001b[0m\u001b[0m\n",
      "\u001b[1;31mTypeError\u001b[0m: bad operand type for unary +: 'str'"
     ]
    }
   ],
   "source": [
    "import os\n",
    "\n",
    "try:\n",
    "    filename=\"Python.txt\"\n",
    "    f=open(filename,'rU') #(Rack Unit)\n",
    "    text=f.read()\n",
    "    f.close()\n",
    "    \n",
    "except IOError:\n",
    "    print(\"Problem Reading:\", +filename)\n",
    "    \n",
    "except FileNotFoundError:\n",
    "    print(\"FileNotFoundError\")\n",
    "    \n",
    "except TypeError:\n",
    "    print('TypeError')"
   ]
  },
  {
   "cell_type": "code",
   "execution_count": 10,
   "id": "5b1d6a54",
   "metadata": {},
   "outputs": [
    {
     "name": "stdout",
     "output_type": "stream",
     "text": [
      "Shoutdown your system?(Y or N)N\n",
      "Existing the program doing nothing.\n"
     ]
    }
   ],
   "source": [
    "# Python program to shutdown your computer\n",
    "\n",
    "choice=input(\"Shoutdown your system?(Y or N)\")\n",
    "\n",
    "if choice=='y' or choice==\"Y\":\n",
    "    os.system(\"shutdown /s\")\n",
    "    \n",
    "else:\n",
    "    print('Existing the program doing nothing.')"
   ]
  },
  {
   "cell_type": "code",
   "execution_count": 11,
   "id": "42257299",
   "metadata": {},
   "outputs": [
    {
     "name": "stdout",
     "output_type": "stream",
     "text": [
      "Shoutdown your system?(Y or N)n\n",
      "Existing the program doing nothing.\n"
     ]
    }
   ],
   "source": [
    "# Python program to Restart your computer\n",
    "\n",
    "choice=input(\"Shoutdown your system?(Y or N)\")\n",
    "\n",
    "if choice=='y' or choice==\"Y\":\n",
    "    os.system(\"shutdown /r\")\n",
    "    \n",
    "else:\n",
    "    print('Existing the program doing nothing.')"
   ]
  },
  {
   "cell_type": "code",
   "execution_count": 12,
   "id": "73f31e4c",
   "metadata": {},
   "outputs": [
    {
     "name": "stdout",
     "output_type": "stream",
     "text": [
      "Shoutdown your system?(Y or N)n\n",
      "Existing the program doing nothing.\n"
     ]
    }
   ],
   "source": [
    "# Python program to logoff your computer\n",
    "choice=input(\"Shoutdown your system?(Y or N)\")\n",
    "\n",
    "if choice=='y' or choice==\"Y\":\n",
    "    os.system(\"shutdown /l\")\n",
    "    \n",
    "else:\n",
    "    print('Existing the program doing nothing.')"
   ]
  },
  {
   "cell_type": "markdown",
   "id": "0ed40d5d",
   "metadata": {},
   "source": [
    "# Math Module"
   ]
  },
  {
   "cell_type": "code",
   "execution_count": 13,
   "id": "06d97dab",
   "metadata": {},
   "outputs": [],
   "source": [
    "import math"
   ]
  },
  {
   "cell_type": "code",
   "execution_count": 17,
   "id": "3d93de70",
   "metadata": {},
   "outputs": [
    {
     "name": "stdout",
     "output_type": "stream",
     "text": [
      "2\n",
      "2\n",
      "457\n"
     ]
    }
   ],
   "source": [
    "# Import math library # Rounds a number up nearest integer.\n",
    "\n",
    "print(math.ceil(1.6))\n",
    "print(math.ceil(1.1))\n",
    "print(math.ceil(456.82))"
   ]
  },
  {
   "cell_type": "code",
   "execution_count": 20,
   "id": "6f1533cb",
   "metadata": {},
   "outputs": [
    {
     "name": "stdout",
     "output_type": "stream",
     "text": [
      "-12.0\n",
      "100.0\n"
     ]
    }
   ],
   "source": [
    "# copysign function\n",
    "\n",
    "print(math.copysign(12,-14))\n",
    "print(math.copysign(-100,1))"
   ]
  },
  {
   "cell_type": "code",
   "execution_count": 25,
   "id": "139fcb63",
   "metadata": {},
   "outputs": [
    {
     "name": "stdout",
     "output_type": "stream",
     "text": [
      "2.0\n",
      "1.0\n"
     ]
    }
   ],
   "source": [
    "# fmod # Return the remainder of x/y\n",
    "print(math.fmod(12,5))\n",
    "print(math.fmod(120,7))"
   ]
  },
  {
   "cell_type": "code",
   "execution_count": 26,
   "id": "43118c04",
   "metadata": {},
   "outputs": [
    {
     "name": "stdout",
     "output_type": "stream",
     "text": [
      "2458.0\n"
     ]
    }
   ],
   "source": [
    "# fsum # print the sum of all items\n",
    "\n",
    "print(math.fsum([10,20,30,50,40,850,90,1100,123,145]))"
   ]
  },
  {
   "cell_type": "code",
   "execution_count": 29,
   "id": "2099975d",
   "metadata": {},
   "outputs": [
    {
     "name": "stdout",
     "output_type": "stream",
     "text": [
      "3\n",
      "1\n"
     ]
    }
   ],
   "source": [
    "# gcd # find the greatest common divisor of two integers.\n",
    "\n",
    "print(math.gcd(3,6))\n",
    "print(math.gcd(6,12,45,62,82,52,10,12))\n"
   ]
  },
  {
   "cell_type": "code",
   "execution_count": 33,
   "id": "989c0762",
   "metadata": {},
   "outputs": [
    {
     "name": "stdout",
     "output_type": "stream",
     "text": [
      "3.1622776601683795\n",
      "38.01315561749642\n"
     ]
    }
   ],
   "source": [
    "#sqrt\n",
    "\n",
    "print(math.sqrt(10))\n",
    "print(math.sqrt(1445))"
   ]
  },
  {
   "cell_type": "code",
   "execution_count": 35,
   "id": "0398786d",
   "metadata": {},
   "outputs": [
    {
     "name": "stdout",
     "output_type": "stream",
     "text": [
      "3\n",
      "38\n"
     ]
    }
   ],
   "source": [
    "# isqrt\n",
    "print(math.isqrt(10))\n",
    "print(math.isqrt(1445))"
   ]
  },
  {
   "cell_type": "code",
   "execution_count": 37,
   "id": "a83bd93c",
   "metadata": {},
   "outputs": [
    {
     "name": "stdout",
     "output_type": "stream",
     "text": [
      "1.0\n",
      "0.0\n"
     ]
    }
   ],
   "source": [
    "# remainder\n",
    "\n",
    "print(math.remainder(9,2))\n",
    "print(math.remainder(9,3))"
   ]
  },
  {
   "cell_type": "code",
   "execution_count": 38,
   "id": "55483ef8",
   "metadata": {},
   "outputs": [
    {
     "name": "stdout",
     "output_type": "stream",
     "text": [
      "(3, (2147483648, 4256713029, 2894409279, 4100522572, 1798192906, 2633016804, 1621719670, 2867449742, 1756842126, 3752170529, 444947223, 2662292820, 354966420, 1731131501, 810021424, 3498725052, 4087794082, 2775921655, 653582015, 1677041513, 2075794377, 2227389042, 1599770846, 3280288473, 2335985632, 2257703215, 1520200527, 2327598062, 4003398156, 368266983, 1739709598, 2043327688, 3065364342, 3380780619, 2539675668, 2814327172, 555032141, 1783901640, 1969555810, 3724109148, 3385177016, 1962801571, 4045077144, 2782196194, 4286116148, 2312961931, 3307455672, 1688565382, 73276726, 223852095, 440135520, 3704781783, 3529910623, 4154921083, 3794659836, 939365126, 1527369116, 1808863091, 4246542534, 85916185, 4250623197, 2459241499, 1243115718, 1097906147, 2233769825, 3022879975, 1543347484, 3948968159, 2799110190, 145935333, 1691884085, 178108735, 3056327713, 3716308168, 469944216, 3920250929, 4146601078, 2836020144, 770671270, 3303253685, 1633043526, 528321657, 1426834130, 1930984171, 593412133, 4025247673, 3997520609, 1924076614, 3624211264, 3870013150, 3447497377, 3436056630, 593106356, 6793867, 1472702887, 724638703, 432318614, 381986056, 988045643, 1463094668, 4041266897, 4118521384, 1783288306, 3833775482, 424757138, 248621989, 1895437050, 3924256001, 2533346369, 2788061523, 532029007, 3505454721, 983596537, 3991953454, 531948840, 4290785039, 4267099956, 2399187987, 1643318077, 2151803095, 149920025, 2124894280, 846812331, 3382018780, 42916287, 4267868750, 2871072770, 3950269062, 1842702986, 3379246945, 3199803791, 36269486, 4250677730, 2405148093, 1771827830, 4249752154, 2861399915, 1038711387, 2875374266, 2682345900, 3880019031, 3197926690, 1220393486, 2885124886, 1234415768, 3619169365, 2482593792, 1872903960, 1460552461, 4028259711, 1937857978, 2931101786, 312508892, 2820969789, 1191855881, 919307312, 2572921555, 3883290029, 1243966924, 2330952504, 3977544735, 3035957812, 3720777239, 3197706775, 2263254456, 511527905, 2111829761, 1479569442, 2919543455, 2468757048, 1264637397, 3841748529, 1496045586, 1145693586, 3767308388, 3877370565, 1696634205, 1238919888, 951910157, 922231102, 3422665016, 3808217532, 885915086, 2635548542, 3163562638, 2465655734, 353870741, 3555956035, 1768077386, 2366788784, 3333652153, 2485177932, 4069096688, 851454755, 3119611555, 3060834285, 683505384, 3229848663, 1218412924, 1355822331, 1969814511, 3989744170, 344450465, 4014901009, 1169285991, 1843533474, 1711547292, 2861334388, 681463963, 3324953371, 3070822560, 713144338, 2331624688, 473056017, 2440505912, 1748654403, 3289124106, 3210240479, 1224968198, 3968076213, 1092592548, 3792175920, 2576245982, 2848315289, 2095168909, 271546287, 4129943014, 696862676, 278596043, 2018824891, 2895510444, 1492579855, 160194562, 3448927150, 1392585708, 2007301137, 1008350247, 4202024174, 3176712727, 2918057785, 2740981854, 2212522494, 1480436200, 913377560, 3463082165, 734661461, 2592227259, 667298138, 2377521770, 2906160211, 4292237130, 3081432625, 3993092510, 3319582870, 2010817085, 526657537, 3521289716, 525722459, 3740436030, 1209536881, 4209858200, 18832914, 3248187308, 3240026803, 1962096986, 4125930473, 344973301, 3511267540, 504662959, 3129336784, 3983752842, 2538148887, 1119187669, 1295581372, 3727634318, 1828084214, 1702694502, 2240906479, 1638168290, 701468248, 669387102, 1242114007, 2055367527, 567488966, 2519593851, 3135428298, 1729534058, 2125938327, 3821764077, 3379901988, 1997866970, 1099817692, 2534758517, 2955904109, 1956652905, 1220176431, 3689824756, 3587016534, 2159694691, 2504375993, 1005636568, 233543263, 3821478336, 174779072, 631264754, 427784834, 113622201, 1571183007, 2453893575, 1295528842, 2537966855, 578384047, 49912283, 1393708859, 503886913, 3198442962, 337680447, 1129317775, 427536036, 2160634318, 2764872370, 2387257580, 108555176, 3103054457, 532022259, 3877191470, 3967450072, 2066248918, 1267391704, 1571320714, 2064488235, 2377944486, 2947813642, 2833483567, 3712953983, 3757474217, 3351221405, 3186530825, 1122163111, 50929829, 44145230, 802452020, 2020336445, 2019158635, 3501674118, 3554847201, 2448380414, 4002692957, 3916055221, 2473800526, 3376611992, 516303632, 1859592651, 1933445084, 1773178143, 3438565059, 287782913, 3931237019, 1666430972, 622061077, 311237527, 4215150784, 4225535377, 961521617, 3111810993, 3172117552, 2561707569, 3184799522, 3700159700, 2198574165, 1602963412, 2676756435, 424383156, 2362071397, 407002685, 180258871, 660465816, 2719658240, 953951815, 364785285, 793315151, 2212108766, 1003089512, 3668674176, 340391138, 2274164413, 2849640107, 1117721866, 3519361337, 666284675, 2375169420, 528081212, 4029704199, 1327777068, 1933714723, 532566326, 1370910966, 2941272425, 3374882584, 1988150047, 974119550, 2095550458, 1569147264, 1712763263, 3425461051, 162969939, 714422713, 1228753521, 4086945678, 715714301, 4098562229, 2556271346, 611954003, 117441040, 1453209604, 3425997994, 402518754, 1387994764, 1071495101, 3674700646, 2392900122, 2687042208, 2610596328, 1569977683, 3160738125, 3820545818, 1989686364, 381073741, 241301267, 2980238382, 455120502, 3457833433, 2378471922, 1369036772, 1612354061, 3189184105, 2197100721, 4158748151, 28848547, 3996735537, 2706608538, 2442813937, 2283401020, 3792482307, 542983671, 582614201, 116870722, 808906228, 744553500, 3095709003, 2380466450, 3838762939, 1107341084, 2506725487, 1844112635, 3322764990, 2063904466, 4269793633, 1619016434, 2322764125, 4282566440, 3052976808, 1638327603, 2573567503, 2914119932, 2345047199, 1559189841, 108982787, 4139869275, 2520972021, 973750755, 2291461509, 827746099, 18200324, 49273307, 3350874935, 2936738478, 2507976289, 33739478, 3102197264, 2146611154, 4151102317, 1026774618, 2413162650, 3279246886, 3013552069, 2638533993, 2536142948, 819314907, 1483578388, 308990022, 1022077730, 3128459264, 71769950, 3188083316, 1460948078, 2207741668, 1670794829, 874308482, 3279794126, 3364452282, 2820816693, 1514991731, 2489798742, 905158147, 1406734627, 1468813649, 222330413, 1591783704, 1405964515, 4182608440, 1508768978, 3403839081, 423113584, 3577923638, 3823889374, 2167620816, 1406696828, 778460188, 1382877233, 4061232687, 3106841476, 2937368170, 3513945483, 2304675831, 2843272417, 2831638762, 853340402, 1451547320, 316592592, 2461335098, 3892389108, 306089336, 2299912463, 1298723222, 630222356, 3993989155, 3854173110, 3934873692, 260300993, 3432849886, 1867769375, 3186578040, 844089556, 3643934873, 3290462986, 3378438657, 2002954270, 3622278243, 827690324, 1572547304, 2777445851, 3304804065, 3768286025, 2117784072, 2563041449, 984886047, 3946679745, 3632306606, 1638042722, 3922450704, 1102419837, 2067184071, 3864101086, 5083183, 4034088670, 2270122186, 562357471, 1073706203, 3259764440, 436349038, 2317819997, 2865186907, 4074550725, 813073543, 1663390425, 2493783498, 2995825270, 3858744435, 2682667016, 1491767187, 1815506488, 629313338, 1599116223, 2455198581, 2162664603, 2888131954, 2355714644, 46703105, 3492435411, 4036475126, 307334451, 2661753430, 4281958312, 2110724364, 1782821189, 2890260759, 2387271519, 4156249578, 2677329597, 1667462601, 1191332123, 878626831, 2403073088, 424674794, 3174192805, 1064819927, 975472739, 458535978, 3820556079, 3886018901, 2757522060, 3959521307, 524735704, 167463556, 653894338, 2786868379, 1403363957, 3108028978, 1820038327, 342577823, 1103922953, 716905938, 3096812839, 624), None)\n"
     ]
    }
   ],
   "source": [
    "# random module\n",
    "\n",
    "import random\n",
    "print(random.getstate())"
   ]
  },
  {
   "cell_type": "code",
   "execution_count": 56,
   "id": "26f97582",
   "metadata": {},
   "outputs": [
    {
     "name": "stdout",
     "output_type": "stream",
     "text": [
      "3\n"
     ]
    }
   ],
   "source": [
    "import random\n",
    "\n",
    "print(random.randrange(3,9))"
   ]
  },
  {
   "cell_type": "code",
   "execution_count": 66,
   "id": "51130069",
   "metadata": {},
   "outputs": [
    {
     "name": "stdout",
     "output_type": "stream",
     "text": [
      "3\n"
     ]
    }
   ],
   "source": [
    "print(random.randint(3,5))"
   ]
  },
  {
   "cell_type": "code",
   "execution_count": 71,
   "id": "888fbe96",
   "metadata": {},
   "outputs": [
    {
     "name": "stdout",
     "output_type": "stream",
     "text": [
      "apple\n"
     ]
    }
   ],
   "source": [
    "mylist=['apple','banana','cherry']\n",
    "\n",
    "print(random.choice(mylist))"
   ]
  },
  {
   "cell_type": "code",
   "execution_count": 84,
   "id": "89344e57",
   "metadata": {},
   "outputs": [
    {
     "name": "stdout",
     "output_type": "stream",
     "text": [
      "['apple', 'apple', 'cherry', 'cherry', 'apple', 'apple', 'apple', 'cherry', 'apple', 'apple', 'apple', 'apple', 'apple', 'apple']\n"
     ]
    }
   ],
   "source": [
    "# Return a list with 14 items\n",
    "# The list should contains a randomly selection of the values from a specified list, and there should\n",
    "# be 10 times hgiher possibility to select \"apple\" than the other two.\n",
    "# choices method.\n",
    "print(random.choices(mylist, weights=[10,1,1],k=14))"
   ]
  },
  {
   "cell_type": "code",
   "execution_count": 83,
   "id": "fbef23cf",
   "metadata": {},
   "outputs": [
    {
     "name": "stdout",
     "output_type": "stream",
     "text": [
      "['cherry', 'apple']\n"
     ]
    }
   ],
   "source": [
    "# Return a given sample of a sequence\n",
    "# sample() module\n",
    "mylist=['apple','banana','cherry']\n",
    "\n",
    "print(random.sample(mylist,k=2))"
   ]
  },
  {
   "cell_type": "code",
   "execution_count": null,
   "id": "547cf4be",
   "metadata": {},
   "outputs": [],
   "source": []
  },
  {
   "cell_type": "code",
   "execution_count": null,
   "id": "0c3bd42e",
   "metadata": {},
   "outputs": [],
   "source": []
  }
 ],
 "metadata": {
  "kernelspec": {
   "display_name": "Python 3 (ipykernel)",
   "language": "python",
   "name": "python3"
  },
  "language_info": {
   "codemirror_mode": {
    "name": "ipython",
    "version": 3
   },
   "file_extension": ".py",
   "mimetype": "text/x-python",
   "name": "python",
   "nbconvert_exporter": "python",
   "pygments_lexer": "ipython3",
   "version": "3.9.13"
  }
 },
 "nbformat": 4,
 "nbformat_minor": 5
}
