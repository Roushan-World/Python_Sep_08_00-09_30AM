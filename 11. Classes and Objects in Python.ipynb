{
 "cells": [
  {
   "cell_type": "markdown",
   "id": "215a65d1",
   "metadata": {},
   "source": [
    "# 11. Classes and Objects in Python\n",
    "\n",
    " * __Python is an obejct-oriented programming language.__\n",
    " * __Unlike procedure-oriented programming, where the main emphasis is on functions, object-oriented programming stresses on objects.__\n",
    " * __An onject is simply a collections of data(variables) and methods (functions) that act on those data.__\n",
    " * __Similarly, a class is a blueprint for that object.__\n",
    " * __Like function definitions begin with the def keyword in Python, class definitions begin with a class keyword.__\n",
    " * __The first string inside the class is called docstring and has a brief description of the class.__\n",
    " * __Although not mandatrory, this is heigly recommended.__\n",
    " \n",
    " * class class_name:\n",
    "         * school_name=\"ABC School\" <--------------class Variables\n",
    "         \n",
    "         * def __init__(self,name,age):  <---------- Constructor to initialize instance variables\n",
    "             self.name=name\n",
    "             self.age=age\n",
    " * x=class_name(\"first parameter\",\"Second Parameter\")\n",
    " * print(x.name)\n",
    " * print(x.age)\n",
    "  "
   ]
  },
  {
   "cell_type": "code",
   "execution_count": 1,
   "id": "e8690c80",
   "metadata": {},
   "outputs": [
    {
     "name": "stdout",
     "output_type": "stream",
     "text": [
      "<class '__main__.Data'>\n"
     ]
    }
   ],
   "source": [
    "class Data:\n",
    "    num= 3.14\n",
    "    \n",
    "print(Data)"
   ]
  },
  {
   "cell_type": "code",
   "execution_count": 2,
   "id": "3f82e4e9",
   "metadata": {},
   "outputs": [
    {
     "data": {
      "text/plain": [
       "3.14"
      ]
     },
     "execution_count": 2,
     "metadata": {},
     "output_type": "execute_result"
    }
   ],
   "source": [
    "Data.num"
   ]
  },
  {
   "cell_type": "code",
   "execution_count": 10,
   "id": "31bedf82",
   "metadata": {},
   "outputs": [
    {
     "name": "stdout",
     "output_type": "stream",
     "text": [
      "Purushottam\n",
      "35\n",
      "Pune\n",
      "purushottam123@gmail.com\n",
      "123456789\n"
     ]
    }
   ],
   "source": [
    "class Details:\n",
    "    def __init__(self,name,age,contact_add,email,phone): #<-----arguments\n",
    "        self.name=name\n",
    "        self.age=age\n",
    "        self.contact_add=contact_add\n",
    "        self.email=email\n",
    "        self.phone=phone\n",
    "        \n",
    "        \n",
    "val=Details(\"Purushottam\",35,\"Pune\",\"purushottam123@gmail.com\",'123456789')\n",
    "print(val.name)\n",
    "print(val.age)\n",
    "print(val.contact_add)\n",
    "print(val.email)\n",
    "print(val.phone)\n",
    "        "
   ]
  },
  {
   "cell_type": "code",
   "execution_count": 12,
   "id": "1a0af81e",
   "metadata": {},
   "outputs": [
    {
     "name": "stdout",
     "output_type": "stream",
     "text": [
      "My name is Purushottam\n",
      "I am 35 years old.\n",
      "You can contact me at Pune.\n",
      "You can mail me on purushottam123@gmail.com\n",
      "You can call me on 123456789\n"
     ]
    }
   ],
   "source": [
    "class Details:\n",
    "    def __init__(x,name,age,contact_add,email,phone): #<-----arguments\n",
    "        x.name=name\n",
    "        x.age=age\n",
    "        x.contact_add=contact_add\n",
    "        x.email=email\n",
    "        x.phone=phone\n",
    "        \n",
    "    def msg_details(x):\n",
    "        print(f\"My name is {x.name}\")\n",
    "        print(f'I am {x.age} years old.')\n",
    "        print(f'You can contact me at {x.contact_add}.')\n",
    "        print(f'You can mail me on {x.email}')\n",
    "        print(f'You can call me on {x.phone}')\n",
    "        \n",
    "        \n",
    "val=Details(\"Purushottam\",35,\"Pune\",\"purushottam123@gmail.com\",'123456789')\n",
    "val.msg_details()\n",
    "        "
   ]
  },
  {
   "cell_type": "markdown",
   "id": "f7d3c621",
   "metadata": {},
   "source": [
    "# Self parameter\n",
    "\n",
    " * __The self parameter is a reference to the current instance of the class and is used to access variables that belongs to the class.__\n",
    " * __It does not have to be named self, you can call it whatever you like, but it has to be the first parameter of any function in the class.__"
   ]
  },
  {
   "cell_type": "code",
   "execution_count": 4,
   "id": "536a9864",
   "metadata": {},
   "outputs": [
    {
     "name": "stdout",
     "output_type": "stream",
     "text": [
      "My name is i.e dog.\n",
      "It have 4 legs.\n",
      "It have 1 tail.\n",
      "It have 2 eyes\n",
      "It have 1 belly\n",
      "It is brown in color \n",
      "They like Non veg food\n"
     ]
    }
   ],
   "source": [
    "# Class animal and function dog(legs,tail,eye,ears,belley,color,food.)\n",
    "\n",
    "class animal:\n",
    "    def __init__(x,name, legs, tail, eyes, belley, color, food):  # <--- Arguments\n",
    "        x.name=name\n",
    "        x.legs=legs\n",
    "        x.tail= tail\n",
    "        x.eyes= eyes\n",
    "        x.belley= belley\n",
    "        x.color= color\n",
    "        x.food= food\n",
    "        \n",
    "    def dog(x):\n",
    "        print(f'My name is i.e {x.name}.')\n",
    "        print(f'It have {x.legs} legs.')\n",
    "        print(f'It have {x.tail} tail.')\n",
    "        print(f'It have {x.eyes} eyes')\n",
    "        print(f'It have {x.belley} belly')\n",
    "        print(f'It is {x.color} in color ')\n",
    "        print(f'They like {x.food} food')\n",
    "        \n",
    "val=animal(\"dog\",\"4\", \"1\",\"2\", \"1\", \"brown\", \"Non veg\")\n",
    "val.dog()"
   ]
  },
  {
   "cell_type": "code",
   "execution_count": 5,
   "id": "87e34f24",
   "metadata": {},
   "outputs": [
    {
     "name": "stdout",
     "output_type": "stream",
     "text": [
      "My name is i.e Cow.\n",
      "It have 4 legs.\n",
      "It have 1 tail.\n",
      "It have 2 eyes\n",
      "It have 1 belly\n",
      "It is black in color \n",
      "They like Veg food\n"
     ]
    }
   ],
   "source": [
    "cow=animal(\"Cow\",4,1,2,1,\"black\",\"Veg\")\n",
    "cow.dog()"
   ]
  },
  {
   "cell_type": "code",
   "execution_count": 6,
   "id": "19e78a00",
   "metadata": {},
   "outputs": [
    {
     "name": "stdout",
     "output_type": "stream",
     "text": [
      "Vechile name is i.e. Maruti.\n",
      "Maximum speed on road 220 KM/hr.\n",
      "Mileage of the Maruti vechile is 22 per liter.\n"
     ]
    }
   ],
   "source": [
    "# Write a program to create a Vehicle class with Max_speed and mileage instance attributes.\n",
    "\n",
    "class vehicle:\n",
    "    def __init__(x, name, max_speed, mileage):\n",
    "        x.name= name\n",
    "        x.max_speed= max_speed\n",
    "        x.mileage= mileage\n",
    "        \n",
    "    def Vechile_details(x):\n",
    "        print(f'Vechile name is i.e. {x.name}.')\n",
    "        print(f'Maximum speed on road {x.max_speed} KM/hr.')\n",
    "        print(f'Mileage of the {x.name} vechile is {x.mileage} per liter.')\n",
    "        \n",
    "val=vehicle(\"Maruti\", 220, 22)\n",
    "val.Vechile_details()"
   ]
  },
  {
   "cell_type": "markdown",
   "id": "b65351ba",
   "metadata": {},
   "source": [
    "# Inheritance\n",
    "\n",
    " * __1.Single(Simple) Inheritance: Parent Class and Child Class.__\n",
    " * __2.Multilevel Inheritance: Parent/Child Class- Child Class.__\n",
    " * __3.Multiple Inheritance: Parent Class and Parent Class-Child Class.__\n",
    " * __4.Hierarchical Inheritance: Parent Class-Child Class-Child Class.__"
   ]
  },
  {
   "cell_type": "markdown",
   "id": "1235e3b1",
   "metadata": {},
   "source": [
    "# Single Inheritance: When child class is derived from only one parent is called single Inheritance."
   ]
  },
  {
   "cell_type": "code",
   "execution_count": 6,
   "id": "2141bee6",
   "metadata": {},
   "outputs": [
    {
     "name": "stdout",
     "output_type": "stream",
     "text": [
      "Amazon is an Online commerece store.\n"
     ]
    }
   ],
   "source": [
    "# Single Inheritance\n",
    "\n",
    "class Brands:      # parent\n",
    "    brand_name_1='Amazon'\n",
    "    brand_name_2='Flipkart'\n",
    "    brand_name_3='Olx'\n",
    "    \n",
    "class product(Brands):   #child\n",
    "    prod_1=\"Online commerece store.\"\n",
    "    prod_2=\"Online Store.\"\n",
    "    prod_3=\"Online Buy and Sell Store.\"\n",
    "    \n",
    "obj_1=product()\n",
    "\n",
    "print(obj_1.brand_name_1+\" is an \"+obj_1.prod_1)"
   ]
  },
  {
   "cell_type": "markdown",
   "id": "b1bb4ef2",
   "metadata": {},
   "source": [
    "# Multiple Inheritance: When a child class is derived or inherited from more than one parent class is called multiple Inheritance."
   ]
  },
  {
   "cell_type": "code",
   "execution_count": 12,
   "id": "dbc7b9de",
   "metadata": {},
   "outputs": [
    {
     "name": "stdout",
     "output_type": "stream",
     "text": [
      "Amazon is an Online commerece store and its poularity is 100.\n"
     ]
    }
   ],
   "source": [
    "# Multiple Inheritance\n",
    "\n",
    "class Brands:      # parent\n",
    "    brand_name_1='Amazon'\n",
    "    brand_name_2='Flipkart'\n",
    "    brand_name_3='Olx'\n",
    "    \n",
    "class product:   #parent\n",
    "    prod_1=\"Online commerece store\"\n",
    "    prod_2=\"Online Store.\"\n",
    "    prod_3=\"Online Buy and Sell Store.\"\n",
    "    \n",
    "class popularity(Brands,product):\n",
    "    popularity_1='100.'\n",
    "    popularity_2='200'\n",
    "    populairty_3='300'\n",
    "    \n",
    "obj_2=popularity()\n",
    "\n",
    "print(obj_2.brand_name_1+\" is an \"+obj_2.prod_1+\" and its poularity is \"+obj_2.popularity_1)"
   ]
  },
  {
   "cell_type": "markdown",
   "id": "7d9a179e",
   "metadata": {},
   "source": [
    "# Multilevel Inheritance: In Multilevel Inheritance We have one parent class and Child class that is derived or inherited from parent class. When We have grand child class is derived from a child class."
   ]
  },
  {
   "cell_type": "code",
   "execution_count": 3,
   "id": "b39f698e",
   "metadata": {},
   "outputs": [
    {
     "name": "stdout",
     "output_type": "stream",
     "text": [
      "Amazon is an Online commerece store and its popularity is 100.\n"
     ]
    }
   ],
   "source": [
    "class Brands:      # parent\n",
    "    brand_name_1='Amazon'\n",
    "    brand_name_2='Flipkart'\n",
    "    brand_name_3='Olx'\n",
    "    \n",
    "class product(Brands):  # Child\n",
    "    prod_1=\"Online commerece store\"\n",
    "    prod_2=\"Online Store.\"\n",
    "    prod_3=\"Online Buy and Sell Store.\"\n",
    "    \n",
    "class popularity(product):\n",
    "    popularity_1='100.'\n",
    "    popularity_2='200'\n",
    "    populairty_3='300'\n",
    "    \n",
    "obj_2=popularity()\n",
    "print(obj_2.brand_name_1+\" is an \"+obj_2.prod_1+\" and its popularity is \"+obj_2.popularity_1)"
   ]
  },
  {
   "cell_type": "markdown",
   "id": "53568feb",
   "metadata": {},
   "source": [
    "# Hierarchical Inheritance: When class derived or inherits more than once child class from one parent(same) class. Then this type inheritance is called Hierarchical Inheritance."
   ]
  },
  {
   "cell_type": "code",
   "execution_count": 11,
   "id": "cf2edb45",
   "metadata": {},
   "outputs": [
    {
     "name": "stdout",
     "output_type": "stream",
     "text": [
      "Amazon is an Online commerece store and its popularity is 100 and its value is Best Value.\n"
     ]
    }
   ],
   "source": [
    "class Brands:      # parent\n",
    "    brand_name_1='Amazon'\n",
    "    brand_name_2='Flipkart'\n",
    "    brand_name_3='Olx'\n",
    "    \n",
    "class product(Brands):  # Child\n",
    "    prod_1=\"Online commerece store\"\n",
    "    prod_2=\"Online Store\"\n",
    "    prod_3=\"Online Buy and Sell Store\"\n",
    "    \n",
    "class popularity(Brands):\n",
    "    popularity_1='100'\n",
    "    popularity_2='200'\n",
    "    populairty_3='300'\n",
    "    \n",
    "class value(Brands):\n",
    "    prod_value_1=\"Best Value.\"\n",
    "    prod_value_2=\"Better Value.\"\n",
    "    prod_value_3=\"Good Value.\"\n",
    "    \n",
    "obj_1=popularity()\n",
    "obj_2=product()\n",
    "obj_3=value()\n",
    "\n",
    "print(obj_1.brand_name_1+' is an '+obj_2.prod_1+\" and its popularity is \"+obj_1.popularity_1+\" and its value is \"+obj_3.prod_value_1)\n"
   ]
  },
  {
   "cell_type": "code",
   "execution_count": 1,
   "id": "d1697667",
   "metadata": {},
   "outputs": [],
   "source": [
    "# Q1. Write a python program to create a vehicle class with max_speend and Mileage.\n",
    "# Q2. Write a python program to crate a animal class with their properties (legs,ears,nose,tail,food,)\n",
    "\n",
    "# Q3. Create a class student (Person_name,age,student_section,Roll_No,Subject=Mathematics)"
   ]
  },
  {
   "cell_type": "code",
   "execution_count": 2,
   "id": "55905161",
   "metadata": {},
   "outputs": [
    {
     "name": "stdout",
     "output_type": "stream",
     "text": [
      "Name of student is Purushottam\n",
      "Age of the sudent 35 year old.\n",
      "Belong to Section A\n",
      "Roll No of student is 5\n",
      "He teach Mathematics subject\n"
     ]
    }
   ],
   "source": [
    "class Details:\n",
    "    def __init__(x,name, age, student_section, Roll_no, subject):  # <--- Arguments\n",
    "        x.name=name\n",
    "        x.age= age\n",
    "        x.student_section= student_section\n",
    "        x.Roll_no= Roll_no\n",
    "        x.subject=subject\n",
    "        \n",
    "    def msg_details(x):\n",
    "        print(f'Name of student is {x.name}')\n",
    "        print(f'Age of the sudent {x.age} year old.')\n",
    "        print(f'Belong to Section {x.student_section}')\n",
    "        print(f'Roll No of student is {x.Roll_no}')\n",
    "        print(f'He teach {x.subject} subject')\n",
    "        \n",
    "val=Details(\"Purushottam\", 35, \"A\", 5,\"Mathematics\")\n",
    "val.msg_details()"
   ]
  },
  {
   "cell_type": "code",
   "execution_count": 4,
   "id": "3b567b58",
   "metadata": {},
   "outputs": [
    {
     "name": "stdout",
     "output_type": "stream",
     "text": [
      "Vechile name is i.e. Tata.\n",
      "Maximum speed on road 220 KM/hr.\n",
      "Mileage of the Tata vechile is 22 per liter.\n"
     ]
    }
   ],
   "source": [
    "# Write a program to create a vechile class with max_speed and Mileage.\n",
    "\n",
    "class vechile:\n",
    "    def __init__(x, name, max_speed, mileage):\n",
    "        x.name=name\n",
    "        x.max_speed=max_speed\n",
    "        x.mileage= mileage\n",
    "    \n",
    "    def Vechile_details(x):\n",
    "        print(f'Vechile name is i.e. {x.name}.')\n",
    "        print(f'Maximum speed on road {x.max_speed} KM/hr.')\n",
    "        print(f'Mileage of the {x.name} vechile is {x.mileage} per liter.')\n",
    "        \n",
    "val=vechile(\"Tata\", 220, 22)\n",
    "val.Vechile_details()"
   ]
  },
  {
   "cell_type": "code",
   "execution_count": 8,
   "id": "decb9034",
   "metadata": {},
   "outputs": [
    {
     "name": "stdout",
     "output_type": "stream",
     "text": [
      "('The radius of Circle is:', 314.0)\n",
      "('The parameter of radius is:', 62.800000000000004)\n"
     ]
    }
   ],
   "source": [
    "# Write a python program to create a class representing a Circle. \n",
    "# Include methods calculate its area and  and perimeter.\n",
    "pi=3.14\n",
    "y=2\n",
    "class Circle():\n",
    "    def __init__(self, radius):\n",
    "        self.radius = radius\n",
    "\n",
    "    def area(self):\n",
    "        return('The radius of Circle is:',pi*self.radius**y)\n",
    "    \n",
    "    def perimeter(self):\n",
    "        return(\"The parameter of radius is:\",y*self.radius*pi)\n",
    "\n",
    "NewCircle = Circle(10)\n",
    "print(NewCircle.area())\n",
    "print(NewCircle.perimeter())"
   ]
  },
  {
   "cell_type": "code",
   "execution_count": 9,
   "id": "5ee81df4",
   "metadata": {},
   "outputs": [
    {
     "ename": "ModuleNotFoundError",
     "evalue": "No module named 'datatime'",
     "output_type": "error",
     "traceback": [
      "\u001b[1;31m---------------------------------------------------------------------------\u001b[0m",
      "\u001b[1;31mModuleNotFoundError\u001b[0m                       Traceback (most recent call last)",
      "\u001b[1;32m~\\AppData\\Local\\Temp\\ipykernel_9812\\618764986.py\u001b[0m in \u001b[0;36m<module>\u001b[1;34m\u001b[0m\n\u001b[0;32m      2\u001b[0m \u001b[1;31m# date of birth. Implement a method determine person's age.\u001b[0m\u001b[1;33m\u001b[0m\u001b[1;33m\u001b[0m\u001b[0m\n\u001b[0;32m      3\u001b[0m \u001b[1;33m\u001b[0m\u001b[0m\n\u001b[1;32m----> 4\u001b[1;33m \u001b[1;32mfrom\u001b[0m \u001b[0mdatatime\u001b[0m \u001b[1;32mimport\u001b[0m \u001b[0mdate\u001b[0m\u001b[1;33m\u001b[0m\u001b[1;33m\u001b[0m\u001b[0m\n\u001b[0m\u001b[0;32m      5\u001b[0m \u001b[1;33m\u001b[0m\u001b[0m\n\u001b[0;32m      6\u001b[0m \u001b[1;32mclass\u001b[0m \u001b[0mperson\u001b[0m\u001b[1;33m:\u001b[0m\u001b[1;33m\u001b[0m\u001b[1;33m\u001b[0m\u001b[0m\n",
      "\u001b[1;31mModuleNotFoundError\u001b[0m: No module named 'datatime'"
     ]
    }
   ],
   "source": [
    "# Write a python program to create person class. Include attributes like name, country and \n",
    "# date of birth. Implement a method determine person's age.\n",
    "\n",
    "from datatime import date\n",
    "\n",
    "class person:\n",
    "    def __init__(self,name,country,date_of_birth):\n",
    "        self.name=name\n",
    "        self.country=country\n",
    "        self.date_of_birth=date_of_birth\n",
    "        \n",
    "    def age(self):\n",
    "        today=date.today()\n",
    "        age_1=today.year-self.date_of_birth.year\n",
    "        if today<date(today.year,self.date_of_birth.month,self.date_of_birth.day):\n",
    "            age_1-=1\n",
    "        return age_1\n",
    "person_1=(\"Purushottam\",\"India\",date(1985,7,12))\n",
    "person_2=(\"Shweta\",\"France\",date(1982,10,20))\n",
    "\n",
    "print(person_1.name)\n",
    "        "
   ]
  },
  {
   "cell_type": "code",
   "execution_count": 11,
   "id": "a3ad1591",
   "metadata": {},
   "outputs": [
    {
     "ename": "ModuleNotFoundError",
     "evalue": "No module named 'datatime'",
     "output_type": "error",
     "traceback": [
      "\u001b[1;31m---------------------------------------------------------------------------\u001b[0m",
      "\u001b[1;31mModuleNotFoundError\u001b[0m                       Traceback (most recent call last)",
      "\u001b[1;32m~\\AppData\\Local\\Temp\\ipykernel_9812\\3925178394.py\u001b[0m in \u001b[0;36m<module>\u001b[1;34m\u001b[0m\n\u001b[1;32m----> 1\u001b[1;33m \u001b[1;32mfrom\u001b[0m \u001b[0mdatatime\u001b[0m \u001b[1;32mimport\u001b[0m \u001b[0mdate\u001b[0m\u001b[1;33m\u001b[0m\u001b[1;33m\u001b[0m\u001b[0m\n\u001b[0m",
      "\u001b[1;31mModuleNotFoundError\u001b[0m: No module named 'datatime'"
     ]
    }
   ],
   "source": [
    "from datatime import date"
   ]
  },
  {
   "cell_type": "code",
   "execution_count": null,
   "id": "57c331b2",
   "metadata": {},
   "outputs": [],
   "source": []
  }
 ],
 "metadata": {
  "kernelspec": {
   "display_name": "Python 3 (ipykernel)",
   "language": "python",
   "name": "python3"
  },
  "language_info": {
   "codemirror_mode": {
    "name": "ipython",
    "version": 3
   },
   "file_extension": ".py",
   "mimetype": "text/x-python",
   "name": "python",
   "nbconvert_exporter": "python",
   "pygments_lexer": "ipython3",
   "version": "3.9.13"
  }
 },
 "nbformat": 4,
 "nbformat_minor": 5
}
