{
 "cells": [
  {
   "cell_type": "markdown",
   "id": "af449cb7",
   "metadata": {},
   "source": [
    "# 10. Exception Handling in Python\n",
    "\n",
    "\n",
    " * __An exception is an event, which occurs during the exceution of a program that disrupts the normal flow of the program's instructions.__\n",
    " * __In general, When a Python Scripts Encounters a situation that it cannot cope with, it raises an exception.__\n",
    " * __An exception is a Python object that represent an error.__\n",
    " * __When a Python script raises an exception, it must either handle the exception immediately otherwise it terminates and quits.__\n",
    " * __If you have some suspicious code that may raise an exception, you can defend your program by placing the suspicious code in try:block.__\n",
    " * __After the try:block, include an except: statement, followed by a block of code which handles the problem as elegantly as possible.__\n",
    " \n",
    " \n",
    " \n",
    "# Common exceptions\n",
    "\n",
    " * __ZeroDivisonError__\n",
    " * __NameError__\n",
    " * __ValueError__\n",
    " * __IOError__\n",
    " * __EOFError__\n",
    " * __IdentationError__"
   ]
  },
  {
   "cell_type": "code",
   "execution_count": 3,
   "id": "bc6358ad",
   "metadata": {},
   "outputs": [
    {
     "name": "stdout",
     "output_type": "stream",
     "text": [
      "This code gives a ZeroDivisionError.\n"
     ]
    }
   ],
   "source": [
    "try:\n",
    "    1/0\n",
    "except ZeroDivisionError:\n",
    "    print(\"This code gives a ZeroDivisionError.\")"
   ]
  },
  {
   "cell_type": "code",
   "execution_count": 6,
   "id": "3946d49e",
   "metadata": {},
   "outputs": [
    {
     "name": "stdout",
     "output_type": "stream",
     "text": [
      "This code also give a ZeroDivisionError.\n"
     ]
    }
   ],
   "source": [
    "try:\n",
    "\n",
    "    True/False  #1/0\n",
    "    \n",
    "except ZeroDivisionError:\n",
    "    print(\"This code also give a ZeroDivisionError.\")\n"
   ]
  },
  {
   "cell_type": "code",
   "execution_count": null,
   "id": "9e864cbf",
   "metadata": {},
   "outputs": [],
   "source": []
  }
 ],
 "metadata": {
  "kernelspec": {
   "display_name": "Python 3 (ipykernel)",
   "language": "python",
   "name": "python3"
  },
  "language_info": {
   "codemirror_mode": {
    "name": "ipython",
    "version": 3
   },
   "file_extension": ".py",
   "mimetype": "text/x-python",
   "name": "python",
   "nbconvert_exporter": "python",
   "pygments_lexer": "ipython3",
   "version": "3.9.13"
  }
 },
 "nbformat": 4,
 "nbformat_minor": 5
}
