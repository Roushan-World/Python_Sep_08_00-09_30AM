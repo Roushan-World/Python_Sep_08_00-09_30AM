{
 "cells": [
  {
   "cell_type": "markdown",
   "id": "38a72286",
   "metadata": {},
   "source": [
    "# 7. Conditions in Python\n",
    "\n",
    " * ___Comparison Operations compare some value or operand and based on a condition, produce a Boolean. Python has six comparison operators as below:__\n",
    " \n",
    " * __Less than(<)__\n",
    " * __Less than or equal to(<=)__\n",
    " * __Greater than(>)__\n",
    " * __Greater than or equal to(>=)__\n",
    " * __Equal to (==)__\n",
    " * __Not equal to (!=)__\n",
    " \n",
    " \n",
    "# Branching (if,elif,else)\n",
    "\n",
    " * __Decision making is required when we want to execute a code only if a certain condition is satisfied.__\n",
    " * __The if/elif/else statement is used in Python for decision making.__\n",
    " * __An else statement can be combined with an if statement.__\n",
    " * __An else statement contains the block of code that executes if the conditional expression in the if statement resolves to 0 or a False value.__\n",
    " * __The else statement is an optional statement and there could be at most only one else statement following if.__\n",
    " * __The elif statement allows you to check multiple expressions for True and execute a block of code as soon as one of the conditions evaluates to True.__\n",
    " * __Similar to the else, the elif statement is optional.__\n",
    " * __However, unlike else, for which there can be at most one statement, there can be an arbitrary number of elif statements following an if.__\n",
    " \n",
    " \n",
    " \n",
    "    if condition:\n",
    "        statement\n",
    "        statement\n",
    "    else:\n",
    "        statement\n",
    "        "
   ]
  },
  {
   "cell_type": "code",
   "execution_count": 5,
   "id": "223a37c2",
   "metadata": {},
   "outputs": [
    {
     "name": "stdout",
     "output_type": "stream",
     "text": [
      "The number 3.14 is greater than the ratio 1.618\n"
     ]
    }
   ],
   "source": [
    "pi=3.14\n",
    "ratio=1.618\n",
    "\n",
    "if pi>ratio:\n",
    "    print(f'The number {pi} is greater than the ratio {ratio}')\n",
    "    \n",
    "else:\n",
    "    print(f'The number {ratio} is greater than the number {pi}')"
   ]
  },
  {
   "cell_type": "code",
   "execution_count": 13,
   "id": "cd0db716",
   "metadata": {},
   "outputs": [
    {
     "name": "stdout",
     "output_type": "stream",
     "text": [
      "You should go to kindergarten.\n"
     ]
    }
   ],
   "source": [
    "age=5.1\n",
    "\n",
    "if age>6:\n",
    "    print('You can go to primary school.')\n",
    "    \n",
    "elif age>=5:\n",
    "    print('You should go to kindergarten.')\n",
    "    \n",
    "\n",
    "else:\n",
    "    print('You are a baby.')"
   ]
  },
  {
   "cell_type": "code",
   "execution_count": 16,
   "id": "dbab4ec4",
   "metadata": {},
   "outputs": [
    {
     "name": "stdout",
     "output_type": "stream",
     "text": [
      "Enter your age:15\n",
      "You Can not vote\n"
     ]
    }
   ],
   "source": [
    "# Write a program to find person is elegible for voting or not?\n",
    "\n",
    "age=int(input('Enter your age:'))\n",
    "\n",
    "if age>=18:\n",
    "    print('You Can Vote')\n",
    "else:\n",
    "    print('You Can not vote')"
   ]
  },
  {
   "cell_type": "code",
   "execution_count": 2,
   "id": "711f7041",
   "metadata": {},
   "outputs": [
    {
     "name": "stdout",
     "output_type": "stream",
     "text": [
      "Enter your movie rating:6.9\n",
      "You can not watch this.\n"
     ]
    }
   ],
   "source": [
    "# Write a program to find the movie rating if movie rating is greater than 7.0/10.0\n",
    "# then you can watch this movie otherwise you can not watch.\n",
    "\n",
    "\n",
    "rating=float(input('Enter your movie rating:'))\n",
    "\n",
    "if rating>7:\n",
    "    print('You can watch this movie')\n",
    "else:\n",
    "    print('You can not watch this.')"
   ]
  },
  {
   "cell_type": "code",
   "execution_count": 4,
   "id": "2f8a8b1b",
   "metadata": {},
   "outputs": [
    {
     "name": "stdout",
     "output_type": "stream",
     "text": [
      "Enter any number266\n",
      "Even Number\n"
     ]
    }
   ],
   "source": [
    "# Write a program to check whether a number is entered by a user is even or odd.\n",
    "\n",
    "\n",
    "num=int(input('Enter any number'))\n",
    "\n",
    "if num%2==0:\n",
    "    print('Even Number')\n",
    "else:\n",
    "    print('Odd Number')"
   ]
  },
  {
   "cell_type": "code",
   "execution_count": 9,
   "id": "353a11e9",
   "metadata": {},
   "outputs": [
    {
     "name": "stdout",
     "output_type": "stream",
     "text": [
      "Enter first age: 88\n",
      "Enter Second age: 88\n",
      "Enter Third age: 88\n",
      "88,88 and 88 all are equal\n"
     ]
    }
   ],
   "source": [
    "# Accept the age of three input from user and find greatest one.\n",
    "\n",
    "x=int(input('Enter first age: '))\n",
    "y=int(input('Enter Second age: '))\n",
    "z=int(input('Enter Third age: '))\n",
    "\n",
    "\n",
    "if x>y and x>z:\n",
    "    print(f'{x} is greater than {y} and {z}')\n",
    "elif y>x and y>z:\n",
    "    print(f'{y} is greater than {x} and {z}')\n",
    "elif z>x and z>y:\n",
    "    print(f'{z} is greater than {x} and {y}')\n",
    "else:\n",
    "    print(f'{x},{y} and {z} all are equal')"
   ]
  },
  {
   "cell_type": "code",
   "execution_count": 11,
   "id": "fdbf4ffa",
   "metadata": {},
   "outputs": [
    {
     "name": "stdout",
     "output_type": "stream",
     "text": [
      "Kindly enter you board exam percentage: 95\n",
      "You are excellent\n"
     ]
    }
   ],
   "source": [
    "# Write a program to accept percentage and display the category according to the following criteria:\n",
    "# Percentage---------------------> Category\n",
    "# <40 ---------------------------> \"Failed\"\n",
    "# >=40 and <55 ------------------> \"Fair\"\n",
    "# >=55 and <65 ------------------> \"Good\"\n",
    "# >= 65--------------------------> \"Excellent\"\n",
    "\n",
    "\n",
    "per=float(input(\"Kindly enter you board exam percentage: \"))\n",
    "if per<40:\n",
    "    print(\"Sorry, You are Failed\")\n",
    "elif per>=40 and per<55:\n",
    "    print(\"you are fair\")\n",
    "elif per>=55 and per<65:\n",
    "    print(\"You are Good\")\n",
    "elif per>=65:\n",
    "    print('You are excellent')\n",
    "else:\n",
    "    print('enter you percentage between 0 to 100')"
   ]
  },
  {
   "cell_type": "code",
   "execution_count": 2,
   "id": "c1c38c1c",
   "metadata": {},
   "outputs": [
    {
     "name": "stdout",
     "output_type": "stream",
     "text": [
      "Enter the number between 1 to 7:9\n",
      "Invalid Number\n"
     ]
    }
   ],
   "source": [
    "# Write a program to accept a number from 1 to 7 and display the name of the day like 1 for Sunday, 2 for Monday and so on.\n",
    "ent=int(input('Enter the number between 1 to 7:'))\n",
    "\n",
    "if ent==1:\n",
    "    print('It sunday')\n",
    "elif ent==2:\n",
    "    print('It Monday')\n",
    "elif ent==3:\n",
    "    print('It Tuesday')\n",
    "elif ent==4:\n",
    "    print('It Wednesday')\n",
    "elif ent==5:\n",
    "    print('It Thursday')\n",
    "elif ent==6:\n",
    "    print('It Friday')\n",
    "elif ent==7:\n",
    "    print('It Saturday')\n",
    "else:\n",
    "    print('Invalid Number')"
   ]
  },
  {
   "cell_type": "code",
   "execution_count": 3,
   "id": "8e5fb931",
   "metadata": {},
   "outputs": [],
   "source": [
    "# Write a program to find the month name using number 1='January'"
   ]
  },
  {
   "cell_type": "code",
   "execution_count": 6,
   "id": "4d578a57",
   "metadata": {},
   "outputs": [
    {
     "name": "stdout",
     "output_type": "stream",
     "text": [
      "Enter the city name please:DelHI\n",
      "Famuos Monument in city is Redfort:\n"
     ]
    }
   ],
   "source": [
    "# Accept any city from the user and displays monumnets of the city.\n",
    "\n",
    "# City-----------------------------> Monuments\n",
    "# \"Delhi\"--------------------------> \"RedFort\"\n",
    "# \"Agra\"---------------------------> \"TajMahal\"\n",
    "# \"Jaipur\"-------------------------> \"JalMahal,HawaMahal\"\n",
    "# \"AmritSar\"-----------------------> \"Golden Temple\"\n",
    "# \"Madurai\"------------------------> \"Meenakshi Temple\"\n",
    "# \"Mysore\"-------------------------> \"Mysore Palace\"\n",
    "# \"Mumbai\"-------------------------> \"Gateway Of India\"\n",
    "# \"Sanchi\"-------------------------> \"Sanchi Stupa\"\n",
    "# \"Hydrabad\"-----------------------> \"Charminar\"\n",
    "\n",
    "\n",
    "ent=(input(\"Enter the city name please:\"))\n",
    "\n",
    "if ent.lower()=='delhi':\n",
    "    print(\"Famuos Monument in city is Redfort:\")\n",
    "elif ent.lower()=='agra':\n",
    "    print(\"Famuos Monument in city is TajMahal:\")\n",
    "elif ent.lower()=='jaipur':\n",
    "    print(\"Famuos Monument in city is JalMahal,HawaMahal:\")\n",
    "elif ent.lower()=='amritsar':\n",
    "    print(\"Famuos Monument in city is Golden Temple:\")\n",
    "elif ent.lower()=='madurai':\n",
    "    print(\"Famuos Monument in city is Meenakshi Temple:\")\n",
    "elif ent.lower()=='mysore':\n",
    "    print(\"Famuos Monument in city is Mysore Palace:\")\n",
    "elif ent.lower()=='mumbai':\n",
    "    print(\"Famuos Monument in city is Gateway Of India:\")\n",
    "elif ent.lower()=='sanchi':\n",
    "    print(\"Famuos Monument in city is Sanchi Stupa:\")\n",
    "elif ent.lower()=='hydrabad':\n",
    "    print(\"Famuos Monument in city is Charminar:\")\n",
    "else:\n",
    "    print(\"Please check the correct name of the city\")"
   ]
  },
  {
   "cell_type": "code",
   "execution_count": null,
   "id": "9157a0dd",
   "metadata": {},
   "outputs": [],
   "source": []
  }
 ],
 "metadata": {
  "kernelspec": {
   "display_name": "Python 3 (ipykernel)",
   "language": "python",
   "name": "python3"
  },
  "language_info": {
   "codemirror_mode": {
    "name": "ipython",
    "version": 3
   },
   "file_extension": ".py",
   "mimetype": "text/x-python",
   "name": "python",
   "nbconvert_exporter": "python",
   "pygments_lexer": "ipython3",
   "version": "3.9.13"
  }
 },
 "nbformat": 4,
 "nbformat_minor": 5
}
