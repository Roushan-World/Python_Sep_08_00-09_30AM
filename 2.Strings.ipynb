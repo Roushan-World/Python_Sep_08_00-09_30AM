{
 "cells": [
  {
   "cell_type": "markdown",
   "id": "2a758d2a",
   "metadata": {},
   "source": [
    "# 2. Strings"
   ]
  },
  {
   "cell_type": "code",
   "execution_count": 1,
   "id": "d90ac253",
   "metadata": {},
   "outputs": [
    {
     "data": {
      "text/plain": [
       "'Hello World'"
      ]
     },
     "execution_count": 1,
     "metadata": {},
     "output_type": "execute_result"
    }
   ],
   "source": [
    "# Employ double quotation marks for describing a string.\n",
    "\n",
    "\n",
    "\"Hello World\""
   ]
  },
  {
   "cell_type": "code",
   "execution_count": 2,
   "id": "91896c99",
   "metadata": {},
   "outputs": [
    {
     "data": {
      "text/plain": [
       "'Hello World'"
      ]
     },
     "execution_count": 2,
     "metadata": {},
     "output_type": "execute_result"
    }
   ],
   "source": [
    "'Hello World'"
   ]
  },
  {
   "cell_type": "code",
   "execution_count": 3,
   "id": "bc27ec1a",
   "metadata": {},
   "outputs": [
    {
     "data": {
      "text/plain": [
       "' 3 1 2 5 4 5 5 '"
      ]
     },
     "execution_count": 3,
     "metadata": {},
     "output_type": "execute_result"
    }
   ],
   "source": [
    "' 3 1 2 5 4 5 5 '   "
   ]
  },
  {
   "cell_type": "code",
   "execution_count": 4,
   "id": "f2ca5aa6",
   "metadata": {},
   "outputs": [
    {
     "data": {
      "text/plain": [
       "'@ # $ % ^ & *'"
      ]
     },
     "execution_count": 4,
     "metadata": {},
     "output_type": "execute_result"
    }
   ],
   "source": [
    "'@ # $ % ^ & *'"
   ]
  },
  {
   "cell_type": "code",
   "execution_count": 5,
   "id": "b15fb449",
   "metadata": {},
   "outputs": [
    {
     "name": "stdout",
     "output_type": "stream",
     "text": [
      "Hello World\n"
     ]
    }
   ],
   "source": [
    "# Assigning the value to a variable\n",
    "\n",
    "msg='Hello World'\n",
    "print(msg)"
   ]
  },
  {
   "cell_type": "code",
   "execution_count": 6,
   "id": "a9070725",
   "metadata": {},
   "outputs": [
    {
     "name": "stdout",
     "output_type": "stream",
     "text": [
      "Hello World\n"
     ]
    }
   ],
   "source": [
    "# Printing the first element in a string.\n",
    "\n",
    "message='Hello World'\n",
    "print(message)"
   ]
  },
  {
   "cell_type": "code",
   "execution_count": 11,
   "id": "a878dcd8",
   "metadata": {},
   "outputs": [
    {
     "name": "stdout",
     "output_type": "stream",
     "text": [
      "H\n",
      "e\n",
      "l\n",
      "l\n",
      "o\n",
      " \n",
      "W\n",
      "o\n",
      "r\n",
      "l\n",
      "d\n"
     ]
    }
   ],
   "source": [
    "print(message[0])\n",
    "print(message[1])\n",
    "print(message[2])\n",
    "print(message[3])\n",
    "print(message[4])\n",
    "print(message[5])\n",
    "print(message[6])\n",
    "print(message[7])\n",
    "print(message[8])\n",
    "print(message[9])\n",
    "print(message[10])\n"
   ]
  },
  {
   "cell_type": "code",
   "execution_count": 23,
   "id": "ee0ce8e1",
   "metadata": {},
   "outputs": [
    {
     "name": "stdout",
     "output_type": "stream",
     "text": [
      "Positive index of first element is: H \n",
      "Negative Index of First element is: H\n",
      "Positive index of first element is: e \n",
      "Negative Index of First element is: e\n",
      "Positive index of first element is: l \n",
      "Negative Index of First element is: l\n",
      "Positive index of first element is: l \n",
      "Negative Index of First element is: l\n",
      "Positive index of first element is: o \n",
      "Negative Index of First element is: o\n",
      "Positive index of first element is:   \n",
      "Negative Index of First element is:  \n",
      "Positive index of first element is: W \n",
      "Negative Index of First element is: W\n",
      "Positive index of first element is: o \n",
      "Negative Index of First element is: o\n",
      "Positive index of first element is: r \n",
      "Negative Index of First element is: r\n",
      "Positive index of first element is: l \n",
      "Negative Index of First element is: l\n",
      "Positive index of first element is: d \n",
      "Negative Index of First element is: d\n"
     ]
    }
   ],
   "source": [
    "print('Positive index of first element is:',message[0],'\\nNegative Index of First element is:',message[-11])\n",
    "print('Positive index of first element is:',message[1],'\\nNegative Index of First element is:',message[-10])\n",
    "print('Positive index of first element is:',message[2],'\\nNegative Index of First element is:',message[-9])\n",
    "print('Positive index of first element is:',message[3],'\\nNegative Index of First element is:',message[-8])\n",
    "print('Positive index of first element is:',message[4],'\\nNegative Index of First element is:',message[-7])\n",
    "print('Positive index of first element is:',message[5],'\\nNegative Index of First element is:',message[-6])\n",
    "print('Positive index of first element is:',message[6],'\\nNegative Index of First element is:',message[-5])\n",
    "print('Positive index of first element is:',message[7],'\\nNegative Index of First element is:',message[-4])\n",
    "print('Positive index of first element is:',message[8],'\\nNegative Index of First element is:',message[-3])\n",
    "print('Positive index of first element is:',message[9],'\\nNegative Index of First element is:',message[-2])\n",
    "print('Positive index of first element is:',message[10],'\\nNegative Index of First element is:',message[-1])"
   ]
  },
  {
   "cell_type": "code",
   "execution_count": 25,
   "id": "12708659",
   "metadata": {},
   "outputs": [
    {
     "name": "stdout",
     "output_type": "stream",
     "text": [
      "11\n"
     ]
    }
   ],
   "source": [
    "message\n",
    "print(len(message))"
   ]
  },
  {
   "cell_type": "code",
   "execution_count": 28,
   "id": "1db53f42",
   "metadata": {},
   "outputs": [
    {
     "name": "stdout",
     "output_type": "stream",
     "text": [
      "Hello World\n",
      "Hello \n"
     ]
    }
   ],
   "source": [
    "# Slicing of a string\n",
    "\n",
    "print(message)\n",
    "\n",
    "print(message[0:6])"
   ]
  },
  {
   "cell_type": "code",
   "execution_count": 34,
   "id": "053b3d8f",
   "metadata": {},
   "outputs": [
    {
     "name": "stdout",
     "output_type": "stream",
     "text": [
      "Hello World\n",
      "Hello World\n",
      "World\n",
      "Hlo\n"
     ]
    }
   ],
   "source": [
    "print(message[0:11])\n",
    "print(message[:])\n",
    "print(message[6:11])\n",
    "\n",
    "print(message[0:5:2])"
   ]
  },
  {
   "cell_type": "code",
   "execution_count": 36,
   "id": "5672cef1",
   "metadata": {},
   "outputs": [
    {
     "name": "stdout",
     "output_type": "stream",
     "text": [
      "HloWrd\n"
     ]
    }
   ],
   "source": [
    "print(message[::2])"
   ]
  },
  {
   "cell_type": "code",
   "execution_count": 4,
   "id": "b11c4a46",
   "metadata": {},
   "outputs": [
    {
     "name": "stdout",
     "output_type": "stream",
     "text": [
      "Wl\n"
     ]
    }
   ],
   "source": [
    "x='Welcome'\n",
    "\n",
    "print(x[0:3:2])"
   ]
  },
  {
   "cell_type": "code",
   "execution_count": 6,
   "id": "c463b138",
   "metadata": {},
   "outputs": [
    {
     "name": "stdout",
     "output_type": "stream",
     "text": [
      "HloPto\n"
     ]
    }
   ],
   "source": [
    "y='Hello Python'\n",
    "print(y[0::2])"
   ]
  },
  {
   "cell_type": "code",
   "execution_count": 8,
   "id": "814bd4e3",
   "metadata": {},
   "outputs": [
    {
     "data": {
      "text/plain": [
       "'Hello Python'"
      ]
     },
     "execution_count": 8,
     "metadata": {},
     "output_type": "execute_result"
    }
   ],
   "source": [
    "y"
   ]
  },
  {
   "cell_type": "code",
   "execution_count": 10,
   "id": "ef756452",
   "metadata": {},
   "outputs": [
    {
     "name": "stdout",
     "output_type": "stream",
     "text": [
      "nohtyP olleH\n"
     ]
    }
   ],
   "source": [
    "print(y[::-1])"
   ]
  },
  {
   "cell_type": "markdown",
   "id": "bf7e88c2",
   "metadata": {},
   "source": [
    "# Concatenate of string"
   ]
  },
  {
   "cell_type": "code",
   "execution_count": 14,
   "id": "4b1121ac",
   "metadata": {},
   "outputs": [
    {
     "name": "stdout",
     "output_type": "stream",
     "text": [
      "Pooja Ranbagul\n"
     ]
    }
   ],
   "source": [
    "first_name='Pooja '\n",
    "last_name='Ranbagul'\n",
    "\n",
    "fullname=first_name+last_name\n",
    "print(fullname)"
   ]
  },
  {
   "cell_type": "code",
   "execution_count": 17,
   "id": "a3f990d6",
   "metadata": {},
   "outputs": [
    {
     "name": "stdout",
     "output_type": "stream",
     "text": [
      "hello world how many people are living on the earth?\n"
     ]
    }
   ],
   "source": [
    "message='hello world '\n",
    "questions='how many people are living on the earth?'\n",
    "statement=message+questions\n",
    "print(statement)"
   ]
  },
  {
   "cell_type": "markdown",
   "id": "e6fda2ef",
   "metadata": {},
   "source": [
    "# Escape sequence"
   ]
  },
  {
   "cell_type": "code",
   "execution_count": 28,
   "id": "049e00fe",
   "metadata": {},
   "outputs": [
    {
     "name": "stdout",
     "output_type": "stream",
     "text": [
      "Hello World\n",
      "How many people are living on the earth?\n"
     ]
    }
   ],
   "source": [
    "print('Hello World\\nHow many people are living on the earth?')   #\\n-------> New line"
   ]
  },
  {
   "cell_type": "code",
   "execution_count": 30,
   "id": "cf79043b",
   "metadata": {},
   "outputs": [
    {
     "name": "stdout",
     "output_type": "stream",
     "text": [
      "Hello World\tHow many people are living on the earth?\n"
     ]
    }
   ],
   "source": [
    "print('Hello World\\tHow many people are living on the earth?')  #\\t---------> tab"
   ]
  },
  {
   "cell_type": "markdown",
   "id": "e45bc6ba",
   "metadata": {},
   "source": [
    "# Python String Methods"
   ]
  },
  {
   "cell_type": "code",
   "execution_count": 39,
   "id": "6bae62a9",
   "metadata": {},
   "outputs": [
    {
     "name": "stdout",
     "output_type": "stream",
     "text": [
      "Hello world\n",
      "hello world\n",
      "HELLO WORLD\n",
      "1\n",
      "0\n",
      "6\n"
     ]
    }
   ],
   "source": [
    "# capitalize method\n",
    "x='hello WORLD'\n",
    "print(x.capitalize())\n",
    "\n",
    "# lower()\n",
    "\n",
    "print(x.lower())\n",
    "\n",
    "# upper\n",
    "\n",
    "print(x.upper())\n",
    "\n",
    "# count\n",
    "\n",
    "print(x.count('o'))\n",
    "\n",
    "# index\n",
    "print(x.index('h'))\n",
    "\n",
    "# find\n",
    "print(x.find('W'))\n",
    "\n",
    "\n",
    "\n"
   ]
  },
  {
   "cell_type": "code",
   "execution_count": 41,
   "id": "d2946d8b",
   "metadata": {},
   "outputs": [
    {
     "name": "stdout",
     "output_type": "stream",
     "text": [
      "05/09/2023\n",
      "05-09-2023\n"
     ]
    }
   ],
   "source": [
    "# replace\n",
    "x='05/09/2023'  # '05-09-2023'\n",
    "\n",
    "print(x)\n",
    "\n",
    "print(x.replace('/','-'))\n"
   ]
  },
  {
   "cell_type": "code",
   "execution_count": 44,
   "id": "a34bda51",
   "metadata": {},
   "outputs": [
    {
     "name": "stdout",
     "output_type": "stream",
     "text": [
      "['05', '09', '2023']\n"
     ]
    }
   ],
   "source": [
    "# Split\n",
    "y='05/09/2023'\n",
    "\n",
    "print(y.split('/'))"
   ]
  },
  {
   "cell_type": "code",
   "execution_count": 46,
   "id": "11976170",
   "metadata": {},
   "outputs": [
    {
     "name": "stdout",
     "output_type": "stream",
     "text": [
      "True\n",
      "False\n"
     ]
    }
   ],
   "source": [
    "# isalnum\n",
    "\n",
    "z='abc123'\n",
    "\n",
    "print(z.isalnum())\n",
    "print(z.isnumeric())"
   ]
  },
  {
   "cell_type": "code",
   "execution_count": 49,
   "id": "29092e56",
   "metadata": {},
   "outputs": [
    {
     "name": "stdout",
     "output_type": "stream",
     "text": [
      "True\n",
      "True\n"
     ]
    }
   ],
   "source": [
    "z1='123346'\n",
    "print(z1.isnumeric())\n",
    "print(z1.isalnum())"
   ]
  },
  {
   "cell_type": "code",
   "execution_count": 51,
   "id": "1dba16bd",
   "metadata": {},
   "outputs": [
    {
     "name": "stdout",
     "output_type": "stream",
     "text": [
      "True\n",
      "False\n"
     ]
    }
   ],
   "source": [
    "z2='hello world'\n",
    "print(z2.islower())\n",
    "print(z2.isupper())"
   ]
  },
  {
   "cell_type": "code",
   "execution_count": 53,
   "id": "24a58f30",
   "metadata": {},
   "outputs": [
    {
     "name": "stdout",
     "output_type": "stream",
     "text": [
      "True\n",
      "False\n"
     ]
    }
   ],
   "source": [
    "z3='HELLO WORLD'\n",
    "print(z3.isupper())\n",
    "print(z3.islower())"
   ]
  },
  {
   "cell_type": "code",
   "execution_count": null,
   "id": "e931bee7",
   "metadata": {},
   "outputs": [],
   "source": []
  }
 ],
 "metadata": {
  "kernelspec": {
   "display_name": "Python 3 (ipykernel)",
   "language": "python",
   "name": "python3"
  },
  "language_info": {
   "codemirror_mode": {
    "name": "ipython",
    "version": 3
   },
   "file_extension": ".py",
   "mimetype": "text/x-python",
   "name": "python",
   "nbconvert_exporter": "python",
   "pygments_lexer": "ipython3",
   "version": "3.9.13"
  }
 },
 "nbformat": 4,
 "nbformat_minor": 5
}
