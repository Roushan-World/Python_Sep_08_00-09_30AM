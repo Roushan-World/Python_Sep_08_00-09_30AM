{
 "cells": [
  {
   "cell_type": "markdown",
   "id": "f2413f03",
   "metadata": {},
   "source": [
    "# 6. Dictionaries in Python\n",
    "\n",
    "\n",
    " * __Dictionaries are used to store data values in key:value pair.__\n",
    " * __A dicitonary is a collection which is ordered, changeable or mutable and do not allow duplicates.__\n",
    " * __Dictionary items are ordered, changeable, and does not allow duplicates.__\n",
    " * __Dictionary are presented in key:value pair, and can be referred to by using the key name.__\n",
    " * __Dictionaries are changeable, meaning that we can change, add or remove items after the dictionary has been created.__\n",
    " * __Dictionaries can not have two items with the same key.__\n",
    " * __A dictionary can nested and can contain another dictionary.__\n",
    " \n",
    " \n",
    "     * __Key__---------------__Values__\n",
    "     * __'name'__------------__'John'__\n",
    "     * __'age'__------------__25__\n",
    "     * __'job'__------------__'Dev'__\n",
    "     * __'city'__-----------__'New York'__\n",
    "     * __'email'__---------__'bob@web.com'__"
   ]
  },
  {
   "cell_type": "code",
   "execution_count": 2,
   "id": "e47d3fb0",
   "metadata": {},
   "outputs": [
    {
     "data": {
      "text/plain": [
       "{'key_1': 3.14,\n",
       " 'key_2': 1.618,\n",
       " 'key_3': True,\n",
       " 'key_4': [3.14, 1.618],\n",
       " 'key_5': (3.14, 1.618),\n",
       " 'key_6': 2023,\n",
       " (3.14, 1.618): 'Pi and ratio'}"
      ]
     },
     "execution_count": 2,
     "metadata": {},
     "output_type": "execute_result"
    }
   ],
   "source": [
    "sample_dict={'key_1':3.14,'key_2':1.618,\n",
    "            'key_3':True,'key_4':[3.14,1.618],\n",
    "            'key_5':(3.14,1.618),'key_6':2023,(3.14,1.618):'Pi and ratio'}\n",
    "sample_dict"
   ]
  },
  {
   "cell_type": "code",
   "execution_count": 3,
   "id": "67ddfce4",
   "metadata": {},
   "outputs": [
    {
     "data": {
      "text/plain": [
       "dict_keys(['key_1', 'key_2', 'key_3', 'key_4', 'key_5', 'key_6', (3.14, 1.618)])"
      ]
     },
     "execution_count": 3,
     "metadata": {},
     "output_type": "execute_result"
    }
   ],
   "source": [
    "sample_dict.keys()"
   ]
  },
  {
   "cell_type": "code",
   "execution_count": 4,
   "id": "40e4d984",
   "metadata": {},
   "outputs": [
    {
     "data": {
      "text/plain": [
       "dict_values([3.14, 1.618, True, [3.14, 1.618], (3.14, 1.618), 2023, 'Pi and ratio'])"
      ]
     },
     "execution_count": 4,
     "metadata": {},
     "output_type": "execute_result"
    }
   ],
   "source": [
    "sample_dict.values()"
   ]
  },
  {
   "cell_type": "markdown",
   "id": "1053491c",
   "metadata": {},
   "source": [
    "# Note:\n",
    "\n",
    " * __As you see that the whole dictionary is enclosed in curly braces, each key is separated from its value by a colomn \":\", and commas are used to separate the items in the dictionary.__"
   ]
  },
  {
   "cell_type": "code",
   "execution_count": 14,
   "id": "1c5e7eb6",
   "metadata": {},
   "outputs": [
    {
     "name": "stdout",
     "output_type": "stream",
     "text": [
      "3.14\n",
      "1.618\n",
      "True\n",
      "[3.14, 1.618]\n",
      "(3.14, 1.618)\n",
      "2023\n",
      "Pi and ratio\n"
     ]
    }
   ],
   "source": [
    "# Accessing to the value using the key\n",
    "\n",
    "print(sample_dict['key_1'])\n",
    "print(sample_dict['key_2'])\n",
    "print(sample_dict['key_3'])\n",
    "print(sample_dict['key_4'])\n",
    "print(sample_dict['key_5'])\n",
    "print(sample_dict['key_6'])\n",
    "print(sample_dict[(3.14, 1.618)])    # key can be any immutable object like tuple."
   ]
  },
  {
   "cell_type": "code",
   "execution_count": 1,
   "id": "0e964ba8",
   "metadata": {},
   "outputs": [
    {
     "data": {
      "text/plain": [
       "{'name': 'xyz', 'age': 22, 'email': 'xyz@gmail.com', 'contact': 8523697410}"
      ]
     },
     "execution_count": 1,
     "metadata": {},
     "output_type": "execute_result"
    }
   ],
   "source": [
    "# Take a sample dictionary\n",
    "\n",
    "details={'name':'xyz','age':22,'email':'xyz@gmail.com',\n",
    "        'contact':8523697410}\n",
    "details"
   ]
  },
  {
   "cell_type": "code",
   "execution_count": 2,
   "id": "bdc424cd",
   "metadata": {},
   "outputs": [
    {
     "data": {
      "text/plain": [
       "dict_keys(['name', 'age', 'email', 'contact'])"
      ]
     },
     "execution_count": 2,
     "metadata": {},
     "output_type": "execute_result"
    }
   ],
   "source": [
    "details.keys()"
   ]
  },
  {
   "cell_type": "code",
   "execution_count": 3,
   "id": "00b5aa8a",
   "metadata": {},
   "outputs": [
    {
     "data": {
      "text/plain": [
       "dict_values(['xyz', 22, 'xyz@gmail.com', 8523697410])"
      ]
     },
     "execution_count": 3,
     "metadata": {},
     "output_type": "execute_result"
    }
   ],
   "source": [
    "details.values()"
   ]
  },
  {
   "cell_type": "markdown",
   "id": "8939785d",
   "metadata": {},
   "source": [
    "# Addition of a new key:value pair in the dictionary"
   ]
  },
  {
   "cell_type": "code",
   "execution_count": 4,
   "id": "75bf8c19",
   "metadata": {},
   "outputs": [],
   "source": [
    "details['address']='Pune'"
   ]
  },
  {
   "cell_type": "code",
   "execution_count": 5,
   "id": "21286e5b",
   "metadata": {},
   "outputs": [
    {
     "data": {
      "text/plain": [
       "{'name': 'xyz',\n",
       " 'age': 22,\n",
       " 'email': 'xyz@gmail.com',\n",
       " 'contact': 8523697410,\n",
       " 'address': 'Pune'}"
      ]
     },
     "execution_count": 5,
     "metadata": {},
     "output_type": "execute_result"
    }
   ],
   "source": [
    "details"
   ]
  },
  {
   "cell_type": "markdown",
   "id": "29ffe201",
   "metadata": {},
   "source": [
    "# Changing the value in the dictionary."
   ]
  },
  {
   "cell_type": "code",
   "execution_count": 7,
   "id": "7507f10c",
   "metadata": {},
   "outputs": [],
   "source": [
    "details['address']='Kharadi Pune'"
   ]
  },
  {
   "cell_type": "code",
   "execution_count": 8,
   "id": "2784c914",
   "metadata": {},
   "outputs": [
    {
     "data": {
      "text/plain": [
       "{'name': 'xyz',\n",
       " 'age': 22,\n",
       " 'email': 'xyz@gmail.com',\n",
       " 'contact': 8523697410,\n",
       " 'address': 'Kharadi Pune'}"
      ]
     },
     "execution_count": 8,
     "metadata": {},
     "output_type": "execute_result"
    }
   ],
   "source": [
    "details"
   ]
  },
  {
   "cell_type": "markdown",
   "id": "684c42e0",
   "metadata": {},
   "source": [
    "# Deleting the value in the dictionary by the key"
   ]
  },
  {
   "cell_type": "code",
   "execution_count": 9,
   "id": "53cbc57d",
   "metadata": {},
   "outputs": [],
   "source": [
    "del(details['contact'])"
   ]
  },
  {
   "cell_type": "code",
   "execution_count": 10,
   "id": "35b73216",
   "metadata": {},
   "outputs": [
    {
     "data": {
      "text/plain": [
       "{'name': 'xyz', 'age': 22, 'email': 'xyz@gmail.com', 'address': 'Kharadi Pune'}"
      ]
     },
     "execution_count": 10,
     "metadata": {},
     "output_type": "execute_result"
    }
   ],
   "source": [
    "details"
   ]
  },
  {
   "cell_type": "code",
   "execution_count": 11,
   "id": "d1f731d0",
   "metadata": {},
   "outputs": [
    {
     "data": {
      "text/plain": [
       "{'name': 'Rohit',\n",
       " 'age': 22,\n",
       " 'email': 'xyz@gmail.com',\n",
       " 'address': 'Kharadi Pune'}"
      ]
     },
     "execution_count": 11,
     "metadata": {},
     "output_type": "execute_result"
    }
   ],
   "source": [
    "details['name']='Rohit'\n",
    "details"
   ]
  },
  {
   "cell_type": "markdown",
   "id": "f9d96898",
   "metadata": {},
   "source": [
    "# Verification using in or not in"
   ]
  },
  {
   "cell_type": "code",
   "execution_count": 17,
   "id": "201b75ff",
   "metadata": {},
   "outputs": [
    {
     "name": "stdout",
     "output_type": "stream",
     "text": [
      "True\n",
      "True\n",
      "True\n",
      "True\n",
      "False\n",
      "False\n"
     ]
    }
   ],
   "source": [
    "print('name' in details)\n",
    "print('age' in details)\n",
    "print('email'in details)\n",
    "print('address'in details)\n",
    "print('contact'in details)\n",
    "print('name' not in details)"
   ]
  },
  {
   "cell_type": "markdown",
   "id": "e0dc0f49",
   "metadata": {},
   "source": [
    "# dict() function\n",
    "\n",
    " **This function is used to create dicitonary.**"
   ]
  },
  {
   "cell_type": "code",
   "execution_count": 18,
   "id": "4dcff033",
   "metadata": {},
   "outputs": [
    {
     "data": {
      "text/plain": [
       "{'family': 'music', 'type': 'pop', 'year': '2024', 'name': 'New Year'}"
      ]
     },
     "execution_count": 18,
     "metadata": {},
     "output_type": "execute_result"
    }
   ],
   "source": [
    "dict_sample=dict(family='music',type='pop',year='2024',name='New Year')\n",
    "dict_sample"
   ]
  },
  {
   "cell_type": "code",
   "execution_count": 19,
   "id": "9e7182dd",
   "metadata": {},
   "outputs": [
    {
     "data": {
      "text/plain": [
       "dict"
      ]
     },
     "execution_count": 19,
     "metadata": {},
     "output_type": "execute_result"
    }
   ],
   "source": [
    "type(dict_sample)"
   ]
  },
  {
   "cell_type": "code",
   "execution_count": 20,
   "id": "a276cadf",
   "metadata": {},
   "outputs": [
    {
     "data": {
      "text/plain": [
       "dict_keys(['family', 'type', 'year', 'name'])"
      ]
     },
     "execution_count": 20,
     "metadata": {},
     "output_type": "execute_result"
    }
   ],
   "source": [
    "dict_sample.keys()"
   ]
  },
  {
   "cell_type": "code",
   "execution_count": 21,
   "id": "c21a9168",
   "metadata": {},
   "outputs": [
    {
     "data": {
      "text/plain": [
       "dict_values(['music', 'pop', '2024', 'New Year'])"
      ]
     },
     "execution_count": 21,
     "metadata": {},
     "output_type": "execute_result"
    }
   ],
   "source": [
    "dict_sample.values()"
   ]
  },
  {
   "cell_type": "markdown",
   "id": "b5c56b13",
   "metadata": {},
   "source": [
    "# clear() functions\n",
    "\n",
    " **It removes all the items in the dictionary and returns an empty dictionary.**"
   ]
  },
  {
   "cell_type": "code",
   "execution_count": 22,
   "id": "fe3e4323",
   "metadata": {},
   "outputs": [
    {
     "data": {
      "text/plain": [
       "{'family': 'music', 'type': 'pop', 'year': '2024', 'name': 'New Year'}"
      ]
     },
     "execution_count": 22,
     "metadata": {},
     "output_type": "execute_result"
    }
   ],
   "source": [
    "dict_sample1=dict(family='music',type='pop',year='2024',name='New Year')\n",
    "dict_sample1"
   ]
  },
  {
   "cell_type": "code",
   "execution_count": 23,
   "id": "23770451",
   "metadata": {},
   "outputs": [
    {
     "data": {
      "text/plain": [
       "{'family': 'music', 'type': 'pop', 'year': '2024', 'name': 'New Year'}"
      ]
     },
     "execution_count": 23,
     "metadata": {},
     "output_type": "execute_result"
    }
   ],
   "source": [
    "dict_sample1"
   ]
  },
  {
   "cell_type": "code",
   "execution_count": 24,
   "id": "db1d80fe",
   "metadata": {},
   "outputs": [
    {
     "data": {
      "text/plain": [
       "{}"
      ]
     },
     "execution_count": 24,
     "metadata": {},
     "output_type": "execute_result"
    }
   ],
   "source": [
    "dict_sample1.clear()\n",
    "dict_sample1"
   ]
  },
  {
   "cell_type": "markdown",
   "id": "c8f89560",
   "metadata": {},
   "source": []
  },
  {
   "cell_type": "markdown",
   "id": "2d4a8370",
   "metadata": {},
   "source": [
    "# copy() funciton\n",
    "\n",
    " **It returns a shallow copy of the main dictionary.**"
   ]
  },
  {
   "cell_type": "code",
   "execution_count": 31,
   "id": "e2b750d6",
   "metadata": {},
   "outputs": [
    {
     "name": "stdout",
     "output_type": "stream",
     "text": [
      "{'family': 'music', 'type': 'pop', 'year': '2024', 'name': 'New Year'}\n",
      "{'family': 'music', 'type': 'pop', 'year': '2024', 'name': 'New Year', 'address': 'Pune'}\n",
      "{'family': 'music', 'type': 'pop', 'year': '2024', 'name': 'New Year'}\n"
     ]
    }
   ],
   "source": [
    "dict_sample2=dict(family='music',type='pop',year='2024',name='New Year')\n",
    "sample_copy=dict_sample2.copy()\n",
    "\n",
    "print(dict_sample2)\n",
    "\n",
    "dict_sample2['address']='Pune'\n",
    "print(dict_sample2)\n",
    "\n",
    "print(sample_copy)"
   ]
  },
  {
   "cell_type": "code",
   "execution_count": 32,
   "id": "50b21f35",
   "metadata": {},
   "outputs": [
    {
     "name": "stdout",
     "output_type": "stream",
     "text": [
      "{'family': 'music', 'type': 'pop', 'year': '2024', 'name': 'New Year'}\n"
     ]
    }
   ],
   "source": [
    "print(sample_copy)"
   ]
  },
  {
   "cell_type": "code",
   "execution_count": 36,
   "id": "48d6e02e",
   "metadata": {},
   "outputs": [
    {
     "name": "stdout",
     "output_type": "stream",
     "text": [
      "{'family': 'music', 'type': 'pop', 'year': '2024', 'name': 'New Year', 'address': 'Pune'}\n",
      "{'family': 'music', 'type': 'pop', 'year': '2024', 'name': 'New Year', 'address': 'Pune'}\n"
     ]
    }
   ],
   "source": [
    "# Deep copy\n",
    "\n",
    "dict_3=dict(family='music',type='pop',year='2024',name='New Year')\n",
    "\n",
    "\n",
    "dict_copy_1=dict_3\n",
    "\n",
    "dict_3['address']='Pune'\n",
    "\n",
    "print(dict_3)\n",
    "print(dict_copy_1)"
   ]
  },
  {
   "cell_type": "markdown",
   "id": "d72834f9",
   "metadata": {},
   "source": [
    "# pop() function\n",
    "\n",
    " * __This function is used to remove a specific item from the dictionary.__"
   ]
  },
  {
   "cell_type": "code",
   "execution_count": 1,
   "id": "adbabd84",
   "metadata": {},
   "outputs": [
    {
     "data": {
      "text/plain": [
       "{'family': 'music', 'type': 'pop', 'year': '2023', 'name': 'happy new year'}"
      ]
     },
     "execution_count": 1,
     "metadata": {},
     "output_type": "execute_result"
    }
   ],
   "source": [
    "sample_original=dict(family='music',type='pop',year='2023',name='happy new year')\n",
    "sample_original"
   ]
  },
  {
   "cell_type": "code",
   "execution_count": 2,
   "id": "a4eb18a9",
   "metadata": {},
   "outputs": [
    {
     "name": "stdout",
     "output_type": "stream",
     "text": [
      "pop\n",
      "{'family': 'music', 'year': '2023', 'name': 'happy new year'}\n"
     ]
    }
   ],
   "source": [
    "print(sample_original.pop('type'))\n",
    "print(sample_original)"
   ]
  },
  {
   "cell_type": "markdown",
   "id": "22732e9c",
   "metadata": {},
   "source": [
    "# popitem() function\n",
    "\n",
    " * __It is used to remove the abitrary items from the dictionary and returns as a tuple.__"
   ]
  },
  {
   "cell_type": "code",
   "execution_count": 4,
   "id": "02a05406",
   "metadata": {},
   "outputs": [
    {
     "name": "stdout",
     "output_type": "stream",
     "text": [
      "('name', 'happy new year')\n",
      "{'family': 'music', 'year': '2023'}\n"
     ]
    }
   ],
   "source": [
    "sample_original\n",
    "\n",
    "print(sample_original.popitem())\n",
    "print(sample_original)"
   ]
  },
  {
   "cell_type": "markdown",
   "id": "e0498f3e",
   "metadata": {},
   "source": [
    "# get() function\n",
    "\n",
    " * __This method returns the value for the specified key if it is availabel in the dictionary. If the key is not available, it returns None.__"
   ]
  },
  {
   "cell_type": "code",
   "execution_count": 6,
   "id": "b588670b",
   "metadata": {},
   "outputs": [
    {
     "name": "stdout",
     "output_type": "stream",
     "text": [
      "music\n",
      "None\n"
     ]
    }
   ],
   "source": [
    "sample_original=dict(family='music',type='pop',year='2023',name='happy new year')\n",
    "\n",
    "print(sample_original.get('family'))\n",
    "print(sample_original.get(10))"
   ]
  },
  {
   "cell_type": "markdown",
   "id": "c1158414",
   "metadata": {},
   "source": [
    "# fromkeys() function \n",
    " * __It returns a new dictionary with the certain sequence of the items as the keys of the dictionary and the values as assigned with None.__"
   ]
  },
  {
   "cell_type": "code",
   "execution_count": 7,
   "id": "83683924",
   "metadata": {},
   "outputs": [
    {
     "data": {
      "text/plain": [
       "{'A': None, 'G': None, 'C': None, 'T': None}"
      ]
     },
     "execution_count": 7,
     "metadata": {},
     "output_type": "execute_result"
    }
   ],
   "source": [
    "keys={'A','T','C','G'}\n",
    "\n",
    "sequence=dict.fromkeys(keys)\n",
    "sequence"
   ]
  },
  {
   "cell_type": "code",
   "execution_count": 10,
   "id": "e66f9cf2",
   "metadata": {},
   "outputs": [
    {
     "data": {
      "text/plain": [
       "{'A': 'xyz', 'G': None, 'C': None, 'T': None}"
      ]
     },
     "execution_count": 10,
     "metadata": {},
     "output_type": "execute_result"
    }
   ],
   "source": [
    "# appending the data\n",
    "\n",
    "sequence['A']='xyz'\n",
    "sequence"
   ]
  },
  {
   "cell_type": "markdown",
   "id": "7f4fae35",
   "metadata": {},
   "source": [
    "# update() function\n",
    "\n",
    " * __It integrates a dictionary with another dictionary or with an iterable of key:value pairs.__"
   ]
  },
  {
   "cell_type": "code",
   "execution_count": 1,
   "id": "8726630e",
   "metadata": {},
   "outputs": [
    {
     "data": {
      "text/plain": [
       "{'Biscuit': 'Parle,Britania,GoodDays,Oreo',\n",
       " 'Oil': 'Parasuit,Hair&Care,Almonds',\n",
       " 'Shampoo': 'Dove,Pantnee,Mamaearth',\n",
       " 'Soap': 'Pears,Dove,Medimix'}"
      ]
     },
     "execution_count": 1,
     "metadata": {},
     "output_type": "execute_result"
    }
   ],
   "source": [
    "product={'Biscuit':\"Parle,Britania,GoodDays,Oreo\",'Oil':'Parasuit,Hair&Care,Almonds',\n",
    "        'Shampoo':'Dove,Pantnee,Mamaearth','Soap':'Pears,Dove,Medimix'}\n",
    "product"
   ]
  },
  {
   "cell_type": "code",
   "execution_count": 2,
   "id": "c5ab714b",
   "metadata": {},
   "outputs": [
    {
     "data": {
      "text/plain": [
       "{'family': 'music', 'type': 'pop', 'year': '2023', 'name': 'happy new year'}"
      ]
     },
     "execution_count": 2,
     "metadata": {},
     "output_type": "execute_result"
    }
   ],
   "source": [
    "sample_dict=dict(family='music',type='pop',year='2023',name='happy new year')\n",
    "sample_dict"
   ]
  },
  {
   "cell_type": "code",
   "execution_count": 3,
   "id": "1acad9c9",
   "metadata": {},
   "outputs": [
    {
     "data": {
      "text/plain": [
       "{'Biscuit': 'Parle,Britania,GoodDays,Oreo',\n",
       " 'Oil': 'Parasuit,Hair&Care,Almonds',\n",
       " 'Shampoo': 'Dove,Pantnee,Mamaearth',\n",
       " 'Soap': 'Pears,Dove,Medimix',\n",
       " 'family': 'music',\n",
       " 'type': 'pop',\n",
       " 'year': '2023',\n",
       " 'name': 'happy new year'}"
      ]
     },
     "execution_count": 3,
     "metadata": {},
     "output_type": "execute_result"
    }
   ],
   "source": [
    "product.update(sample_dict)\n",
    "product"
   ]
  },
  {
   "cell_type": "markdown",
   "id": "fb585be6",
   "metadata": {},
   "source": [
    "# item() function \n",
    " * __It returns a list of key:value pair in a dictionary. The elements in the lists are tuples.__"
   ]
  },
  {
   "cell_type": "code",
   "execution_count": 4,
   "id": "5b931d2f",
   "metadata": {},
   "outputs": [
    {
     "data": {
      "text/plain": [
       "{'Biscuit': 'Parle,Britania,GoodDays,Oreo',\n",
       " 'Oil': 'Parasuit,Hair&Care,Almonds',\n",
       " 'Shampoo': 'Dove,Pantnee,Mamaearth',\n",
       " 'Soap': 'Pears,Dove,Medimix',\n",
       " 'family': 'music',\n",
       " 'type': 'pop',\n",
       " 'year': '2023',\n",
       " 'name': 'happy new year'}"
      ]
     },
     "execution_count": 4,
     "metadata": {},
     "output_type": "execute_result"
    }
   ],
   "source": [
    "product\n"
   ]
  },
  {
   "cell_type": "code",
   "execution_count": 5,
   "id": "5b7cd5fe",
   "metadata": {},
   "outputs": [
    {
     "data": {
      "text/plain": [
       "dict_items([('Biscuit', 'Parle,Britania,GoodDays,Oreo'), ('Oil', 'Parasuit,Hair&Care,Almonds'), ('Shampoo', 'Dove,Pantnee,Mamaearth'), ('Soap', 'Pears,Dove,Medimix'), ('family', 'music'), ('type', 'pop'), ('year', '2023'), ('name', 'happy new year')])"
      ]
     },
     "execution_count": 5,
     "metadata": {},
     "output_type": "execute_result"
    }
   ],
   "source": [
    "product.items()"
   ]
  },
  {
   "cell_type": "code",
   "execution_count": null,
   "id": "67c69b09",
   "metadata": {},
   "outputs": [],
   "source": []
  }
 ],
 "metadata": {
  "kernelspec": {
   "display_name": "Python 3 (ipykernel)",
   "language": "python",
   "name": "python3"
  },
  "language_info": {
   "codemirror_mode": {
    "name": "ipython",
    "version": 3
   },
   "file_extension": ".py",
   "mimetype": "text/x-python",
   "name": "python",
   "nbconvert_exporter": "python",
   "pygments_lexer": "ipython3",
   "version": "3.9.13"
  }
 },
 "nbformat": 4,
 "nbformat_minor": 5
}
