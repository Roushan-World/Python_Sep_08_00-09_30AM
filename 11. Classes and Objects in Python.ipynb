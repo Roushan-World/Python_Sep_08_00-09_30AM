{
 "cells": [
  {
   "cell_type": "markdown",
   "id": "215a65d1",
   "metadata": {},
   "source": [
    "# 11. Classes and Objects in Python\n",
    "\n",
    " * __Python is an obejct-oriented programming language.__\n",
    " * __Unlike procedure-oriented programming, where the main emphasis is on functions, object-oriented programming stresses on objects.__\n",
    " * __An onject is simply a collections of data(variables) and methods (functions) that act on those data.__\n",
    " * __Similarly, a class is a blueprint for that object.__\n",
    " * __Like function definitions begin with the def keyword in Python, class definitions begin with a class keyword.__\n",
    " * __The first string inside the class is called docstring and has a brief description of the class.__\n",
    " * __Although not mandatrory, this is heigly recommended.__\n",
    " \n",
    " * class class_name:\n",
    "         * school_name=\"ABC School\" <--------------class Variables\n",
    "         \n",
    "         * def __init__(self,name,age):  <---------- Constructor to initialize instance variables\n",
    "             self.name=name\n",
    "             self.age=age\n",
    " * x=class_name(\"first parameter\",\"Second Parameter\")\n",
    " * print(x.name)\n",
    " * print(x.age)\n",
    "  "
   ]
  },
  {
   "cell_type": "code",
   "execution_count": 1,
   "id": "e8690c80",
   "metadata": {},
   "outputs": [
    {
     "name": "stdout",
     "output_type": "stream",
     "text": [
      "<class '__main__.Data'>\n"
     ]
    }
   ],
   "source": [
    "class Data:\n",
    "    num= 3.14\n",
    "    \n",
    "print(Data)"
   ]
  },
  {
   "cell_type": "code",
   "execution_count": 2,
   "id": "3f82e4e9",
   "metadata": {},
   "outputs": [
    {
     "data": {
      "text/plain": [
       "3.14"
      ]
     },
     "execution_count": 2,
     "metadata": {},
     "output_type": "execute_result"
    }
   ],
   "source": [
    "Data.num"
   ]
  },
  {
   "cell_type": "code",
   "execution_count": 10,
   "id": "31bedf82",
   "metadata": {},
   "outputs": [
    {
     "name": "stdout",
     "output_type": "stream",
     "text": [
      "Purushottam\n",
      "35\n",
      "Pune\n",
      "purushottam123@gmail.com\n",
      "123456789\n"
     ]
    }
   ],
   "source": [
    "class Details:\n",
    "    def __init__(self,name,age,contact_add,email,phone): #<-----arguments\n",
    "        self.name=name\n",
    "        self.age=age\n",
    "        self.contact_add=contact_add\n",
    "        self.email=email\n",
    "        self.phone=phone\n",
    "        \n",
    "        \n",
    "val=Details(\"Purushottam\",35,\"Pune\",\"purushottam123@gmail.com\",'123456789')\n",
    "print(val.name)\n",
    "print(val.age)\n",
    "print(val.contact_add)\n",
    "print(val.email)\n",
    "print(val.phone)\n",
    "        "
   ]
  },
  {
   "cell_type": "code",
   "execution_count": 12,
   "id": "1a0af81e",
   "metadata": {},
   "outputs": [
    {
     "name": "stdout",
     "output_type": "stream",
     "text": [
      "My name is Purushottam\n",
      "I am 35 years old.\n",
      "You can contact me at Pune.\n",
      "You can mail me on purushottam123@gmail.com\n",
      "You can call me on 123456789\n"
     ]
    }
   ],
   "source": [
    "class Details:\n",
    "    def __init__(x,name,age,contact_add,email,phone): #<-----arguments\n",
    "        x.name=name\n",
    "        x.age=age\n",
    "        x.contact_add=contact_add\n",
    "        x.email=email\n",
    "        x.phone=phone\n",
    "        \n",
    "    def msg_details(x):\n",
    "        print(f\"My name is {x.name}\")\n",
    "        print(f'I am {x.age} years old.')\n",
    "        print(f'You can contact me at {x.contact_add}.')\n",
    "        print(f'You can mail me on {x.email}')\n",
    "        print(f'You can call me on {x.phone}')\n",
    "        \n",
    "        \n",
    "val=Details(\"Purushottam\",35,\"Pune\",\"purushottam123@gmail.com\",'123456789')\n",
    "val.msg_details()\n",
    "        "
   ]
  },
  {
   "cell_type": "code",
   "execution_count": null,
   "id": "1b4e810f",
   "metadata": {},
   "outputs": [],
   "source": []
  }
 ],
 "metadata": {
  "kernelspec": {
   "display_name": "Python 3 (ipykernel)",
   "language": "python",
   "name": "python3"
  },
  "language_info": {
   "codemirror_mode": {
    "name": "ipython",
    "version": 3
   },
   "file_extension": ".py",
   "mimetype": "text/x-python",
   "name": "python",
   "nbconvert_exporter": "python",
   "pygments_lexer": "ipython3",
   "version": "3.9.13"
  }
 },
 "nbformat": 4,
 "nbformat_minor": 5
}
