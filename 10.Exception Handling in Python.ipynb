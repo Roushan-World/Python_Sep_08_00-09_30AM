{
 "cells": [
  {
   "cell_type": "markdown",
   "id": "af449cb7",
   "metadata": {},
   "source": [
    "# 10. Exception Handling in Python\n",
    "\n",
    "\n",
    " * __An exception is an event, which occurs during the exceution of a program that disrupts the normal flow of the program's instructions.__\n",
    " * __In general, When a Python Scripts Encounters a situation that it cannot cope with, it raises an exception.__\n",
    " * __An exception is a Python object that represent an error.__\n",
    " * __When a Python script raises an exception, it must either handle the exception immediately otherwise it terminates and quits.__\n",
    " * __If you have some suspicious code that may raise an exception, you can defend your program by placing the suspicious code in try:block.__\n",
    " * __After the try:block, include an except: statement, followed by a block of code which handles the problem as elegantly as possible.__\n",
    " \n",
    " \n",
    " \n",
    "# Common exceptions\n",
    "\n",
    " * __ZeroDivisonError__\n",
    " * __NameError__\n",
    " * __ValueError__\n",
    " * __IOError__\n",
    " * __EOFError__\n",
    " * __IdentationError__"
   ]
  },
  {
   "cell_type": "code",
   "execution_count": 3,
   "id": "bc6358ad",
   "metadata": {},
   "outputs": [
    {
     "name": "stdout",
     "output_type": "stream",
     "text": [
      "This code gives a ZeroDivisionError.\n"
     ]
    }
   ],
   "source": [
    "try:\n",
    "    1/0\n",
    "except ZeroDivisionError:\n",
    "    print(\"This code gives a ZeroDivisionError.\")"
   ]
  },
  {
   "cell_type": "code",
   "execution_count": 6,
   "id": "3946d49e",
   "metadata": {},
   "outputs": [
    {
     "name": "stdout",
     "output_type": "stream",
     "text": [
      "This code also give a ZeroDivisionError.\n"
     ]
    }
   ],
   "source": [
    "try:\n",
    "\n",
    "    True/False  #1/0\n",
    "    \n",
    "except ZeroDivisionError:\n",
    "    print(\"This code also give a ZeroDivisionError.\")\n"
   ]
  },
  {
   "cell_type": "code",
   "execution_count": 5,
   "id": "9e864cbf",
   "metadata": {},
   "outputs": [
    {
     "name": "stdout",
     "output_type": "stream",
     "text": [
      "This code gives a ZeroDivisionError\n"
     ]
    }
   ],
   "source": [
    "nlis=[]\n",
    "count=0\n",
    "try:\n",
    "    z=count/len(nlis)\n",
    "    print('The mean value is:',z)\n",
    "except ZeroDivisionError:\n",
    "    print('This code gives a ZeroDivisionError')"
   ]
  },
  {
   "cell_type": "markdown",
   "id": "e6f6cae8",
   "metadata": {},
   "source": [
    "# NameError"
   ]
  },
  {
   "cell_type": "code",
   "execution_count": 15,
   "id": "67ab55ec",
   "metadata": {},
   "outputs": [
    {
     "name": "stdout",
     "output_type": "stream",
     "text": [
      "This code gives a NameError\n"
     ]
    }
   ],
   "source": [
    "try:\n",
    "\n",
    "    y2=x1+5\n",
    "    print(\"Your value is\",y2)\n",
    "except NameError:\n",
    "    print(\"This code gives a NameError\")"
   ]
  },
  {
   "cell_type": "code",
   "execution_count": 21,
   "id": "8a3721bc",
   "metadata": {},
   "outputs": [
    {
     "name": "stdout",
     "output_type": "stream",
     "text": [
      "This code gives a NameError\n"
     ]
    }
   ],
   "source": [
    "try:\n",
    "    def addition(x,y):\n",
    "        z=x+y\n",
    "        return z\n",
    "\n",
    "    total=add(3.147,1.618)\n",
    "    print(total)\n",
    "except NameError:\n",
    "    print(\"This code gives a NameError\")"
   ]
  },
  {
   "cell_type": "markdown",
   "id": "fedd071f",
   "metadata": {},
   "source": [
    "# IndexError"
   ]
  },
  {
   "cell_type": "code",
   "execution_count": 33,
   "id": "7b01ff28",
   "metadata": {},
   "outputs": [
    {
     "name": "stdout",
     "output_type": "stream",
     "text": [
      "This code gives us a IndexError.\n",
      "<class 'list'>\n"
     ]
    }
   ],
   "source": [
    "nlis=[1,2,3,4,5,6,7,8]\n",
    "\n",
    "try:\n",
    "    x=nlis[10]\n",
    "    print(\"Your value is:\",x)\n",
    "    \n",
    "except IndexError:\n",
    "    print(\"This code gives us a IndexError.\")\n",
    "    print(type(nlis))"
   ]
  },
  {
   "cell_type": "code",
   "execution_count": 32,
   "id": "5f1797fb",
   "metadata": {},
   "outputs": [
    {
     "name": "stdout",
     "output_type": "stream",
     "text": [
      "This code gives us a IndexError.\n",
      "<class 'tuple'>\n"
     ]
    }
   ],
   "source": [
    "nlis1=(\"Hello World\",\"Hi python\",0.577,1.618,2.718,6)\n",
    "try:\n",
    "    nlis1[6]\n",
    "    \n",
    "except IndexError:\n",
    "    print(\"This code gives us a IndexError.\")\n",
    "    print(type(nlis1))"
   ]
  },
  {
   "cell_type": "markdown",
   "id": "55319ca2",
   "metadata": {},
   "source": [
    "# KeyError"
   ]
  },
  {
   "cell_type": "code",
   "execution_count": 40,
   "id": "265a7fcf",
   "metadata": {},
   "outputs": [
    {
     "name": "stdout",
     "output_type": "stream",
     "text": [
      "This code gives us a KeyError.\n"
     ]
    }
   ],
   "source": [
    "dictionary={'name':'happy new year','value':2024}\n",
    "\n",
    "try:\n",
    "    \n",
    "    x=dictionary['value1']\n",
    "    print(x)\n",
    "except KeyError:\n",
    "    print('This code gives us a KeyError.')"
   ]
  },
  {
   "cell_type": "code",
   "execution_count": 48,
   "id": "ca50a4b4",
   "metadata": {},
   "outputs": [
    {
     "name": "stdout",
     "output_type": "stream",
     "text": [
      "Enter a number:458\n",
      "Enter a number:123\n",
      "This process is running with value= 3.7235772357723578\n"
     ]
    },
    {
     "data": {
      "text/plain": [
       "'Done'"
      ]
     },
     "execution_count": 48,
     "metadata": {},
     "output_type": "execute_result"
    }
   ],
   "source": [
    "num1=float(input('Enter a number:'))\n",
    "\n",
    "try:\n",
    "    num2=float(input('Enter a number:'))\n",
    "    value=num1/num2\n",
    "    print('This process is running with value=',value)\n",
    "except ZeroDivisionError:\n",
    "    print('Your code gives ZeroDivisionError.')\n",
    "    \n",
    "('Done')"
   ]
  },
  {
   "cell_type": "code",
   "execution_count": 52,
   "id": "0ec1f0b9",
   "metadata": {},
   "outputs": [
    {
     "name": "stdout",
     "output_type": "stream",
     "text": [
      "This code gives KeyboardInterrupt.\n"
     ]
    }
   ],
   "source": [
    "try:\n",
    "    x=input('Enter any number')\n",
    "    print(x)\n",
    "except KeyboardInterrupt:\n",
    "    print(\"This code gives KeyboardInterrupt.\")"
   ]
  },
  {
   "cell_type": "markdown",
   "id": "6f722fad",
   "metadata": {},
   "source": [
    "# try/except/except etc"
   ]
  },
  {
   "cell_type": "code",
   "execution_count": 9,
   "id": "cd4c88ca",
   "metadata": {},
   "outputs": [
    {
     "name": "stdout",
     "output_type": "stream",
     "text": [
      "Enter a number: 9\n",
      "Enter a second number: 1.5\n",
      "This process is running with value= 6.0\n"
     ]
    }
   ],
   "source": [
    "\n",
    "try:\n",
    "    num1=float(input(\"Enter a number: \"))\n",
    "    num2=float(input(\"Enter a second number: \"))\n",
    "    \n",
    "    value=num1/num2\n",
    "    print(\"This process is running with value=\",value)\n",
    "    \n",
    "except ZeroDivisionError:\n",
    "    print(\"This function gives a ZeroDivisionError since a number cannot be divided by 0.\")\n",
    "    \n",
    "except ValueError:\n",
    "    print(\"This code gives a ValueError.\")\n",
    "    \n",
    "except KeyboardInterrupt:\n",
    "    print(\"You do not entered any value from Keyboard.\")\n",
    "except:\n",
    "    print(\"Something Went Wrong!\")"
   ]
  },
  {
   "cell_type": "markdown",
   "id": "1a763813",
   "metadata": {},
   "source": [
    "# try/except/else"
   ]
  },
  {
   "cell_type": "code",
   "execution_count": 11,
   "id": "977530a2",
   "metadata": {},
   "outputs": [
    {
     "name": "stdout",
     "output_type": "stream",
     "text": [
      "Enter a number: 1\n",
      "Enter a second number: 0\n",
      "This function gives a ZeroDivisionError since a number cannot be divided by 0.\n"
     ]
    }
   ],
   "source": [
    "try:\n",
    "    num1=float(input(\"Enter a number: \"))\n",
    "    num2=float(input(\"Enter a second number: \"))\n",
    "    \n",
    "    value=num1/num2\n",
    "    \n",
    "    \n",
    "except ZeroDivisionError:\n",
    "    print(\"This function gives a ZeroDivisionError since a number cannot be divided by 0.\")\n",
    "    \n",
    "except ValueError:\n",
    "    print(\"This code gives a ValueError.\")\n",
    "    \n",
    "except KeyboardInterrupt:\n",
    "    print(\"You do not entered any value from Keyboard.\")\n",
    "except:\n",
    "    print(\"Something Went Wrong!\")\n",
    "else:\n",
    "    print(\"This process is running with value=\",value)"
   ]
  },
  {
   "cell_type": "markdown",
   "id": "63687ba6",
   "metadata": {},
   "source": [
    "# try/except/else/finally"
   ]
  },
  {
   "cell_type": "code",
   "execution_count": 15,
   "id": "c91596b9",
   "metadata": {},
   "outputs": [
    {
     "name": "stdout",
     "output_type": "stream",
     "text": [
      "You do not entered any value from Keyboard.\n",
      "The process is completed.\n"
     ]
    }
   ],
   "source": [
    "try:\n",
    "    num1=float(input(\"Enter a number: \"))\n",
    "    num2=float(input(\"Enter a second number: \"))\n",
    "    \n",
    "    value=num1/num2\n",
    "    \n",
    "    \n",
    "except ZeroDivisionError:\n",
    "    print(\"This function gives a ZeroDivisionError since a number cannot be divided by 0.\")\n",
    "    \n",
    "except ValueError:\n",
    "    print(\"This code gives a ValueError.\")\n",
    "    \n",
    "except KeyboardInterrupt:\n",
    "    print(\"You do not entered any value from Keyboard.\")\n",
    "except:\n",
    "    print(\"Something Went Wrong!\")\n",
    "else:\n",
    "    print(\"This process is running with value=\",value)\n",
    "    \n",
    "finally:\n",
    "    print(\"The process is completed.\")"
   ]
  },
  {
   "cell_type": "code",
   "execution_count": 19,
   "id": "aa3ad709",
   "metadata": {},
   "outputs": [
    {
     "name": "stdout",
     "output_type": "stream",
     "text": [
      "Enter a number: 45\n",
      "Enter a second number: 63\n",
      "This process is running with value= 0.7142857142857143\n"
     ]
    }
   ],
   "source": [
    "try:\n",
    "    num1=float(input(\"Enter a number: \"))\n",
    "    num2=float(input(\"Enter a second number: \"))\n",
    "    \n",
    "    value=num1/num2\n",
    "    \n",
    "    \n",
    "except (ZeroDivisionError, ValueError,NameError):\n",
    "    print(\"This function gives a ZeroDivisionError,NameError or ValueError since a number cannot be divided by 0.\")\n",
    "    \n",
    "except KeyboardInterrupt:\n",
    "    print(\"You do not entered any value from Keyboard.\")\n",
    "except:\n",
    "    print(\"Something Went Wrong!\")\n",
    "else:\n",
    "    print(\"This process is running with value=\",value)"
   ]
  },
  {
   "cell_type": "code",
   "execution_count": 33,
   "id": "c2f8855e",
   "metadata": {},
   "outputs": [
    {
     "name": "stdout",
     "output_type": "stream",
     "text": [
      "Even or odd numbers higher than 1000 are not allowed!\n",
      "This process is completed.\n"
     ]
    }
   ],
   "source": [
    "try:\n",
    "    num=int(input('Enter any value: '))\n",
    "    \n",
    "    if num>1000 and num%2==0 or num%2!=0:\n",
    "        raise exception(\"Do not allow to the even numbers higher than 1000\")\n",
    "        \n",
    "except:\n",
    "    print(\"Even or odd numbers higher than 1000 are not allowed!\")\n",
    "else:\n",
    "    print(\"This process is running with value=\",num)\n",
    "finally:\n",
    "    print(\"This process is completed.\")"
   ]
  },
  {
   "cell_type": "code",
   "execution_count": null,
   "id": "fea4e923",
   "metadata": {},
   "outputs": [],
   "source": [
    "# Write a python program that prompts the user input two numbers and raised TypeError exception \n",
    "# if the input are not allowed numberical."
   ]
  }
 ],
 "metadata": {
  "kernelspec": {
   "display_name": "Python 3 (ipykernel)",
   "language": "python",
   "name": "python3"
  },
  "language_info": {
   "codemirror_mode": {
    "name": "ipython",
    "version": 3
   },
   "file_extension": ".py",
   "mimetype": "text/x-python",
   "name": "python",
   "nbconvert_exporter": "python",
   "pygments_lexer": "ipython3",
   "version": "3.9.13"
  }
 },
 "nbformat": 4,
 "nbformat_minor": 5
}
