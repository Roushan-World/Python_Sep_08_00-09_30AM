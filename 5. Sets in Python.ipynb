{
 "cells": [
  {
   "cell_type": "markdown",
   "id": "b64e7170",
   "metadata": {},
   "source": [
    "# 5. Sets in Python\n",
    "\n",
    "\n",
    " * __Set is one of 4 built-in data types in Python used to store collections of data including List, Tuple, and Dictionary.__\n",
    " \n",
    " * __Sets are unordered, but you can remove items and add new items.__\n",
    " \n",
    " * __Set elements are unique. Duplicate elements are not allowed.__\n",
    " \n",
    " * __A set itself may be modified, but the elements contained in the set must be of an immutable type.__\n",
    " \n",
    " * __Sets are used to store multiple item in a single variable.__\n",
    " \n",
    " * __You can denote a set with a pair of curly brackets {}.__"
   ]
  },
  {
   "cell_type": "code",
   "execution_count": 2,
   "id": "0fdd3cd9",
   "metadata": {},
   "outputs": [
    {
     "name": "stdout",
     "output_type": "stream",
     "text": [
      "{}\n",
      "<class 'dict'>\n"
     ]
    }
   ],
   "source": [
    "# Empty set\n",
    "\n",
    "x={}\n",
    "print(x)\n",
    "print(type(x))"
   ]
  },
  {
   "cell_type": "code",
   "execution_count": 5,
   "id": "b8d1232a",
   "metadata": {},
   "outputs": [
    {
     "name": "stdout",
     "output_type": "stream",
     "text": [
      "set()\n",
      "<class 'set'>\n"
     ]
    }
   ],
   "source": [
    "# To take a set without element, use set() function without any items.\n",
    "\n",
    "x1=set()\n",
    "\n",
    "print(x1)\n",
    "\n",
    "print(type(x1))"
   ]
  },
  {
   "cell_type": "code",
   "execution_count": 6,
   "id": "13725227",
   "metadata": {},
   "outputs": [
    {
     "data": {
      "text/plain": [
       "{1.618, 2023, 3.147, False, 'Hello Python', 'Hello World', True}"
      ]
     },
     "execution_count": 6,
     "metadata": {},
     "output_type": "execute_result"
    }
   ],
   "source": [
    "# Take a set\n",
    "\n",
    "set1={'Hello World',3.147,1.618,'Hello Python',3.147,1.618,True,False,2023,'Hello World'}\n",
    "\n",
    "set1"
   ]
  },
  {
   "cell_type": "markdown",
   "id": "5bb1b709",
   "metadata": {},
   "source": [
    "# Converting list to set\n",
    "\n",
    "\n"
   ]
  },
  {
   "cell_type": "code",
   "execution_count": 8,
   "id": "c9571f2b",
   "metadata": {},
   "outputs": [
    {
     "name": "stdout",
     "output_type": "stream",
     "text": [
      "['Hello World', 3.147, 1.618, 'Hello Python', 3.147, 1.618, True, False, 2023, 'Hello World']\n",
      "{False, 1.618, True, 3.147, 2023, 'Hello Python', 'Hello World'}\n"
     ]
    }
   ],
   "source": [
    "# A list can convert to a set\n",
    "\n",
    "# Take a list\n",
    "\n",
    "nlis1=['Hello World',3.147,1.618,'Hello Python',3.147,1.618,True,False,2023,'Hello World']\n",
    "\n",
    "print(nlis1)\n",
    "\n",
    "\n",
    "# Converg the list to a set\n",
    "\n",
    "set2=set(nlis1)\n",
    "\n",
    "print(set2)"
   ]
  },
  {
   "cell_type": "markdown",
   "id": "c3ea6a5f",
   "metadata": {},
   "source": [
    "# Set Operations"
   ]
  },
  {
   "cell_type": "code",
   "execution_count": 10,
   "id": "bf495395",
   "metadata": {},
   "outputs": [
    {
     "name": "stdout",
     "output_type": "stream",
     "text": [
      "{2, 3, 5, 10, 'Hello'}\n"
     ]
    }
   ],
   "source": [
    "# add()\n",
    "x1={5,'Hello',3,2}\n",
    "\n",
    "x1.add(10)\n",
    "print(x1)"
   ]
  },
  {
   "cell_type": "code",
   "execution_count": 14,
   "id": "e1f74ca7",
   "metadata": {},
   "outputs": [
    {
     "name": "stdout",
     "output_type": "stream",
     "text": [
      "{2, 5, 10, 'Hello'}\n",
      "{2, 5, 10, 'Hello'}\n"
     ]
    }
   ],
   "source": [
    "# discard()\n",
    "\n",
    "print(x1)\n",
    "\n",
    "x1.discard(45)\n",
    "print(x1)"
   ]
  },
  {
   "cell_type": "code",
   "execution_count": 17,
   "id": "5a259807",
   "metadata": {},
   "outputs": [
    {
     "name": "stdout",
     "output_type": "stream",
     "text": [
      "{'Hello', 5}\n"
     ]
    }
   ],
   "source": [
    "# remove()\n",
    "\n",
    "x2={5,'Hello',32}\n",
    "\n",
    "x2.remove(32)\n",
    "print(x2)\n"
   ]
  },
  {
   "cell_type": "code",
   "execution_count": 18,
   "id": "3c903541",
   "metadata": {},
   "outputs": [
    {
     "name": "stdout",
     "output_type": "stream",
     "text": [
      "32\n"
     ]
    }
   ],
   "source": [
    "# pop()\n",
    "\n",
    "x3={5,'Hello',32}\n",
    "\n",
    "print(x3.pop())"
   ]
  },
  {
   "cell_type": "code",
   "execution_count": 19,
   "id": "130a25c9",
   "metadata": {},
   "outputs": [
    {
     "name": "stdout",
     "output_type": "stream",
     "text": [
      "32\n"
     ]
    }
   ],
   "source": [
    "x4={5,'Hello',32}\n",
    "\n",
    "x5=x4.pop()\n",
    "print(x5)"
   ]
  },
  {
   "cell_type": "markdown",
   "id": "7c5e9c4d",
   "metadata": {},
   "source": [
    "# add() function\n",
    "\n",
    " * __To add element into a set, we use the function add(). If the same element is added to the set, nothing will happend because the set accepts no duplicates.__"
   ]
  },
  {
   "cell_type": "code",
   "execution_count": 3,
   "id": "edab4523",
   "metadata": {},
   "outputs": [
    {
     "name": "stdout",
     "output_type": "stream",
     "text": [
      "{False, 1.618, True, 3.14, 2023, 'hello world'}\n",
      "{False, 1.618, True, 3.14, 2023, 'Hi,Python', 'hello world'}\n"
     ]
    }
   ],
   "source": [
    "# Addition of an element to a set\n",
    "\n",
    "set3=set(['hello world',3.14,1.618,'hello world',3.14,1.618,True,False,2023])\n",
    "print(set3)\n",
    "\n",
    "set3.add('Hi,Python')\n",
    "print(set3)"
   ]
  },
  {
   "cell_type": "markdown",
   "id": "1fdb99f4",
   "metadata": {},
   "source": [
    "# update() function\n",
    "\n",
    " * __To add multiple element into the set.__\n",
    " \n",
    " "
   ]
  },
  {
   "cell_type": "code",
   "execution_count": 5,
   "id": "c67f6ef2",
   "metadata": {},
   "outputs": [
    {
     "name": "stdout",
     "output_type": "stream",
     "text": [
      "{8, 9, 6, 7}\n",
      "{3, 4, 5, 6, 7, 8, 9}\n"
     ]
    }
   ],
   "source": [
    "x_set={6,7,8,9}\n",
    "\n",
    "print(x_set)\n",
    "\n",
    "x_set.update({3,4,5,6,7})\n",
    "print(x_set)"
   ]
  },
  {
   "cell_type": "markdown",
   "id": "d041ddb0",
   "metadata": {},
   "source": [
    "# Logic Operations in sets"
   ]
  },
  {
   "cell_type": "code",
   "execution_count": 6,
   "id": "a219479d",
   "metadata": {},
   "outputs": [
    {
     "name": "stdout",
     "output_type": "stream",
     "text": [
      "{'Hello World', 1.618, 'Hello Python', 3.14}\n",
      "{False, 1.618, True, 3.14, 2023, 'Hello World'}\n"
     ]
    }
   ],
   "source": [
    "set4=set(['Hello Python',3.14,1.618,'Hello World'])\n",
    "\n",
    "set5=set([3.14,1.618,True,False,2023,'Hello World'])\n",
    "\n",
    "print(set4)\n",
    "print(set5)"
   ]
  },
  {
   "cell_type": "code",
   "execution_count": 7,
   "id": "3174edd6",
   "metadata": {},
   "outputs": [
    {
     "name": "stdout",
     "output_type": "stream",
     "text": [
      "{'Hello World', 1.618, 'Hello Python', 3.14} {False, 1.618, True, 3.14, 2023, 'Hello World'}\n"
     ]
    }
   ],
   "source": [
    "# Another method to this set is:\n",
    "\n",
    "print(set4,set5)"
   ]
  },
  {
   "cell_type": "markdown",
   "id": "f46dad73",
   "metadata": {},
   "source": [
    "# To find the intersect of two sets using &"
   ]
  },
  {
   "cell_type": "code",
   "execution_count": 8,
   "id": "31a5d44d",
   "metadata": {},
   "outputs": [
    {
     "name": "stdout",
     "output_type": "stream",
     "text": [
      "{'Hello World', 1.618, 3.14}\n"
     ]
    }
   ],
   "source": [
    "# intersection\n",
    "x=set4&set5\n",
    "print(x)"
   ]
  },
  {
   "cell_type": "code",
   "execution_count": 9,
   "id": "57a8676f",
   "metadata": {},
   "outputs": [
    {
     "data": {
      "text/plain": [
       "{1.618, 3.14, 'Hello World'}"
      ]
     },
     "execution_count": 9,
     "metadata": {},
     "output_type": "execute_result"
    }
   ],
   "source": [
    "# To find intersection another method\n",
    "\n",
    "set4.intersection(set5)"
   ]
  },
  {
   "cell_type": "markdown",
   "id": "88fe3228",
   "metadata": {},
   "source": [
    "# difference() function\n",
    "\n",
    " * __To find the difference between two set.__"
   ]
  },
  {
   "cell_type": "code",
   "execution_count": 12,
   "id": "bbc98c12",
   "metadata": {},
   "outputs": [
    {
     "name": "stdout",
     "output_type": "stream",
     "text": [
      "{'Hello Python'}\n",
      "{False, True, 2023}\n"
     ]
    }
   ],
   "source": [
    "set4=set(['Hello Python',3.14,1.618,'Hello World'])   # A\n",
    "\n",
    "set5=set([3.14,1.618,True,False,2023,'Hello World'])  # B\n",
    "\n",
    "\n",
    "# Difference A-B and B-A\n",
    "print(set4.difference(set5))   # A-B\n",
    "\n",
    "print(set5.difference(set4))  # B-A"
   ]
  },
  {
   "cell_type": "markdown",
   "id": "59a4c062",
   "metadata": {},
   "source": [
    "# Union\n",
    "\n",
    " * __it corresponds to all the elements in both sets.__"
   ]
  },
  {
   "cell_type": "code",
   "execution_count": 13,
   "id": "2fe2603a",
   "metadata": {},
   "outputs": [
    {
     "name": "stdout",
     "output_type": "stream",
     "text": [
      "{False, 1.618, True, 3.14, 2023, 'Hello World', 'Hello Python'}\n"
     ]
    }
   ],
   "source": [
    "print(set4.union(set5))"
   ]
  },
  {
   "cell_type": "markdown",
   "id": "daa6897d",
   "metadata": {},
   "source": [
    "# min(),max() and sum() functions"
   ]
  },
  {
   "cell_type": "code",
   "execution_count": 9,
   "id": "7a37873e",
   "metadata": {},
   "outputs": [
    {
     "name": "stdout",
     "output_type": "stream",
     "text": [
      "The minimum number of a is: 1\n",
      "The minimum number of b is: 1\n",
      "The maximum number of a is: 99\n",
      "The maximum number of b is: 99\n",
      "The sum of the number a is: 164\n",
      "The sum of the number b is: 135\n",
      "[1, 2, 3, 4, 5, 6, 7, 8, 99, 4, 5, 5, 5, 4, 6]\n",
      "{1, 2, 3, 4, 5, 6, 7, 8, 99}\n"
     ]
    }
   ],
   "source": [
    "a=[1,2,3,4,5,6,7,8,99,4,5,5,5,4,6]\n",
    "b={1,2,3,4,5,6,7,8,99,4,5,5,5,4,6}\n",
    "\n",
    "print('The minimum number of a is:',min(a))\n",
    "print('The minimum number of b is:',min(b))\n",
    "print('The maximum number of a is:',max(a))\n",
    "print('The maximum number of b is:',max(b))\n",
    "print('The sum of the number a is:',sum(a))\n",
    "print('The sum of the number b is:',sum(b))\n",
    "print(a)\n",
    "print(b)"
   ]
  },
  {
   "cell_type": "markdown",
   "id": "fbf27d6c",
   "metadata": {},
   "source": [
    "# No mutable sequence in a set\n",
    "\n",
    " * __A set can not have mutable elements such as list or dictionary in it. If any, it returns error as follows:__"
   ]
  },
  {
   "cell_type": "code",
   "execution_count": 12,
   "id": "7d6aa7ee",
   "metadata": {},
   "outputs": [
    {
     "data": {
      "text/plain": [
       "{(1, 2, 3), 1, 2, 3, 'Python'}"
      ]
     },
     "execution_count": 12,
     "metadata": {},
     "output_type": "execute_result"
    }
   ],
   "source": [
    "set6={'Python',1,2,3,(1,2,3)}\n",
    "set6"
   ]
  },
  {
   "cell_type": "code",
   "execution_count": 13,
   "id": "1ea31f1f",
   "metadata": {},
   "outputs": [
    {
     "ename": "TypeError",
     "evalue": "unhashable type: 'list'",
     "output_type": "error",
     "traceback": [
      "\u001b[1;31m---------------------------------------------------------------------------\u001b[0m",
      "\u001b[1;31mTypeError\u001b[0m                                 Traceback (most recent call last)",
      "\u001b[1;32m~\\AppData\\Local\\Temp\\ipykernel_12824\\1217784769.py\u001b[0m in \u001b[0;36m<module>\u001b[1;34m\u001b[0m\n\u001b[1;32m----> 1\u001b[1;33m \u001b[0mset7\u001b[0m\u001b[1;33m=\u001b[0m\u001b[1;33m{\u001b[0m\u001b[1;34m'Python'\u001b[0m\u001b[1;33m,\u001b[0m\u001b[1;36m1\u001b[0m\u001b[1;33m,\u001b[0m\u001b[1;36m2\u001b[0m\u001b[1;33m,\u001b[0m\u001b[1;36m3\u001b[0m\u001b[1;33m,\u001b[0m\u001b[1;33m[\u001b[0m\u001b[1;36m1\u001b[0m\u001b[1;33m,\u001b[0m\u001b[1;36m2\u001b[0m\u001b[1;33m,\u001b[0m\u001b[1;36m3\u001b[0m\u001b[1;33m]\u001b[0m\u001b[1;33m}\u001b[0m\u001b[1;33m\u001b[0m\u001b[1;33m\u001b[0m\u001b[0m\n\u001b[0m\u001b[0;32m      2\u001b[0m \u001b[0mset7\u001b[0m\u001b[1;33m\u001b[0m\u001b[1;33m\u001b[0m\u001b[0m\n",
      "\u001b[1;31mTypeError\u001b[0m: unhashable type: 'list'"
     ]
    }
   ],
   "source": [
    "set7={'Python',1,2,3,[1,2,3]}\n",
    "set7"
   ]
  },
  {
   "cell_type": "markdown",
   "id": "aed2c374",
   "metadata": {},
   "source": [
    "# index() function\n",
    "\n",
    " * __This function does not work in set since the set is unordered collection.__"
   ]
  },
  {
   "cell_type": "code",
   "execution_count": 14,
   "id": "106ce25b",
   "metadata": {},
   "outputs": [
    {
     "ename": "TypeError",
     "evalue": "'set' object is not subscriptable",
     "output_type": "error",
     "traceback": [
      "\u001b[1;31m---------------------------------------------------------------------------\u001b[0m",
      "\u001b[1;31mTypeError\u001b[0m                                 Traceback (most recent call last)",
      "\u001b[1;32m~\\AppData\\Local\\Temp\\ipykernel_12824\\1571047499.py\u001b[0m in \u001b[0;36m<module>\u001b[1;34m\u001b[0m\n\u001b[0;32m      1\u001b[0m \u001b[0mset8\u001b[0m\u001b[1;33m=\u001b[0m\u001b[1;33m{\u001b[0m\u001b[1;36m1\u001b[0m\u001b[1;33m,\u001b[0m\u001b[1;36m2\u001b[0m\u001b[1;33m,\u001b[0m\u001b[1;36m3\u001b[0m\u001b[1;33m}\u001b[0m\u001b[1;33m\u001b[0m\u001b[1;33m\u001b[0m\u001b[0m\n\u001b[0;32m      2\u001b[0m \u001b[1;33m\u001b[0m\u001b[0m\n\u001b[1;32m----> 3\u001b[1;33m \u001b[0mset8\u001b[0m\u001b[1;33m[\u001b[0m\u001b[1;36m1\u001b[0m\u001b[1;33m]\u001b[0m\u001b[1;33m\u001b[0m\u001b[1;33m\u001b[0m\u001b[0m\n\u001b[0m",
      "\u001b[1;31mTypeError\u001b[0m: 'set' object is not subscriptable"
     ]
    }
   ],
   "source": [
    "set8={1,2,3}\n",
    "\n",
    "set8[1]"
   ]
  },
  {
   "cell_type": "code",
   "execution_count": null,
   "id": "6411dbc0",
   "metadata": {},
   "outputs": [],
   "source": []
  }
 ],
 "metadata": {
  "kernelspec": {
   "display_name": "Python 3 (ipykernel)",
   "language": "python",
   "name": "python3"
  },
  "language_info": {
   "codemirror_mode": {
    "name": "ipython",
    "version": 3
   },
   "file_extension": ".py",
   "mimetype": "text/x-python",
   "name": "python",
   "nbconvert_exporter": "python",
   "pygments_lexer": "ipython3",
   "version": "3.9.13"
  }
 },
 "nbformat": 4,
 "nbformat_minor": 5
}
