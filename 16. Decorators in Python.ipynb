{
 "cells": [
  {
   "cell_type": "markdown",
   "id": "9bebd747",
   "metadata": {},
   "source": [
    "# 16. Decorators in Python\n",
    "\n",
    " * __Decorators provides a simple syntax for calling higher-order functions.__\n",
    " * __By definition, a decorators is a function that takes another function and extends the behavior of the letter function without explicitly modifying it.__\n",
    " * __A decorator in Python is a function that takes another function as its argument, and returns yet another function.__\n",
    " * __Decorators can be extremely useful as they allow the extension of existing function, without any modification to the original function source code.__\n",
    " * __In application, decorators are majorly used in creating middle layer in the backend, it performs task like token authentication, validation, image compression and many more.__"
   ]
  },
  {
   "cell_type": "code",
   "execution_count": 1,
   "id": "c901414e",
   "metadata": {},
   "outputs": [],
   "source": [
    "import decorator\n",
    "\n",
    "from decorator import *\n",
    "import functools\n",
    "import math"
   ]
  },
  {
   "cell_type": "code",
   "execution_count": 2,
   "id": "80c1fb26",
   "metadata": {},
   "outputs": [
    {
     "name": "stdout",
     "output_type": "stream",
     "text": [
      "Help on function decorator in module decorator:\n",
      "\n",
      "decorator(caller, _func=None, kwsyntax=False)\n",
      "    decorator(caller) converts a caller function into a decorator\n",
      "\n"
     ]
    }
   ],
   "source": [
    "help(decorator)"
   ]
  },
  {
   "cell_type": "code",
   "execution_count": 3,
   "id": "1e84b7d4",
   "metadata": {},
   "outputs": [
    {
     "name": "stdout",
     "output_type": "stream",
     "text": [
      "Python is a programming language.\n"
     ]
    }
   ],
   "source": [
    "def mytext(text):\n",
    "    print(text)\n",
    "    \n",
    "mytext('Python is a programming language.')"
   ]
  },
  {
   "cell_type": "code",
   "execution_count": 4,
   "id": "4b216a1e",
   "metadata": {},
   "outputs": [
    {
     "name": "stdout",
     "output_type": "stream",
     "text": [
      "Purushottam\n",
      "Welcome\n"
     ]
    }
   ],
   "source": [
    "new_text=mytext\n",
    "new_text(\"Purushottam\")\n",
    "x=mytext\n",
    "x('Welcome')"
   ]
  },
  {
   "cell_type": "code",
   "execution_count": 9,
   "id": "e4cad70f",
   "metadata": {},
   "outputs": [
    {
     "name": "stdout",
     "output_type": "stream",
     "text": [
      "Python is a programming language.\n",
      "Hello, Purushottam\n",
      "Hello World\n"
     ]
    }
   ],
   "source": [
    "# Nested function\n",
    "def mytext():\n",
    "    print(\"Python is a programming language.\")\n",
    "    def new_text():\n",
    "        print(\"Hello, Purushottam\")\n",
    "    def message():\n",
    "        print(\"Hello World\")\n",
    "        \n",
    "    new_text()\n",
    "    \n",
    "    message()\n",
    "mytext()"
   ]
  },
  {
   "cell_type": "code",
   "execution_count": 10,
   "id": "23d06310",
   "metadata": {},
   "outputs": [
    {
     "name": "stdout",
     "output_type": "stream",
     "text": [
      "Python is the most populark programming language.\n"
     ]
    }
   ],
   "source": [
    "def msg(text):\n",
    "    '123'\n",
    "    def mail():\n",
    "        'Hello World'\n",
    "        print(text)\n",
    "        \n",
    "    mail()\n",
    "msg('Python is the most populark programming language.')"
   ]
  },
  {
   "cell_type": "code",
   "execution_count": 15,
   "id": "141eecd1",
   "metadata": {},
   "outputs": [
    {
     "name": "stdout",
     "output_type": "stream",
     "text": [
      "8\n",
      "5.0\n"
     ]
    }
   ],
   "source": [
    "def multi(x):\n",
    "    return x*2\n",
    "def divide(x):\n",
    "    return x/2\n",
    "def operator(function,x):\n",
    "    number=function(x)\n",
    "    return number\n",
    "print(operator(mult,4))\n",
    "print(operator(divide,10))"
   ]
  },
  {
   "cell_type": "code",
   "execution_count": null,
   "id": "c2b135c0",
   "metadata": {},
   "outputs": [],
   "source": []
  }
 ],
 "metadata": {
  "kernelspec": {
   "display_name": "Python 3 (ipykernel)",
   "language": "python",
   "name": "python3"
  },
  "language_info": {
   "codemirror_mode": {
    "name": "ipython",
    "version": 3
   },
   "file_extension": ".py",
   "mimetype": "text/x-python",
   "name": "python",
   "nbconvert_exporter": "python",
   "pygments_lexer": "ipython3",
   "version": "3.9.13"
  }
 },
 "nbformat": 4,
 "nbformat_minor": 5
}
