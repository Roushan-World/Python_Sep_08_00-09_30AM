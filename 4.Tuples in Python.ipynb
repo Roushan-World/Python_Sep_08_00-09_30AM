{
 "cells": [
  {
   "cell_type": "markdown",
   "id": "740e8442-44ea-459b-8995-4874776f8bac",
   "metadata": {},
   "source": [
    "# 4. Tuples in Python\n",
    "\n",
    " * __Tuples are immutable lista and cannot be changed in any way once it is created.__\n",
    " * __Tuples are defined in the same way as lits.__\n",
    " * __They are ordered, indexed collections of data.__\n",
    " * __Similary to string indices, the first value in the tuple will have the index[0], the second value [1].__\n",
    " * __Negative indices are counted from the end of the tuple, just like lists.__\n",
    " * __Tuple also has the same structure where commas separated values.__\n",
    " * __Tuples can store duplicate values.__\n",
    " * __Tuples allow you to store several data items including string, integer, float and sets in one variables.__"
   ]
  },
  {
   "cell_type": "code",
   "execution_count": 5,
   "id": "55cedbed-c9a9-488f-9919-98b25765adc2",
   "metadata": {},
   "outputs": [
    {
     "data": {
      "text/plain": [
       "('hello world',\n",
       " 'Python',\n",
       " 3.14,\n",
       " 1.618,\n",
       " True,\n",
       " False,\n",
       " 32,\n",
       " [1, 2, 3],\n",
       " (4, 5, 6),\n",
       " {1, 2, 3},\n",
       " {'a': 3.14, 'b': 10})"
      ]
     },
     "execution_count": 5,
     "metadata": {},
     "output_type": "execute_result"
    }
   ],
   "source": [
    "tuple_1=(\"hello world\",\"Python\",3.14,1.618,True,False,32,[1,2,3],(4,5,6),{1,2,3},{'a':3.14,'b':10})\n",
    "tuple_1"
   ]
  },
  {
   "cell_type": "code",
   "execution_count": 6,
   "id": "e4b4e634-141b-424e-9014-a39383eab873",
   "metadata": {},
   "outputs": [
    {
     "name": "stdout",
     "output_type": "stream",
     "text": [
      "<class 'tuple'>\n"
     ]
    }
   ],
   "source": [
    "print(type(tuple_1))"
   ]
  },
  {
   "cell_type": "code",
   "execution_count": 7,
   "id": "cc1b7e11-03c3-4f08-9639-1893480203d0",
   "metadata": {},
   "outputs": [
    {
     "name": "stdout",
     "output_type": "stream",
     "text": [
      "11\n"
     ]
    }
   ],
   "source": [
    "print(len(tuple_1))"
   ]
  },
  {
   "cell_type": "code",
   "execution_count": 11,
   "id": "9f217fe0-ae16-4313-8922-c066031c7af8",
   "metadata": {},
   "outputs": [
    {
     "name": "stdout",
     "output_type": "stream",
     "text": [
      "hello world\n",
      "Python\n",
      "3.14\n"
     ]
    }
   ],
   "source": [
    "print(tuple_1[0])\n",
    "print(tuple_1[1])\n",
    "print(tuple_1[2])"
   ]
  },
  {
   "cell_type": "code",
   "execution_count": 13,
   "id": "77553e8d-0c84-4fc9-ac54-249b9e003ec9",
   "metadata": {},
   "outputs": [
    {
     "name": "stdout",
     "output_type": "stream",
     "text": [
      "{'a': 3.14, 'b': 10}\n",
      "{1, 2, 3}\n"
     ]
    }
   ],
   "source": [
    "print(tuple_1[-1])\n",
    "print(tuple_1[-2])"
   ]
  },
  {
   "cell_type": "code",
   "execution_count": 14,
   "id": "302453a6-bf63-4286-adf6-63ac857e0aa0",
   "metadata": {},
   "outputs": [
    {
     "data": {
      "text/plain": [
       "('hello world', 'Python', 3.14, 1.618, True, False)"
      ]
     },
     "execution_count": 14,
     "metadata": {},
     "output_type": "execute_result"
    }
   ],
   "source": [
    "tuple_1[0:6]"
   ]
  },
  {
   "cell_type": "code",
   "execution_count": 18,
   "id": "cf7009a6-6874-4928-b03e-c07c59ec0ae0",
   "metadata": {},
   "outputs": [
    {
     "data": {
      "text/plain": [
       "('hello world',\n",
       " 'Python',\n",
       " 3.14,\n",
       " 1.618,\n",
       " True,\n",
       " False,\n",
       " 32,\n",
       " [1, 2, 3],\n",
       " (4, 5, 6),\n",
       " {1, 2, 3},\n",
       " {'a': 3.14, 'b': 10})"
      ]
     },
     "execution_count": 18,
     "metadata": {},
     "output_type": "execute_result"
    }
   ],
   "source": [
    "tuple_1[:]"
   ]
  },
  {
   "cell_type": "code",
   "execution_count": 20,
   "id": "88a2f609-c534-4387-8af0-a93f9100376d",
   "metadata": {},
   "outputs": [
    {
     "name": "stdout",
     "output_type": "stream",
     "text": [
      "('hello world', 'Python', 3.14, 1.618, True, False, 32, [1, 2, 3], (4, 5, 6), {1, 2, 3}, {'a': 3.14, 'b': 10})\n"
     ]
    }
   ],
   "source": [
    "print(tuple_1)"
   ]
  },
  {
   "cell_type": "code",
   "execution_count": 30,
   "id": "ec7a2ba1-d837-4163-9985-fb98144ffec0",
   "metadata": {},
   "outputs": [
    {
     "data": {
      "text/plain": [
       "(32, 10, 20, True, False)"
      ]
     },
     "execution_count": 30,
     "metadata": {},
     "output_type": "execute_result"
    }
   ],
   "source": [
    "tuple_2=(32,10,20,True,False)\n",
    "tuple_2"
   ]
  },
  {
   "cell_type": "code",
   "execution_count": 31,
   "id": "3a148a35-698f-4028-b52a-c20167295f03",
   "metadata": {},
   "outputs": [
    {
     "name": "stdout",
     "output_type": "stream",
     "text": [
      "('hello world', 'Python', 3.14, 1.618, True, False, 32, [1, 2, 3], (4, 5, 6), {1, 2, 3}, {'a': 3.14, 'b': 10}, 32, 10, 20, True, False)\n"
     ]
    }
   ],
   "source": [
    "tuple_3=tuple_1+tuple_2\n",
    "print(tuple_3)"
   ]
  },
  {
   "cell_type": "code",
   "execution_count": 33,
   "id": "df6ad850-5f26-444a-9d0c-dc6b21311afd",
   "metadata": {},
   "outputs": [
    {
     "name": "stdout",
     "output_type": "stream",
     "text": [
      "('hello world', 'Python', 3.14, 1.618, True, False, 32, [1, 2, 3], (4, 5, 6), {1, 2, 3}, {'a': 3.14, 'b': 10}, 32, 10, 20, True, False)\n"
     ]
    }
   ],
   "source": [
    "print(tuple_3)"
   ]
  },
  {
   "cell_type": "code",
   "execution_count": 34,
   "id": "22382808-a592-4384-868c-9d1f2f22b84b",
   "metadata": {},
   "outputs": [
    {
     "data": {
      "text/plain": [
       "(1, 2, 3, 4)"
      ]
     },
     "execution_count": 34,
     "metadata": {},
     "output_type": "execute_result"
    }
   ],
   "source": [
    "x_tuple=(1,2,3,4)\n",
    "x_tuple"
   ]
  },
  {
   "cell_type": "code",
   "execution_count": 35,
   "id": "b67b0531-ee47-4bef-afe6-b2fb99bf00c2",
   "metadata": {},
   "outputs": [
    {
     "ename": "AttributeError",
     "evalue": "'tuple' object has no attribute 'insert'",
     "output_type": "error",
     "traceback": [
      "\u001b[1;31m---------------------------------------------------------------------------\u001b[0m",
      "\u001b[1;31mAttributeError\u001b[0m                            Traceback (most recent call last)",
      "Cell \u001b[1;32mIn[35], line 1\u001b[0m\n\u001b[1;32m----> 1\u001b[0m \u001b[43mx_tuple\u001b[49m\u001b[38;5;241;43m.\u001b[39;49m\u001b[43minsert\u001b[49m(\u001b[38;5;241m0\u001b[39m,\u001b[38;5;124m\"\u001b[39m\u001b[38;5;124mHello World\u001b[39m\u001b[38;5;124m\"\u001b[39m)\n\u001b[0;32m      2\u001b[0m x_tuple\n",
      "\u001b[1;31mAttributeError\u001b[0m: 'tuple' object has no attribute 'insert'"
     ]
    }
   ],
   "source": [
    "x_tuple.insert(0,\"Hello World\")\n",
    "x_tuple"
   ]
  },
  {
   "cell_type": "code",
   "execution_count": 36,
   "id": "7cbd1c1c-756f-4ba3-9816-c91c783dcbaf",
   "metadata": {},
   "outputs": [
    {
     "data": {
      "text/plain": [
       "(1, 2, 3, 4)"
      ]
     },
     "execution_count": 36,
     "metadata": {},
     "output_type": "execute_result"
    }
   ],
   "source": [
    "x_tuple"
   ]
  },
  {
   "cell_type": "code",
   "execution_count": 37,
   "id": "829c134c-a828-4a0b-a73c-cd36f0804561",
   "metadata": {},
   "outputs": [
    {
     "ename": "TypeError",
     "evalue": "'tuple' object doesn't support item deletion",
     "output_type": "error",
     "traceback": [
      "\u001b[1;31m---------------------------------------------------------------------------\u001b[0m",
      "\u001b[1;31mTypeError\u001b[0m                                 Traceback (most recent call last)",
      "Cell \u001b[1;32mIn[37], line 1\u001b[0m\n\u001b[1;32m----> 1\u001b[0m \u001b[38;5;28;01mdel\u001b[39;00m(\u001b[43mx_tuple\u001b[49m\u001b[43m[\u001b[49m\u001b[38;5;241;43m0\u001b[39;49m\u001b[43m]\u001b[49m)\n",
      "\u001b[1;31mTypeError\u001b[0m: 'tuple' object doesn't support item deletion"
     ]
    }
   ],
   "source": [
    "del(x_tuple[0])"
   ]
  },
  {
   "cell_type": "markdown",
   "id": "704777c7-944f-4a31-be19-59ed37581609",
   "metadata": {},
   "source": [
    "# sorting of tuple"
   ]
  },
  {
   "cell_type": "code",
   "execution_count": 44,
   "id": "5270d557-1b07-4d41-ad30-64fbf6341f28",
   "metadata": {},
   "outputs": [
    {
     "name": "stdout",
     "output_type": "stream",
     "text": [
      "14\n",
      "0\n",
      "85\n",
      "375\n",
      "(0, 5, 6, 7, 10, 20, 40, 13, 12, 51, 49, 85, 76, True)\n",
      "[0, True, 5, 6, 7, 10, 12, 13, 20, 40, 49, 51, 76, 85]\n"
     ]
    }
   ],
   "source": [
    "tuple_3=(0,5,6,7,10,20,40,13,12,51,49,85,76,True)\n",
    "print(len(tuple_3))\n",
    "print(min(tuple_3))\n",
    "print(max(tuple_3))\n",
    "print(sum(tuple_3))\n",
    "\n",
    "print(tuple_3)\n",
    "x=sorted(tuple_3)\n",
    "print(x)"
   ]
  },
  {
   "cell_type": "code",
   "execution_count": 45,
   "id": "b1e813a6-b79d-4ea4-8ff0-9ecfcf8e444b",
   "metadata": {},
   "outputs": [
    {
     "data": {
      "text/plain": [
       "(0, 5, 6, 7, 10, 20, 40, 13, 12, 51, 49, 85, 76, True)"
      ]
     },
     "execution_count": 45,
     "metadata": {},
     "output_type": "execute_result"
    }
   ],
   "source": [
    "tuple_3"
   ]
  },
  {
   "cell_type": "code",
   "execution_count": 46,
   "id": "d57d7045-95e8-4472-95ec-74f0bd59cd35",
   "metadata": {},
   "outputs": [],
   "source": [
    "del(tuple_3)"
   ]
  },
  {
   "cell_type": "code",
   "execution_count": 47,
   "id": "d4f226a9-5af8-467d-bb39-e299e67500ea",
   "metadata": {},
   "outputs": [
    {
     "ename": "NameError",
     "evalue": "name 'tuple_3' is not defined",
     "output_type": "error",
     "traceback": [
      "\u001b[1;31m---------------------------------------------------------------------------\u001b[0m",
      "\u001b[1;31mNameError\u001b[0m                                 Traceback (most recent call last)",
      "Cell \u001b[1;32mIn[47], line 1\u001b[0m\n\u001b[1;32m----> 1\u001b[0m \u001b[38;5;28mprint\u001b[39m(\u001b[43mtuple_3\u001b[49m)\n",
      "\u001b[1;31mNameError\u001b[0m: name 'tuple_3' is not defined"
     ]
    }
   ],
   "source": [
    "print(tuple_3)"
   ]
  },
  {
   "cell_type": "code",
   "execution_count": 48,
   "id": "d502ac92-db4e-4645-b8b8-20465587f533",
   "metadata": {},
   "outputs": [
    {
     "data": {
      "text/plain": [
       "(0, 5, 6, 7, 10, 20, 40, 13, 12, 51, 49, 85, 76, True)"
      ]
     },
     "execution_count": 48,
     "metadata": {},
     "output_type": "execute_result"
    }
   ],
   "source": [
    "tuple_3=(0,5,6,7,10,20,40,13,12,51,49,85,76,True)\n",
    "\n",
    "tuple_3"
   ]
  },
  {
   "cell_type": "code",
   "execution_count": 52,
   "id": "b52a2a6d-ceee-49dc-9bba-1feef3996dbd",
   "metadata": {},
   "outputs": [
    {
     "name": "stdout",
     "output_type": "stream",
     "text": [
      "[0, True, 5, 6, 7, 10, 12, 13, 20, 40, 49, 51, 76, 85]\n",
      "[85, 76, 51, 49, 40, 20, 13, 12, 10, 7, 6, 5, True, 0]\n"
     ]
    }
   ],
   "source": [
    "x=sorted(tuple_3)\n",
    "print(x)\n",
    "\n",
    "desc=sorted(tuple_3, reverse=True)\n",
    "print(desc)"
   ]
  },
  {
   "cell_type": "code",
   "execution_count": 67,
   "id": "499604ba-c00c-4fbc-8b87-fa88a42aca50",
   "metadata": {},
   "outputs": [
    {
     "data": {
      "text/plain": [
       "[0, True, 5, 6, 7, 10, 12, 13, 20, 40, 49, 51, 76, 85]"
      ]
     },
     "execution_count": 67,
     "metadata": {},
     "output_type": "execute_result"
    }
   ],
   "source": [
    "x[::-1]"
   ]
  },
  {
   "cell_type": "code",
   "execution_count": 68,
   "id": "bc37e236-2e8e-430d-871a-30e358e63b13",
   "metadata": {},
   "outputs": [
    {
     "data": {
      "text/plain": [
       "'ilapuR'"
      ]
     },
     "execution_count": 68,
     "metadata": {},
     "output_type": "execute_result"
    }
   ],
   "source": [
    "x1=\"Rupali\"\n",
    "x1[::-1]"
   ]
  },
  {
   "cell_type": "code",
   "execution_count": 70,
   "id": "731a9f50-34ac-4eee-83c3-9d787becc438",
   "metadata": {},
   "outputs": [
    {
     "data": {
      "text/plain": [
       "(True, 76, 85, 49, 51, 12, 13, 40, 20, 10, 7, 6, 5, 0)"
      ]
     },
     "execution_count": 70,
     "metadata": {},
     "output_type": "execute_result"
    }
   ],
   "source": [
    "tuple_3[::-1]"
   ]
  },
  {
   "cell_type": "code",
   "execution_count": 71,
   "id": "ace5a411-3490-4530-8076-e51ba7a5aa92",
   "metadata": {},
   "outputs": [
    {
     "data": {
      "text/plain": [
       "(0, 5, 6, 7, 10, 20, 40, 13, 12, 51, 49, 85, 76, True)"
      ]
     },
     "execution_count": 71,
     "metadata": {},
     "output_type": "execute_result"
    }
   ],
   "source": [
    "tuple_3"
   ]
  },
  {
   "cell_type": "code",
   "execution_count": 72,
   "id": "0e4a2481-b27b-4f26-92e8-6876222aee97",
   "metadata": {},
   "outputs": [
    {
     "data": {
      "text/plain": [
       "[0, True, 5, 6, 7, 10, 12, 13, 20, 40, 49, 51, 76, 85]"
      ]
     },
     "execution_count": 72,
     "metadata": {},
     "output_type": "execute_result"
    }
   ],
   "source": [
    "x"
   ]
  },
  {
   "cell_type": "code",
   "execution_count": 76,
   "id": "b7211d5b-c75e-403b-af8a-d40146a67eac",
   "metadata": {},
   "outputs": [
    {
     "ename": "TypeError",
     "evalue": "'builtin_function_or_method' object is not subscriptable",
     "output_type": "error",
     "traceback": [
      "\u001b[1;31m---------------------------------------------------------------------------\u001b[0m",
      "\u001b[1;31mTypeError\u001b[0m                                 Traceback (most recent call last)",
      "Cell \u001b[1;32mIn[76], line 1\u001b[0m\n\u001b[1;32m----> 1\u001b[0m \u001b[43mx\u001b[49m\u001b[38;5;241;43m.\u001b[39;49m\u001b[43mindex\u001b[49m\u001b[43m[\u001b[49m\u001b[38;5;28;43;01mTrue\u001b[39;49;00m\u001b[43m]\u001b[49m\n",
      "\u001b[1;31mTypeError\u001b[0m: 'builtin_function_or_method' object is not subscriptable"
     ]
    }
   ],
   "source": [
    "x.index[True]"
   ]
  },
  {
   "cell_type": "code",
   "execution_count": 77,
   "id": "f2a4e73b-ec24-4ca2-b014-a4dc74e95997",
   "metadata": {},
   "outputs": [
    {
     "data": {
      "text/plain": [
       "[0, True, 5, 6, 7, 10, 12, 13, 20, 40, 49, 51, 76, 85]"
      ]
     },
     "execution_count": 77,
     "metadata": {},
     "output_type": "execute_result"
    }
   ],
   "source": [
    "x"
   ]
  },
  {
   "cell_type": "code",
   "execution_count": 78,
   "id": "f7f461b9-0e1d-41c2-b062-334456f5301b",
   "metadata": {},
   "outputs": [
    {
     "data": {
      "text/plain": [
       "(0, 5, 6, 7, 10, 20, 40, 13, 12, 51, 49, 85, 76, True)"
      ]
     },
     "execution_count": 78,
     "metadata": {},
     "output_type": "execute_result"
    }
   ],
   "source": [
    "tuple_3"
   ]
  },
  {
   "cell_type": "code",
   "execution_count": 86,
   "id": "cec56ee3-13f1-4fb7-9e53-5940b4209d0a",
   "metadata": {},
   "outputs": [
    {
     "data": {
      "text/plain": [
       "4"
      ]
     },
     "execution_count": 86,
     "metadata": {},
     "output_type": "execute_result"
    }
   ],
   "source": [
    "tuple_3.index(10)"
   ]
  },
  {
   "cell_type": "code",
   "execution_count": null,
   "id": "be3405d3-7692-4d95-948d-43895538e0f7",
   "metadata": {},
   "outputs": [],
   "source": []
  }
 ],
 "metadata": {
  "kernelspec": {
   "display_name": "Python 3 (ipykernel)",
   "language": "python",
   "name": "python3"
  },
  "language_info": {
   "codemirror_mode": {
    "name": "ipython",
    "version": 3
   },
   "file_extension": ".py",
   "mimetype": "text/x-python",
   "name": "python",
   "nbconvert_exporter": "python",
   "pygments_lexer": "ipython3",
   "version": "3.11.4"
  }
 },
 "nbformat": 4,
 "nbformat_minor": 5
}
