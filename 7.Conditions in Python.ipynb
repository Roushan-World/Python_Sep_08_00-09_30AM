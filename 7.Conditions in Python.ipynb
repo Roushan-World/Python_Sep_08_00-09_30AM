{
 "cells": [
  {
   "cell_type": "markdown",
   "id": "7239dcad",
   "metadata": {},
   "source": [
    "# 7. Conditions in Python\n",
    "\n",
    "\n",
    "# Comparison Operatos\n",
    "\n",
    "* __Comparison operations compare some value or operand and based on a condition, produce a Boolean. Python has six comparison operators as below.__\n",
    "  * __Less than(<)__\n",
    "  * __Less than or equal to(<=)__\n",
    "  * __Greater than(>)__\n",
    "  * __Greater than or equal to(>=)__\n",
    "  * __Equal to(==)__\n",
    "  * __Not equal to(!=)__"
   ]
  },
  {
   "cell_type": "code",
   "execution_count": 7,
   "id": "3fbdb57d",
   "metadata": {},
   "outputs": [
    {
     "name": "stdout",
     "output_type": "stream",
     "text": [
      "True\n",
      "False\n",
      "True\n",
      "False\n",
      "True\n",
      "False\n"
     ]
    }
   ],
   "source": [
    "# Take a variable\n",
    "\n",
    "ratio=1.618\n",
    "\n",
    "print(ratio<2)\n",
    "print(ratio>2)\n",
    "print(ratio<=2)\n",
    "print(ratio>=2)\n",
    "print(ratio==1.618)\n",
    "print(ratio!=1.618)"
   ]
  },
  {
   "cell_type": "markdown",
   "id": "a98e517e",
   "metadata": {},
   "source": [
    "# Branching (if,elif,else)\n",
    "\n",
    " * __Decision making is required when we want to execute a code only if a certain condition is satisfied.__\n",
    " * __The if/elif/else statement is used in Python for decision making.__\n",
    " * __An else statement can be combined with an if statement.__\n",
    " * __An else statement contains the block of code that executes if the conditional expression in the if statement resolves to 0 or a False value.__\n",
    " * __The else statement is an optional statement and there could be at most only one else statement following if.__\n",
    " * __The elif statement allows you to check multiple expression for True and execute a block of code as soon as one of the condition evaluates to True.__\n",
    " * __Similar to the else, the elif statement is optional.__\n",
    " * __However, unlike else, for which there can be at most one statement, there can be an arbitrary nuber of elif statement following an if.__"
   ]
  },
  {
   "cell_type": "code",
   "execution_count": 8,
   "id": "5697fec1",
   "metadata": {},
   "outputs": [
    {
     "name": "stdout",
     "output_type": "stream",
     "text": [
      "hello world\n"
     ]
    }
   ],
   "source": [
    "if 2:\n",
    "    print('hello world')"
   ]
  },
  {
   "cell_type": "code",
   "execution_count": 11,
   "id": "0b00616c",
   "metadata": {},
   "outputs": [
    {
     "name": "stdout",
     "output_type": "stream",
     "text": [
      "This is True condition.\n"
     ]
    }
   ],
   "source": [
    "if True:\n",
    "    print('This is True condition.')"
   ]
  },
  {
   "cell_type": "code",
   "execution_count": 12,
   "id": "efc916dd",
   "metadata": {},
   "outputs": [],
   "source": [
    "if False:\n",
    "    print('This is False condition.')"
   ]
  },
  {
   "cell_type": "code",
   "execution_count": 13,
   "id": "e835ed78",
   "metadata": {},
   "outputs": [
    {
     "name": "stdout",
     "output_type": "stream",
     "text": [
      "This is else condition.\n"
     ]
    }
   ],
   "source": [
    "if False:\n",
    "    print('This is False condition.')\n",
    "    \n",
    "else:\n",
    "    print('This is else condition.')"
   ]
  },
  {
   "cell_type": "code",
   "execution_count": 16,
   "id": "66e0cf37",
   "metadata": {},
   "outputs": [
    {
     "name": "stdout",
     "output_type": "stream",
     "text": [
      "The ratio 1.618 is lower than the number pi 3.147.\n"
     ]
    }
   ],
   "source": [
    "pi=3.147\n",
    "\n",
    "ratio=1.618\n",
    "\n",
    "if pi<ratio:\n",
    "    print(f'The number pi {pi} is greater than the ratio {ratio}.')\n",
    "    \n",
    "else:\n",
    "    print(f'The ratio {ratio} is lower than the number pi {pi}.')"
   ]
  },
  {
   "cell_type": "code",
   "execution_count": null,
   "id": "cd596a4c",
   "metadata": {},
   "outputs": [],
   "source": []
  }
 ],
 "metadata": {
  "kernelspec": {
   "display_name": "Python 3 (ipykernel)",
   "language": "python",
   "name": "python3"
  },
  "language_info": {
   "codemirror_mode": {
    "name": "ipython",
    "version": 3
   },
   "file_extension": ".py",
   "mimetype": "text/x-python",
   "name": "python",
   "nbconvert_exporter": "python",
   "pygments_lexer": "ipython3",
   "version": "3.9.13"
  }
 },
 "nbformat": 4,
 "nbformat_minor": 5
}
