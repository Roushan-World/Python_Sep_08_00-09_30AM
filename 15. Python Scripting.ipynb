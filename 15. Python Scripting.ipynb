{
 "cells": [
  {
   "cell_type": "markdown",
   "id": "c818a652",
   "metadata": {},
   "source": [
    "# Module in Python in Basically a file which contains python defination and Statement.\n",
    "\n",
    " * __Module__\n",
    "\n",
    " * __1.sys_Module__\n",
    " * __2. os_Module__\n",
    " * __3. Math_Module__\n",
    " * __4. Random_Module__\n",
    " * __5. Date&Time_Module__\n",
    " * __6. Json__"
   ]
  },
  {
   "cell_type": "markdown",
   "id": "c7f29a48",
   "metadata": {},
   "source": [
    " * __1. Sys_Module : Sys Module Basecally provide functions and method of Python Interepreter. so, just basically respponsible for controlling and interaction with interpreter. Ex: Any information about system and python interpreter.__"
   ]
  },
  {
   "cell_type": "code",
   "execution_count": 2,
   "id": "be4c4a27",
   "metadata": {},
   "outputs": [
    {
     "name": "stdout",
     "output_type": "stream",
     "text": [
      "3.9.13 (main, Aug 25 2022, 23:51:50) [MSC v.1916 64 bit (AMD64)]\n"
     ]
    }
   ],
   "source": [
    "import sys\n",
    "\n",
    "print(sys.version)"
   ]
  },
  {
   "cell_type": "code",
   "execution_count": 3,
   "id": "3b95dbbf",
   "metadata": {},
   "outputs": [
    {
     "name": "stdout",
     "output_type": "stream",
     "text": [
      "['C:\\\\Users\\\\Admin\\\\anaconda3\\\\lib\\\\site-packages\\\\ipykernel_launcher.py', '-f', 'C:\\\\Users\\\\Admin\\\\AppData\\\\Roaming\\\\jupyter\\\\runtime\\\\kernel-a02d3bc6-1f20-4b17-ab92-2860b99bdb8d.json']\n"
     ]
    }
   ],
   "source": [
    "print(sys.argv) # -----> argv is a list which contains command line argument which pass the script."
   ]
  },
  {
   "cell_type": "markdown",
   "id": "3fa8ced3",
   "metadata": {},
   "source": [
    " * __2.os_Module: It must be pritty clear that moduel is used to intract to the operation system.__\n",
    " \n",
    " * __1.Create folder__\n",
    " * __2.Remove folder__\n",
    " * __3.Move folder__\n",
    " * __4.Someting change in your working directory.__"
   ]
  },
  {
   "cell_type": "code",
   "execution_count": 4,
   "id": "cb7a4dcd",
   "metadata": {},
   "outputs": [],
   "source": [
    "# Command of os_module\n",
    "\n",
    "import os"
   ]
  },
  {
   "cell_type": "code",
   "execution_count": 5,
   "id": "56aef1bd",
   "metadata": {},
   "outputs": [
    {
     "name": "stdout",
     "output_type": "stream",
     "text": [
      "C:\\Users\\Admin\\1.Python-New-08-09_30\n"
     ]
    }
   ],
   "source": [
    "print(os.getcwd())  #--------> Current working directory."
   ]
  },
  {
   "cell_type": "code",
   "execution_count": 6,
   "id": "dfb09310",
   "metadata": {},
   "outputs": [],
   "source": [
    "# Change Directory\n",
    "\n",
    "os.chdir(\"D:\\\\Vivek\")"
   ]
  },
  {
   "cell_type": "code",
   "execution_count": 7,
   "id": "65693065",
   "metadata": {},
   "outputs": [
    {
     "data": {
      "text/plain": [
       "'D:\\\\Vivek'"
      ]
     },
     "execution_count": 7,
     "metadata": {},
     "output_type": "execute_result"
    }
   ],
   "source": [
    "os.getcwd()"
   ]
  },
  {
   "cell_type": "code",
   "execution_count": 12,
   "id": "6667e20c",
   "metadata": {},
   "outputs": [],
   "source": [
    "# Make Directory\n",
    "\n",
    "os.mkdir(\"D:\\\\Purushottam\")"
   ]
  },
  {
   "cell_type": "code",
   "execution_count": 13,
   "id": "37f7afb9",
   "metadata": {},
   "outputs": [
    {
     "data": {
      "text/plain": [
       "'D:\\\\Vivek'"
      ]
     },
     "execution_count": 13,
     "metadata": {},
     "output_type": "execute_result"
    }
   ],
   "source": [
    "os.getcwd()"
   ]
  },
  {
   "cell_type": "code",
   "execution_count": 14,
   "id": "4b2901cd",
   "metadata": {},
   "outputs": [
    {
     "name": "stdout",
     "output_type": "stream",
     "text": [
      " Volume in drive D is Windows\n",
      " Volume Serial Number is D68B-A907\n",
      "\n",
      " Directory of D:\\Vivek\n",
      "\n",
      "05/10/2023  13:24    <DIR>          .\n",
      "05/10/2023  13:24    <DIR>          ..\n",
      "05/10/2023  13:03               288 a.py\n",
      "05/10/2023  13:28               203 b.py\n",
      "16/08/2023  15:28             4,093 Chandra_Shekhar_Azad.txt\n",
      "05/10/2023  13:17               130 file_read_loop.py\n",
      "               4 File(s)          4,714 bytes\n",
      "               2 Dir(s)  175,784,890,368 bytes free\n"
     ]
    }
   ],
   "source": [
    "ls  # -------------> list of directory"
   ]
  },
  {
   "cell_type": "code",
   "execution_count": 15,
   "id": "4ffe258e",
   "metadata": {},
   "outputs": [],
   "source": [
    "os.chdir(\"D:\\\\Purushottam\")"
   ]
  },
  {
   "cell_type": "code",
   "execution_count": 17,
   "id": "24137ac1",
   "metadata": {},
   "outputs": [
    {
     "data": {
      "text/plain": [
       "'D:\\\\Purushottam'"
      ]
     },
     "execution_count": 17,
     "metadata": {},
     "output_type": "execute_result"
    }
   ],
   "source": [
    "os.getcwd()"
   ]
  },
  {
   "cell_type": "code",
   "execution_count": 19,
   "id": "3dc64507",
   "metadata": {},
   "outputs": [
    {
     "ename": "PermissionError",
     "evalue": "[WinError 32] The process cannot access the file because it is being used by another process: 'D:\\\\Purushottam'",
     "output_type": "error",
     "traceback": [
      "\u001b[1;31m---------------------------------------------------------------------------\u001b[0m",
      "\u001b[1;31mPermissionError\u001b[0m                           Traceback (most recent call last)",
      "\u001b[1;32m~\\AppData\\Local\\Temp\\ipykernel_5252\\1487768912.py\u001b[0m in \u001b[0;36m<module>\u001b[1;34m\u001b[0m\n\u001b[0;32m      1\u001b[0m \u001b[1;31m# Delete or remove directory\u001b[0m\u001b[1;33m\u001b[0m\u001b[1;33m\u001b[0m\u001b[0m\n\u001b[0;32m      2\u001b[0m \u001b[1;33m\u001b[0m\u001b[0m\n\u001b[1;32m----> 3\u001b[1;33m \u001b[0mos\u001b[0m\u001b[1;33m.\u001b[0m\u001b[0mrmdir\u001b[0m\u001b[1;33m(\u001b[0m\u001b[1;34m\"D:\\\\Purushottam\"\u001b[0m\u001b[1;33m)\u001b[0m \u001b[1;31m# --------------remove directory\u001b[0m\u001b[1;33m\u001b[0m\u001b[1;33m\u001b[0m\u001b[0m\n\u001b[0m",
      "\u001b[1;31mPermissionError\u001b[0m: [WinError 32] The process cannot access the file because it is being used by another process: 'D:\\\\Purushottam'"
     ]
    }
   ],
   "source": [
    "# Delete or remove directory\n",
    "\n",
    "os.rmdir(\"D:\\\\Purushottam\") # --------------remove directory"
   ]
  },
  {
   "cell_type": "code",
   "execution_count": 20,
   "id": "61bb615d",
   "metadata": {},
   "outputs": [
    {
     "ename": "PermissionError",
     "evalue": "[WinError 32] The process cannot access the file because it is being used by another process: 'D:\\\\Purushottam'",
     "output_type": "error",
     "traceback": [
      "\u001b[1;31m---------------------------------------------------------------------------\u001b[0m",
      "\u001b[1;31mPermissionError\u001b[0m                           Traceback (most recent call last)",
      "\u001b[1;32m~\\AppData\\Local\\Temp\\ipykernel_5252\\1487768912.py\u001b[0m in \u001b[0;36m<module>\u001b[1;34m\u001b[0m\n\u001b[0;32m      1\u001b[0m \u001b[1;31m# Delete or remove directory\u001b[0m\u001b[1;33m\u001b[0m\u001b[1;33m\u001b[0m\u001b[0m\n\u001b[0;32m      2\u001b[0m \u001b[1;33m\u001b[0m\u001b[0m\n\u001b[1;32m----> 3\u001b[1;33m \u001b[0mos\u001b[0m\u001b[1;33m.\u001b[0m\u001b[0mrmdir\u001b[0m\u001b[1;33m(\u001b[0m\u001b[1;34m\"D:\\\\Purushottam\"\u001b[0m\u001b[1;33m)\u001b[0m \u001b[1;31m# --------------remove directory\u001b[0m\u001b[1;33m\u001b[0m\u001b[1;33m\u001b[0m\u001b[0m\n\u001b[0m",
      "\u001b[1;31mPermissionError\u001b[0m: [WinError 32] The process cannot access the file because it is being used by another process: 'D:\\\\Purushottam'"
     ]
    }
   ],
   "source": [
    "# Delete or remove directory\n",
    "\n",
    "os.rmdir(\"D:\\\\Purushottam\") # --------------remove directory"
   ]
  },
  {
   "cell_type": "code",
   "execution_count": 21,
   "id": "3316660c",
   "metadata": {},
   "outputs": [
    {
     "name": "stdout",
     "output_type": "stream",
     "text": [
      " Volume in drive D is Windows\n",
      " Volume Serial Number is D68B-A907\n",
      "\n",
      " Directory of D:\\Purushottam\n",
      "\n",
      "06/12/2023  08:42    <DIR>          .\n",
      "06/12/2023  08:42    <DIR>          ..\n",
      "               0 File(s)              0 bytes\n",
      "               2 Dir(s)  175,784,890,368 bytes free\n"
     ]
    }
   ],
   "source": [
    "ls"
   ]
  },
  {
   "cell_type": "code",
   "execution_count": 22,
   "id": "e602672c",
   "metadata": {},
   "outputs": [],
   "source": [
    "os.chdir(\"C:\\\\Users\\\\Admin\\\\1.Python-New-08-09_30\")"
   ]
  },
  {
   "cell_type": "code",
   "execution_count": 23,
   "id": "9ca6248b",
   "metadata": {},
   "outputs": [
    {
     "data": {
      "text/plain": [
       "'C:\\\\Users\\\\Admin\\\\1.Python-New-08-09_30'"
      ]
     },
     "execution_count": 23,
     "metadata": {},
     "output_type": "execute_result"
    }
   ],
   "source": [
    "os.getcwd()"
   ]
  },
  {
   "cell_type": "code",
   "execution_count": 24,
   "id": "fc6612ba",
   "metadata": {},
   "outputs": [],
   "source": [
    "os.rmdir(\"D:\\\\Purushottam\")"
   ]
  },
  {
   "cell_type": "code",
   "execution_count": 25,
   "id": "2076acb2",
   "metadata": {},
   "outputs": [
    {
     "name": "stdout",
     "output_type": "stream",
     "text": [
      " Volume in drive C has no label.\n",
      " Volume Serial Number is 58E4-E3F3\n",
      "\n",
      " Directory of C:\\Users\\Admin\\1.Python-New-08-09_30\n",
      "\n",
      "06/12/2023  09:00    <DIR>          .\n",
      "06/12/2023  09:00    <DIR>          ..\n",
      "06/12/2023  08:19    <DIR>          .ipynb_checkpoints\n",
      "07/10/2023  10:50            37,671 1. Python Basic.ipynb\n",
      "08/11/2023  09:15            16,690 10.Exception Handling in Python.ipynb\n",
      "23/11/2023  08:54            18,224 11. Classes and Objects in Python.ipynb\n",
      "28/11/2023  09:09            45,971 12. Reading Files in Python.ipynb\n",
      "29/11/2023  09:31             7,549 13.Writing_Files_in_Python.ipynb\n",
      "05/12/2023  09:14             9,419 14. Lambda Functions in Python.ipynb\n",
      "06/12/2023  09:00             9,284 15. Python Scripting.ipynb\n",
      "09/10/2023  08:49            30,243 3. Lists.ipynb\n",
      "10/10/2023  08:44            15,705 4. Tuples in Python.ipynb\n",
      "11/10/2023  08:39            17,828 5. Sets in Python.ipynb\n",
      "11/10/2023  09:21            13,909 6. Dictionaries in Python.ipynb\n",
      "19/10/2023  09:19            14,712 7. Conditions in Python.ipynb\n",
      "30/10/2023  09:10            22,280 8.Loops in Python.ipynb\n",
      "02/11/2023  09:09            20,902 9. Functions in Python.ipynb\n",
      "23/11/2023  09:16             4,093 Chandra_Shekhar_Azad.txt\n",
      "29/11/2023  09:14                60 f1.txt\n",
      "29/11/2023  09:30                 9 My_self.txt\n",
      "29/11/2023  09:15                30 purushottam.txt\n",
      "              18 File(s)        284,579 bytes\n",
      "               3 Dir(s)  156,235,927,552 bytes free\n"
     ]
    }
   ],
   "source": [
    "ls"
   ]
  },
  {
   "cell_type": "code",
   "execution_count": 26,
   "id": "c5ab44b5",
   "metadata": {},
   "outputs": [],
   "source": [
    "os.chdir(\"D:\\\\\")"
   ]
  },
  {
   "cell_type": "code",
   "execution_count": 27,
   "id": "3d6701ee",
   "metadata": {},
   "outputs": [
    {
     "name": "stdout",
     "output_type": "stream",
     "text": [
      " Volume in drive D is Windows\n",
      " Volume Serial Number is D68B-A907\n",
      "\n",
      " Directory of D:\\\n",
      "\n",
      "11/10/2023  10:14    <DIR>          Data Analytics Class\n",
      "25/09/2023  12:31    <DIR>          demo\n",
      "11/06/2023  17:14    <DIR>          Django_Practise\n",
      "09/06/2023  14:50    <DIR>          django-project\n",
      "01/06/2023  10:23    <DIR>          fastapi\n",
      "26/11/2023  15:01    <DIR>          IPL_Flask\n",
      "08/07/2023  14:57    <DIR>          KeyPress_OSD\n",
      "13/07/2023  10:28    <DIR>          New_directory\n",
      "30/11/2023  13:52         1,565,663 pexels-pavel-danilyuk-8438964.jpg\n",
      "30/11/2023  13:50           573,107 pexels-pixabay-256219.jpg\n",
      "30/11/2023  13:48         2,958,771 pexels-vlad-alexandru-popa-1402787.jpg\n",
      "01/10/2023  14:26    <DIR>          Projects_tkinter\n",
      "08/06/2023  17:52    <DIR>          Pycharm\n",
      "28/11/2023  16:05    <DIR>          Python_2-4PM\n",
      "05/12/2023  11:43    <DIR>          Python_Batch_12-02PM\n",
      "02/12/2023  09:46    <DIR>          Python_Batch_Sun_To_Sat\n",
      "30/04/2023  09:36    <DIR>          Python_Scripting\n",
      "04/07/2023  13:27    <DIR>          Python_videos\n",
      "20/11/2023  14:05    <DIR>          Recording_Videos\n",
      "09/07/2023  14:10    <DIR>          Registration_Form using Django\n",
      "09/07/2023  14:22    <DIR>          Registration_Form Using Python\n",
      "30/11/2023  14:47    <DIR>          Resume\n",
      "26/11/2023  16:57       172,462,492 Roushan_World_SportsWinPredictor.zip\n",
      "03/12/2023  11:53       172,462,492 Sharma.zip\n",
      "03/12/2023  11:49    <DIR>          Sports_Predictor\n",
      "21/02/2023  18:08    <DIR>          SportsWinnerPredictor-main\n",
      "26/11/2023  15:08        51,247,711 SportsWinnerPredictor-main.zip\n",
      "18/11/2023  11:25    <DIR>          Tableau\n",
      "05/10/2023  13:24    <DIR>          Vivek\n",
      "13/07/2023  19:00               375 xyz.sql\n",
      "               7 File(s)    401,270,611 bytes\n",
      "              23 Dir(s)  175,784,890,368 bytes free\n"
     ]
    }
   ],
   "source": [
    "ls"
   ]
  },
  {
   "cell_type": "code",
   "execution_count": 28,
   "id": "4c2d3034",
   "metadata": {},
   "outputs": [],
   "source": [
    "os.chdir(\"C:\\\\Users\\\\Admin\\\\1.Python-New-08-09_30\")"
   ]
  },
  {
   "cell_type": "code",
   "execution_count": 29,
   "id": "86ad1c79",
   "metadata": {},
   "outputs": [
    {
     "data": {
      "text/plain": [
       "'C:\\\\Users\\\\Admin\\\\1.Python-New-08-09_30'"
      ]
     },
     "execution_count": 29,
     "metadata": {},
     "output_type": "execute_result"
    }
   ],
   "source": [
    "os.getcwd()"
   ]
  },
  {
   "cell_type": "code",
   "execution_count": 30,
   "id": "9607166a",
   "metadata": {},
   "outputs": [
    {
     "data": {
      "text/plain": [
       "('C:\\\\Users\\\\Admin', '1.Python-New-08-09_30')"
      ]
     },
     "execution_count": 30,
     "metadata": {},
     "output_type": "execute_result"
    }
   ],
   "source": [
    "os.path.split(\"C:\\\\Users\\\\Admin\\\\1.Python-New-08-09_30\")"
   ]
  },
  {
   "cell_type": "code",
   "execution_count": 31,
   "id": "f267c91b",
   "metadata": {},
   "outputs": [
    {
     "data": {
      "text/plain": [
       "'C:\\\\Users\\\\Admin\\\\1.Python-New-08-09_30'"
      ]
     },
     "execution_count": 31,
     "metadata": {},
     "output_type": "execute_result"
    }
   ],
   "source": [
    "os.getcwd()"
   ]
  },
  {
   "cell_type": "code",
   "execution_count": 33,
   "id": "da0618e0",
   "metadata": {},
   "outputs": [
    {
     "ename": "AttributeError",
     "evalue": "module 'ntpath' has no attribute 'exit'",
     "output_type": "error",
     "traceback": [
      "\u001b[1;31m---------------------------------------------------------------------------\u001b[0m",
      "\u001b[1;31mAttributeError\u001b[0m                            Traceback (most recent call last)",
      "\u001b[1;32m~\\AppData\\Local\\Temp\\ipykernel_5252\\1114261287.py\u001b[0m in \u001b[0;36m<module>\u001b[1;34m\u001b[0m\n\u001b[1;32m----> 1\u001b[1;33m \u001b[0mos\u001b[0m\u001b[1;33m.\u001b[0m\u001b[0mpath\u001b[0m\u001b[1;33m.\u001b[0m\u001b[0mexit\u001b[0m\u001b[1;33m(\u001b[0m\u001b[1;34m\"C:\\\\Users\\\\Admin\\\\1.Python-New-08-09_30\"\u001b[0m\u001b[1;33m)\u001b[0m\u001b[1;33m\u001b[0m\u001b[1;33m\u001b[0m\u001b[0m\n\u001b[0m",
      "\u001b[1;31mAttributeError\u001b[0m: module 'ntpath' has no attribute 'exit'"
     ]
    }
   ],
   "source": [
    "os.path.exits(\"C:\\\\Users\\\\Admin\\\\1.Python-New-08-09_30\")"
   ]
  },
  {
   "cell_type": "code",
   "execution_count": null,
   "id": "e964d625",
   "metadata": {},
   "outputs": [],
   "source": []
  }
 ],
 "metadata": {
  "kernelspec": {
   "display_name": "Python 3 (ipykernel)",
   "language": "python",
   "name": "python3"
  },
  "language_info": {
   "codemirror_mode": {
    "name": "ipython",
    "version": 3
   },
   "file_extension": ".py",
   "mimetype": "text/x-python",
   "name": "python",
   "nbconvert_exporter": "python",
   "pygments_lexer": "ipython3",
   "version": "3.9.13"
  }
 },
 "nbformat": 4,
 "nbformat_minor": 5
}
