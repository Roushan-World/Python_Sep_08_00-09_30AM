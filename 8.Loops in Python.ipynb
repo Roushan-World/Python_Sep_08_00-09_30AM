{
 "cells": [
  {
   "cell_type": "markdown",
   "id": "c98b31fc",
   "metadata": {},
   "source": [
    "# 8. Loops in Python\n",
    "\n",
    "\n",
    " * __A for loop is used for iterating over a sequence (that is either a list, a tuple, a dictionary, a set, or a string).__\n",
    " * __This is less like the for keyword in other programming languages, and works more like an iterator method as found in other object-oriented programming languages.__\n",
    " * __With the for loop we can execute a set of statements, once for each item in a list, tuple, set etc.__\n",
    " * __The for loop does not require an indexing variable to set beforehand.__\n",
    " * __With the while loop we can execute a set of statements as long as a condition is true.__\n",
    " * __Note: remember to increment i, or else the loop will continue forever.__\n",
    " * __The While loop requires relevant variables to be ready, in this example we need to define an indexing variable, i, which we set to 1.__\n",
    " \n",
    "# range() function\n",
    "\n",
    " * __It is helpful to think of the range object as an ordered list.__\n",
    " * __To loop through a set of code a specified number of times, we can use the range() function.__\n",
    " * __The range() function returns a sequence of numbers, starting from 0 by default, and increments by 1 (by default), and ends at a specified number.__"
   ]
  },
  {
   "cell_type": "code",
   "execution_count": 3,
   "id": "d336070f",
   "metadata": {},
   "outputs": [
    {
     "name": "stdout",
     "output_type": "stream",
     "text": [
      "range(0, 5)\n",
      "range(5, 10)\n"
     ]
    }
   ],
   "source": [
    "# take a range() function\n",
    "\n",
    "print(range(5))\n",
    "print(range(5,10))"
   ]
  },
  {
   "cell_type": "markdown",
   "id": "4588ff51",
   "metadata": {},
   "source": [
    "# for loop\n",
    "\n",
    " * __The for loop enables you to execute a code block multiple times.__"
   ]
  },
  {
   "cell_type": "code",
   "execution_count": 4,
   "id": "5f5a124b",
   "metadata": {},
   "outputs": [
    {
     "name": "stdout",
     "output_type": "stream",
     "text": [
      "2005\n",
      "2006\n",
      "2007\n",
      "2008\n",
      "2009\n",
      "2010\n",
      "2011\n",
      "2012\n",
      "2013\n",
      "2014\n"
     ]
    }
   ],
   "source": [
    "years=[2005,2006,2007,2008,2009,2010,2011,2012,2013,2014]\n",
    "\n",
    "for i in years:\n",
    "    print(i)\n",
    "    "
   ]
  },
  {
   "cell_type": "code",
   "execution_count": 5,
   "id": "a0c318f7",
   "metadata": {},
   "outputs": [
    {
     "name": "stdout",
     "output_type": "stream",
     "text": [
      "2005\n",
      "2006\n",
      "2007\n",
      "2008\n",
      "2009\n",
      "2010\n",
      "2011\n",
      "2012\n",
      "2013\n",
      "2014\n"
     ]
    }
   ],
   "source": [
    "for x in years:\n",
    "    print(x)"
   ]
  },
  {
   "cell_type": "code",
   "execution_count": 18,
   "id": "9f15ad26",
   "metadata": {},
   "outputs": [
    {
     "name": "stdout",
     "output_type": "stream",
     "text": [
      "2005\n",
      "2006\n",
      "2007\n",
      "2008\n",
      "2009\n",
      "2010\n",
      "2011\n",
      "2012\n",
      "2013\n",
      "2014\n"
     ]
    }
   ],
   "source": [
    "for name in years:\n",
    "    print(name)"
   ]
  },
  {
   "cell_type": "code",
   "execution_count": 20,
   "id": "97d5c595",
   "metadata": {},
   "outputs": [
    {
     "name": "stdout",
     "output_type": "stream",
     "text": [
      "0 2005\n",
      "1 2006\n",
      "2 2007\n",
      "3 2008\n",
      "4 2009\n",
      "5 2010\n",
      "6 2011\n",
      "7 2012\n",
      "8 2013\n",
      "9 2014\n"
     ]
    }
   ],
   "source": [
    "# printing using range() function\n",
    "\n",
    "for i in range(len(years)):\n",
    "    print(i,years[i])"
   ]
  },
  {
   "cell_type": "code",
   "execution_count": 10,
   "id": "0fdf25bf",
   "metadata": {},
   "outputs": [
    {
     "name": "stdout",
     "output_type": "stream",
     "text": [
      "2\n",
      "3\n",
      "4\n",
      "5\n",
      "6\n",
      "7\n",
      "8\n",
      "9\n",
      "10\n",
      "11\n"
     ]
    }
   ],
   "source": [
    "for i in range(2,12):\n",
    "    print(i)"
   ]
  },
  {
   "cell_type": "code",
   "execution_count": 13,
   "id": "7c6a543f",
   "metadata": {},
   "outputs": [
    {
     "name": "stdout",
     "output_type": "stream",
     "text": [
      "2\n",
      "5\n",
      "8\n",
      "11\n"
     ]
    }
   ],
   "source": [
    "# Striding in for loop\n",
    "\n",
    "# 2,12    #2,5,8,11\n",
    "\n",
    "for i in range(2,12,3):\n",
    "    print(i)"
   ]
  },
  {
   "cell_type": "code",
   "execution_count": 23,
   "id": "bb460237",
   "metadata": {},
   "outputs": [
    {
     "name": "stdout",
     "output_type": "stream",
     "text": [
      "0 Java\n",
      "1 JavaScript\n",
      "2 C\n",
      "3 C++\n",
      "4 PHP\n",
      "5 Python\n"
     ]
    }
   ],
   "source": [
    "languages=['Java','JavaScript','C','C++','PHP','Python']\n",
    "\n",
    "for i in range(len(languages)):\n",
    "    print(i,languages[i])"
   ]
  },
  {
   "cell_type": "code",
   "execution_count": 24,
   "id": "5411df49",
   "metadata": {},
   "outputs": [
    {
     "name": "stdout",
     "output_type": "stream",
     "text": [
      "-3\n",
      "-2\n",
      "-1\n",
      "0\n",
      "1\n",
      "2\n",
      "3\n",
      "4\n",
      "5\n",
      "6\n"
     ]
    }
   ],
   "source": [
    "for i in range(-3,7):\n",
    "    print(i)"
   ]
  },
  {
   "cell_type": "code",
   "execution_count": 30,
   "id": "7cf2ec27",
   "metadata": {},
   "outputs": [
    {
     "name": "stdout",
     "output_type": "stream",
     "text": [
      "Enter any number:19\n",
      "19X1=19\n",
      "19X2=38\n",
      "19X3=57\n",
      "19X4=76\n",
      "19X5=95\n",
      "19X6=114\n",
      "19X7=133\n",
      "19X8=152\n",
      "19X9=171\n",
      "19X10=190\n"
     ]
    }
   ],
   "source": [
    "num1=int(input('Enter any number:'))\n",
    "\n",
    "for i in range(1,11):\n",
    "    print('%dX%d=%d'%(num1,i,num1*i))\n",
    "    \n",
    "    \n",
    "#9x1=9"
   ]
  },
  {
   "cell_type": "code",
   "execution_count": 34,
   "id": "4d0c1737",
   "metadata": {},
   "outputs": [
    {
     "name": "stdout",
     "output_type": "stream",
     "text": [
      "The total value of the number in the list is: 2780.06\n",
      "The average value of the number in the list is: 252.73272727272726\n"
     ]
    }
   ],
   "source": [
    "nlis=[0.577,1.618,2.718,3.147,1729,6,37,100,200,300,400]\n",
    "\n",
    "# write a for loop addition\n",
    "count=0\n",
    "\n",
    "for i in nlis:\n",
    "    count+=i\n",
    "    \n",
    "print('The total value of the number in the list is:',count)\n",
    "print('The average value of the number in the list is:',count/len(nlis))"
   ]
  },
  {
   "cell_type": "code",
   "execution_count": null,
   "id": "017b1fdf",
   "metadata": {},
   "outputs": [],
   "source": []
  }
 ],
 "metadata": {
  "kernelspec": {
   "display_name": "Python 3 (ipykernel)",
   "language": "python",
   "name": "python3"
  },
  "language_info": {
   "codemirror_mode": {
    "name": "ipython",
    "version": 3
   },
   "file_extension": ".py",
   "mimetype": "text/x-python",
   "name": "python",
   "nbconvert_exporter": "python",
   "pygments_lexer": "ipython3",
   "version": "3.9.13"
  }
 },
 "nbformat": 4,
 "nbformat_minor": 5
}
