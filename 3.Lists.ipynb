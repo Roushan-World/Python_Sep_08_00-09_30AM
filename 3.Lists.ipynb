{
 "cells": [
  {
   "cell_type": "markdown",
   "id": "0feb66d1-5c87-4059-908e-d08f1823ac75",
   "metadata": {},
   "source": [
    "# 3. Lists in Python\n",
    "\n",
    " * __Lists are ordered.__\n",
    " * __Lists can contains any arbitrary objects.__\n",
    " * __Lists elements can be accessed by index.__\n",
    " * __Lists can be nested arbitrary depth.__\n",
    " * __Lists are mutable.__\n",
    " * __Lists are dynamic.__"
   ]
  },
  {
   "cell_type": "code",
   "execution_count": 5,
   "id": "cc2342d6-2e6b-4347-a049-09300e819f8b",
   "metadata": {},
   "outputs": [
    {
     "name": "stdout",
     "output_type": "stream",
     "text": [
      "['Python', 25, 3.147, 2024, [1, 10, 50, 'Hi, Python'], ('Hello World', 10, 20), True, False, {1, 2, 3}]\n"
     ]
    }
   ],
   "source": [
    "# crating a list\n",
    "\n",
    "x=[\"Python\",25,3.147,2024,[1,10,50,\"Hi, Python\"],(\"Hello World\",10,20),True,False,{1,2,3}]\n",
    "print(x)"
   ]
  },
  {
   "cell_type": "code",
   "execution_count": 19,
   "id": "f0a142e7-5404-4289-8c5f-e08e5b4b322e",
   "metadata": {},
   "outputs": [
    {
     "name": "stdout",
     "output_type": "stream",
     "text": [
      "Hi, Python\n"
     ]
    }
   ],
   "source": [
    "print(x[4][3])\n",
    "print(x[])"
   ]
  },
  {
   "cell_type": "code",
   "execution_count": 2,
   "id": "0a7239aa-6f85-45e1-812b-028946acc68e",
   "metadata": {},
   "outputs": [
    {
     "name": "stdout",
     "output_type": "stream",
     "text": [
      "<class 'list'>\n"
     ]
    }
   ],
   "source": [
    "print(type(x))"
   ]
  },
  {
   "cell_type": "code",
   "execution_count": 15,
   "id": "f86bc331-9229-4177-b216-a73548ce9249",
   "metadata": {},
   "outputs": [
    {
     "name": "stdout",
     "output_type": "stream",
     "text": [
      "Positive indexing: Python \n",
      "Negative Indexing: Python\n",
      "25\n",
      "3.147\n",
      "2024\n",
      "[1, 10, 50, 'Hi, Python']\n",
      "('Hello World', 10, 20)\n",
      "True\n",
      "False\n",
      "{1, 2, 3}\n"
     ]
    }
   ],
   "source": [
    "# positive indexing\n",
    "print('Positive indexing:',x[0],\"\\nNegative Indexing:\",x[-9])\n",
    "print(x[1])\n",
    "print(x[2])\n",
    "print(x[3])\n",
    "print(x[4])\n",
    "print(x[5])\n",
    "print(x[6])\n",
    "print(x[7])\n",
    "print(x[8])"
   ]
  },
  {
   "cell_type": "code",
   "execution_count": 30,
   "id": "cec06bc0-20ea-4f88-9a13-f6ab4109325f",
   "metadata": {},
   "outputs": [
    {
     "name": "stdout",
     "output_type": "stream",
     "text": [
      "['Python', 25, 3.147, 2024, [1, 10, 50, 'Hi, Python'], ('Hello World', 10, 20), True, False, {10, 20, 100, 50}, {'name': 'xyz', 'age': 45}]\n"
     ]
    }
   ],
   "source": [
    "x=[\"Python\",25,3.147,2024,[1,10,50,\"Hi, Python\"],(\"Hello World\",10,20),True,False,{10,50,20,100},{\"name\":\"xyz\",'age':45}]\n",
    "print(x)"
   ]
  },
  {
   "cell_type": "code",
   "execution_count": 23,
   "id": "724470cb-93bf-45f6-9a56-722389d7ebe5",
   "metadata": {},
   "outputs": [
    {
     "name": "stdout",
     "output_type": "stream",
     "text": [
      "Hi, Python\n"
     ]
    }
   ],
   "source": [
    "print(x[4][3])"
   ]
  },
  {
   "cell_type": "code",
   "execution_count": 27,
   "id": "2dabbf35-c689-4535-9c42-46a0df797eac",
   "metadata": {},
   "outputs": [
    {
     "name": "stdout",
     "output_type": "stream",
     "text": [
      "Hello World\n"
     ]
    },
    {
     "ename": "TypeError",
     "evalue": "'set' object is not subscriptable",
     "output_type": "error",
     "traceback": [
      "\u001b[1;31m---------------------------------------------------------------------------\u001b[0m",
      "\u001b[1;31mTypeError\u001b[0m                                 Traceback (most recent call last)",
      "Cell \u001b[1;32mIn[27], line 2\u001b[0m\n\u001b[0;32m      1\u001b[0m \u001b[38;5;28mprint\u001b[39m(x[\u001b[38;5;241m5\u001b[39m][\u001b[38;5;241m0\u001b[39m])\n\u001b[1;32m----> 2\u001b[0m \u001b[38;5;28mprint\u001b[39m(\u001b[43mx\u001b[49m\u001b[43m[\u001b[49m\u001b[38;5;241;43m8\u001b[39;49m\u001b[43m]\u001b[49m\u001b[43m[\u001b[49m\u001b[38;5;241;43m2\u001b[39;49m\u001b[43m]\u001b[49m)\n",
      "\u001b[1;31mTypeError\u001b[0m: 'set' object is not subscriptable"
     ]
    }
   ],
   "source": [
    "print(x[5][0])\n",
    "print(x[8][2])"
   ]
  },
  {
   "cell_type": "code",
   "execution_count": 31,
   "id": "55587ced-62a4-4923-bc7f-dfdf63102ddd",
   "metadata": {},
   "outputs": [
    {
     "data": {
      "text/plain": [
       "['Python',\n",
       " 25,\n",
       " 3.147,\n",
       " 2024,\n",
       " [1, 10, 50, 'Hi, Python'],\n",
       " ('Hello World', 10, 20),\n",
       " True,\n",
       " False,\n",
       " {10, 20, 50, 100},\n",
       " {'name': 'xyz', 'age': 45}]"
      ]
     },
     "execution_count": 31,
     "metadata": {},
     "output_type": "execute_result"
    }
   ],
   "source": [
    "x=[\"Python\",25,3.147,2024,[1,10,50,\"Hi, Python\"],(\"Hello World\",10,20),True,False,{10,50,20,100},{\"name\":\"xyz\",'age':45}]\n",
    "x"
   ]
  },
  {
   "cell_type": "code",
   "execution_count": 41,
   "id": "11b0d7bd-4170-47bc-9f4d-7d98c8d9bfe5",
   "metadata": {},
   "outputs": [
    {
     "name": "stdout",
     "output_type": "stream",
     "text": [
      "<class 'str'>\n",
      "<class 'int'>\n",
      "<class 'float'>\n",
      "<class 'int'>\n",
      "<class 'list'>\n",
      "<class 'tuple'>\n",
      "<class 'bool'>\n",
      "<class 'bool'>\n",
      "<class 'set'>\n",
      "<class 'dict'>\n"
     ]
    }
   ],
   "source": [
    "print(type(x[0]))\n",
    "print(type(x[1]))\n",
    "print(type(x[2]))\n",
    "print(type(x[3]))\n",
    "print(type(x[4]))\n",
    "print(type(x[5]))\n",
    "print(type(x[6]))\n",
    "print(type(x[7]))\n",
    "print(type(x[8]))\n",
    "print(type(x[9]))"
   ]
  },
  {
   "cell_type": "code",
   "execution_count": 42,
   "id": "a5e90258-88de-4c99-a729-500eb240addb",
   "metadata": {},
   "outputs": [
    {
     "data": {
      "text/plain": [
       "['Python',\n",
       " 25,\n",
       " 3.147,\n",
       " 2024,\n",
       " [1, 10, 50, 'Hi, Python'],\n",
       " ('Hello World', 10, 20),\n",
       " True,\n",
       " False,\n",
       " {10, 20, 50, 100},\n",
       " {'name': 'xyz', 'age': 45}]"
      ]
     },
     "execution_count": 42,
     "metadata": {},
     "output_type": "execute_result"
    }
   ],
   "source": [
    "x=[\"Python\",25,3.147,2024,[1,10,50,\"Hi, Python\"],(\"Hello World\",10,20),True,False,{10,50,20,100},{\"name\":\"xyz\",'age':45}]\n",
    "x"
   ]
  },
  {
   "cell_type": "code",
   "execution_count": 44,
   "id": "ddd30653-e178-4483-8c64-b379d86dec4d",
   "metadata": {},
   "outputs": [
    {
     "name": "stdout",
     "output_type": "stream",
     "text": [
      "45\n"
     ]
    }
   ],
   "source": [
    "print(x[9]['age'])"
   ]
  },
  {
   "cell_type": "markdown",
   "id": "dcb22b17-c0ca-4cc5-912e-c4664eb53be3",
   "metadata": {},
   "source": [
    "# What can content a list\n",
    " * __Strings__\n",
    " * __Floats__\n",
    " * __Integers__\n",
    " * __Boolean__\n",
    " * __Nested lists__\n",
    " * __Nested tuples__\n",
    " * __Nested Dictionary__\n",
    " * __Nested Set__\n",
    " * __Other Data structure.__"
   ]
  },
  {
   "cell_type": "markdown",
   "id": "4f8b634b-10d4-42d2-9f2a-4a1eba92fa1d",
   "metadata": {},
   "source": [
    "# List operations"
   ]
  },
  {
   "cell_type": "code",
   "execution_count": 45,
   "id": "7c1977cd-e205-45ae-81e3-98c562c67a42",
   "metadata": {},
   "outputs": [
    {
     "data": {
      "text/plain": [
       "['Python',\n",
       " 25,\n",
       " 3.147,\n",
       " 2024,\n",
       " [1, 10, 50, 'Hi, Python'],\n",
       " ('Hello World', 10, 20),\n",
       " True,\n",
       " False,\n",
       " {10, 20, 50, 100},\n",
       " {'name': 'xyz', 'age': 45}]"
      ]
     },
     "execution_count": 45,
     "metadata": {},
     "output_type": "execute_result"
    }
   ],
   "source": [
    "x=[\"Python\",25,3.147,2024,[1,10,50,\"Hi, Python\"],(\"Hello World\",10,20),True,False,{10,50,20,100},{\"name\":\"xyz\",'age':45}]\n",
    "x"
   ]
  },
  {
   "cell_type": "code",
   "execution_count": 46,
   "id": "444fbdac-1587-4d80-8552-7ebeff555751",
   "metadata": {},
   "outputs": [
    {
     "data": {
      "text/plain": [
       "10"
      ]
     },
     "execution_count": 46,
     "metadata": {},
     "output_type": "execute_result"
    }
   ],
   "source": [
    "# length of the list\n",
    "len(x)"
   ]
  },
  {
   "cell_type": "markdown",
   "id": "1b5a3bff-6da4-4757-befe-f82a91c95053",
   "metadata": {},
   "source": [
    "# slicing of list"
   ]
  },
  {
   "cell_type": "code",
   "execution_count": 47,
   "id": "6167dfe6-7b62-4b30-a386-99b1363ddde4",
   "metadata": {},
   "outputs": [
    {
     "data": {
      "text/plain": [
       "['Python',\n",
       " 25,\n",
       " 3.147,\n",
       " 2024,\n",
       " [1, 10, 50, 'Hi, Python'],\n",
       " ('Hello World', 10, 20),\n",
       " True,\n",
       " False,\n",
       " {10, 20, 50, 100},\n",
       " {'name': 'xyz', 'age': 45}]"
      ]
     },
     "execution_count": 47,
     "metadata": {},
     "output_type": "execute_result"
    }
   ],
   "source": [
    "x"
   ]
  },
  {
   "cell_type": "code",
   "execution_count": 53,
   "id": "31022077-56f4-4e0d-a878-34e333340cc8",
   "metadata": {},
   "outputs": [
    {
     "name": "stdout",
     "output_type": "stream",
     "text": [
      "['Python', 25, 3.147, 2024]\n",
      "['Python', 25, 3.147, 2024]\n",
      "[('Hello World', 10, 20), True, False]\n"
     ]
    }
   ],
   "source": [
    "print(x[0:4])\n",
    "print(x[:4])\n",
    "print(x[5:8])"
   ]
  },
  {
   "cell_type": "code",
   "execution_count": 57,
   "id": "94bb6d85-352e-426d-b223-d4d990d9efe9",
   "metadata": {},
   "outputs": [
    {
     "data": {
      "text/plain": [
       "['Python', 'Hello world', 32]"
      ]
     },
     "execution_count": 57,
     "metadata": {},
     "output_type": "execute_result"
    }
   ],
   "source": [
    "x1=[\"Python\",\"Hello world\",32]\n",
    "x1"
   ]
  },
  {
   "cell_type": "markdown",
   "id": "8d92a708-3208-4134-ae3c-c8285b5fb805",
   "metadata": {},
   "source": [
    "# Extending the list\n",
    "\n",
    " * __We use extend() function to add a new element to the list.__\n",
    " * __With this function, we add more than one element to the list.__"
   ]
  },
  {
   "cell_type": "code",
   "execution_count": 60,
   "id": "15db649f-b5d5-4db7-ad77-24e81f578aa1",
   "metadata": {},
   "outputs": [
    {
     "data": {
      "text/plain": [
       "['Python', 'Hello world', 32, 'Prajwal', 'Rupali']"
      ]
     },
     "execution_count": 60,
     "metadata": {},
     "output_type": "execute_result"
    }
   ],
   "source": [
    "x1.extend([\"Prajwal\",\"Rupali\"])\n",
    "x1"
   ]
  },
  {
   "cell_type": "markdown",
   "id": "6b590c3e-b92a-4528-b573-9494d24dc3ae",
   "metadata": {},
   "source": [
    "# append() method\n",
    "\n",
    " * __As different from the extend() method, with the append() method, We add only one element to the list.__\n",
    " * __You can see the difference by comparing the above and below codes.__"
   ]
  },
  {
   "cell_type": "code",
   "execution_count": 64,
   "id": "152b9996-e76f-4dfb-bf54-530ca2d7c37b",
   "metadata": {},
   "outputs": [
    {
     "data": {
      "text/plain": [
       "['Python',\n",
       " 'Hello world',\n",
       " 32,\n",
       " 'Prajwal',\n",
       " 'Rupali',\n",
       " 'adnan',\n",
       " ['adnan'],\n",
       " ['adnan', 'Prajwal', 'rupali']]"
      ]
     },
     "execution_count": 64,
     "metadata": {},
     "output_type": "execute_result"
    }
   ],
   "source": [
    "x1.append([\"adnan\",\"Prajwal\",\"rupali\"])\n",
    "x1"
   ]
  },
  {
   "cell_type": "markdown",
   "id": "d7f027b1-8d9e-44c2-8e83-ee7341f74a0a",
   "metadata": {},
   "source": [
    "# insert "
   ]
  },
  {
   "cell_type": "code",
   "execution_count": 66,
   "id": "3e0c7ec2-ede4-4548-a903-06b905e2dd05",
   "metadata": {},
   "outputs": [
    {
     "name": "stdout",
     "output_type": "stream",
     "text": [
      "['Python', 'Hello world', 32, 'Prajwal', 'Rupali', 'adnan', ['adnan'], ['adnan', 'Prajwal', 'rupali']]\n"
     ]
    }
   ],
   "source": [
    "print(x1)"
   ]
  },
  {
   "cell_type": "code",
   "execution_count": 69,
   "id": "f6efbd2d-3227-45c4-8855-13028a297edf",
   "metadata": {},
   "outputs": [
    {
     "name": "stdout",
     "output_type": "stream",
     "text": [
      "[100, 100, 100, 'Python', 'Hello world', 32, 'Prajwal', 'Rupali', 'adnan', ['adnan'], ['adnan', 'Prajwal', 'rupali']]\n"
     ]
    }
   ],
   "source": [
    "x1.insert(0,100)\n",
    "print(x1)"
   ]
  },
  {
   "cell_type": "code",
   "execution_count": 70,
   "id": "d6103481-752b-4e35-8fef-4cf7e4dd693b",
   "metadata": {},
   "outputs": [
    {
     "data": {
      "text/plain": [
       "[100,\n",
       " 100,\n",
       " 100,\n",
       " 'Python',\n",
       " 'Hello world',\n",
       " 32,\n",
       " 'Prajwal',\n",
       " 'Rupali',\n",
       " 'adnan',\n",
       " ['adnan'],\n",
       " ['adnan', 'Prajwal', 'rupali']]"
      ]
     },
     "execution_count": 70,
     "metadata": {},
     "output_type": "execute_result"
    }
   ],
   "source": [
    "x1"
   ]
  },
  {
   "cell_type": "code",
   "execution_count": 73,
   "id": "88150a7f-3bc0-4a47-962c-5efce3780856",
   "metadata": {},
   "outputs": [],
   "source": [
    "del(x1[0])"
   ]
  },
  {
   "cell_type": "code",
   "execution_count": 74,
   "id": "0aebaa4c-e5ee-43d8-b260-ba71bfdb652a",
   "metadata": {},
   "outputs": [
    {
     "data": {
      "text/plain": [
       "[100,\n",
       " 'Python',\n",
       " 'Hello world',\n",
       " 32,\n",
       " 'Prajwal',\n",
       " 'Rupali',\n",
       " 'adnan',\n",
       " ['adnan'],\n",
       " ['adnan', 'Prajwal', 'rupali']]"
      ]
     },
     "execution_count": 74,
     "metadata": {},
     "output_type": "execute_result"
    }
   ],
   "source": [
    "x1"
   ]
  },
  {
   "cell_type": "code",
   "execution_count": 75,
   "id": "1715621d-2ead-4692-9978-09d782aff9f3",
   "metadata": {},
   "outputs": [
    {
     "data": {
      "text/plain": [
       "[100,\n",
       " 'Python',\n",
       " 'Hello world',\n",
       " 32,\n",
       " 'Prajwal',\n",
       " 'Rupali',\n",
       " 'adnan',\n",
       " ['adnan'],\n",
       " ['adnan', 'Prajwal', 'rupali']]"
      ]
     },
     "execution_count": 75,
     "metadata": {},
     "output_type": "execute_result"
    }
   ],
   "source": [
    "x1"
   ]
  },
  {
   "cell_type": "code",
   "execution_count": 76,
   "id": "d0c6649f-e526-4649-ba89-f3f2c1f36396",
   "metadata": {},
   "outputs": [],
   "source": [
    "del(x1[1:4])"
   ]
  },
  {
   "cell_type": "code",
   "execution_count": 77,
   "id": "155893a7-fab2-4091-80a2-3f356e2371b6",
   "metadata": {},
   "outputs": [
    {
     "data": {
      "text/plain": [
       "[100, 'Prajwal', 'Rupali', 'adnan', ['adnan'], ['adnan', 'Prajwal', 'rupali']]"
      ]
     },
     "execution_count": 77,
     "metadata": {},
     "output_type": "execute_result"
    }
   ],
   "source": [
    "x1"
   ]
  },
  {
   "cell_type": "code",
   "execution_count": 86,
   "id": "a942fbf0-0894-4b8d-a20b-eaf78beb6922",
   "metadata": {},
   "outputs": [
    {
     "name": "stdout",
     "output_type": "stream",
     "text": [
      "17\n",
      "1\n",
      "173\n",
      "0\n",
      "101\n"
     ]
    }
   ],
   "source": [
    "lis=[0,1,2,3,4,5,6,7,8,9,4,4,4,5,5,5,101]\n",
    "print(len(lis))\n",
    "\n",
    "print(lis.count(9))\n",
    "print(sum(lis))\n",
    "print(min(lis))\n",
    "print(max(lis))"
   ]
  },
  {
   "cell_type": "code",
   "execution_count": 94,
   "id": "814c08f0-9a50-4c68-bcfa-c77de7df9e2a",
   "metadata": {},
   "outputs": [
    {
     "data": {
      "text/plain": [
       "['Python', 3.14, 1.718, True, [1, 1, 2, 3, 4], ('Hello world', True, False)]"
      ]
     },
     "execution_count": 94,
     "metadata": {},
     "output_type": "execute_result"
    }
   ],
   "source": [
    "lis2=[\"Python\",3.14,1.718,True,[1,1,2,3,4],(\"Hello world\",True,False)]\n",
    "lis2"
   ]
  },
  {
   "cell_type": "code",
   "execution_count": 95,
   "id": "6c0b4843-07e1-4b1e-8d54-dc0579b4b90d",
   "metadata": {},
   "outputs": [
    {
     "data": {
      "text/plain": [
       "['Adnan', 3.14, 1.718, True, [1, 1, 2, 3, 4], ('Hello world', True, False)]"
      ]
     },
     "execution_count": 95,
     "metadata": {},
     "output_type": "execute_result"
    }
   ],
   "source": [
    "lis2[0]=\"Adnan\"\n",
    "lis2"
   ]
  },
  {
   "cell_type": "code",
   "execution_count": 93,
   "id": "3af8033d-df94-4d7b-9069-38c2b663927d",
   "metadata": {},
   "outputs": [
    {
     "data": {
      "text/plain": [
       "['Adnan', 3.14, 1.718, True, {1, 2, 3}, ('Hello world', True, False)]"
      ]
     },
     "execution_count": 93,
     "metadata": {},
     "output_type": "execute_result"
    }
   ],
   "source": [
    "lis2[4]={1,2,3}\n",
    "lis2"
   ]
  },
  {
   "cell_type": "code",
   "execution_count": 98,
   "id": "342bc1da-85d5-404c-b18d-92786198c1fb",
   "metadata": {},
   "outputs": [
    {
     "data": {
      "text/plain": [
       "['Adnan',\n",
       " 3.14,\n",
       " 1.718,\n",
       " True,\n",
       " [1, 1, 2, 'rupali', 3, 4],\n",
       " ('Hello world', True, False)]"
      ]
     },
     "execution_count": 98,
     "metadata": {},
     "output_type": "execute_result"
    }
   ],
   "source": [
    "lis2[4].insert(3,'rupali')\n",
    "lis2"
   ]
  },
  {
   "cell_type": "code",
   "execution_count": 99,
   "id": "05183009-d233-4484-b424-b6187e9dc5cd",
   "metadata": {},
   "outputs": [
    {
     "data": {
      "text/plain": [
       "['Adnan',\n",
       " 3.14,\n",
       " 1.718,\n",
       " True,\n",
       " [1, 1, 2, 'rupali', 3, 4],\n",
       " ('Hello world', True, False)]"
      ]
     },
     "execution_count": 99,
     "metadata": {},
     "output_type": "execute_result"
    }
   ],
   "source": [
    "lis2"
   ]
  },
  {
   "cell_type": "code",
   "execution_count": 100,
   "id": "6fd1fad7-7511-4f15-84f9-88e30f5ed754",
   "metadata": {},
   "outputs": [
    {
     "ename": "AttributeError",
     "evalue": "'tuple' object has no attribute 'insert'",
     "output_type": "error",
     "traceback": [
      "\u001b[1;31m---------------------------------------------------------------------------\u001b[0m",
      "\u001b[1;31mAttributeError\u001b[0m                            Traceback (most recent call last)",
      "Cell \u001b[1;32mIn[100], line 1\u001b[0m\n\u001b[1;32m----> 1\u001b[0m \u001b[43mlis2\u001b[49m\u001b[43m[\u001b[49m\u001b[38;5;241;43m5\u001b[39;49m\u001b[43m]\u001b[49m\u001b[38;5;241;43m.\u001b[39;49m\u001b[43minsert\u001b[49m(\u001b[38;5;241m1\u001b[39m,\u001b[38;5;124m'\u001b[39m\u001b[38;5;124madnan\u001b[39m\u001b[38;5;124m'\u001b[39m)\n\u001b[0;32m      2\u001b[0m lis2\n",
      "\u001b[1;31mAttributeError\u001b[0m: 'tuple' object has no attribute 'insert'"
     ]
    }
   ],
   "source": [
    "lis2[5].insert(1,'adnan')\n",
    "lis2"
   ]
  },
  {
   "cell_type": "code",
   "execution_count": 101,
   "id": "4157e71c-e590-4bcb-a3d7-21654c22ed6e",
   "metadata": {},
   "outputs": [
    {
     "data": {
      "text/plain": [
       "['Adnan',\n",
       " 3.14,\n",
       " 1.718,\n",
       " True,\n",
       " [1, 1, 2, 'rupali', 3, 4],\n",
       " ('Hello world', True, False)]"
      ]
     },
     "execution_count": 101,
     "metadata": {},
     "output_type": "execute_result"
    }
   ],
   "source": [
    "lis2"
   ]
  },
  {
   "cell_type": "code",
   "execution_count": 102,
   "id": "33759559-606d-497d-ba05-a6aad16ca89e",
   "metadata": {},
   "outputs": [
    {
     "data": {
      "text/plain": [
       "[100, 'Prajwal', 'Rupali', 'adnan', ['adnan']]"
      ]
     },
     "execution_count": 102,
     "metadata": {},
     "output_type": "execute_result"
    }
   ],
   "source": [
    "del(x1[5])\n",
    "x1"
   ]
  },
  {
   "cell_type": "code",
   "execution_count": 106,
   "id": "ca7459c9-c109-4b5c-b2de-a72ee2be34df",
   "metadata": {},
   "outputs": [
    {
     "data": {
      "text/plain": [
       "['Python', 'is', 'a', 'programming', 'language.']"
      ]
     },
     "execution_count": 106,
     "metadata": {},
     "output_type": "execute_result"
    }
   ],
   "source": [
    "message=\"Python is a programming language.\"\n",
    "message.split()"
   ]
  },
  {
   "cell_type": "code",
   "execution_count": 109,
   "id": "e0dd1bf4-076c-4791-a80a-2a9b5b1945c3",
   "metadata": {},
   "outputs": [
    {
     "data": {
      "text/plain": [
       "['Hello', 'Good', 'Morning']"
      ]
     },
     "execution_count": 109,
     "metadata": {},
     "output_type": "execute_result"
    }
   ],
   "source": [
    "msg1=\"Hello,Good,Morning\"\n",
    "msg1.split(',')"
   ]
  },
  {
   "cell_type": "markdown",
   "id": "ca436b5a-a9c6-4697-a49b-993f66da55dd",
   "metadata": {},
   "source": [
    "# Copy the list"
   ]
  },
  {
   "cell_type": "code",
   "execution_count": 110,
   "id": "fe8ceb25-dfc1-41e2-8fae-4d35e9b8f9a9",
   "metadata": {},
   "outputs": [],
   "source": [
    "# clone copy # deep copy"
   ]
  },
  {
   "cell_type": "code",
   "execution_count": 116,
   "id": "09918033-628b-4fd0-87c1-be6200a898ad",
   "metadata": {},
   "outputs": [
    {
     "name": "stdout",
     "output_type": "stream",
     "text": [
      "['Python', 10, 20, False]\n",
      "['Python', 10, 20, False]\n",
      "['Python', 10, 20, False, ['prajwal']]\n",
      "['Python', 10, 20, False, ['prajwal']]\n"
     ]
    }
   ],
   "source": [
    "# deep copy\n",
    "\n",
    "x=['Python',10,20,False]\n",
    "y2=x\n",
    "print(x)\n",
    "print(y2)\n",
    "\n",
    "y2.append(['prajwal'])\n",
    "print(y2)\n",
    "print(x)"
   ]
  },
  {
   "cell_type": "code",
   "execution_count": 117,
   "id": "f6672c83-da2d-49e4-9da1-616e9cd6c70e",
   "metadata": {},
   "outputs": [
    {
     "name": "stdout",
     "output_type": "stream",
     "text": [
      "['Python', 10, 20, False, ['prajwal']]\n"
     ]
    }
   ],
   "source": [
    "print(x)"
   ]
  },
  {
   "cell_type": "code",
   "execution_count": 121,
   "id": "eff53ffa-4642-45a1-ade6-8b695cc74d95",
   "metadata": {},
   "outputs": [
    {
     "name": "stdout",
     "output_type": "stream",
     "text": [
      "Original Data: ['python', 'Hello world']\n",
      "Duplicate Data ['python', 'Hello world']\n",
      "['python', 'Hello world', [45, 'Adnan']]\n",
      "['python', 'Hello world']\n"
     ]
    }
   ],
   "source": [
    "x2=['python',\"Hello world\"]\n",
    "y3=x2.copy()\n",
    "print('Original Data:',x2)\n",
    "print('Duplicate Data',y3)\n",
    "\n",
    "y3.append([45,\"Adnan\"])\n",
    "print(y3)\n",
    "print(x2)"
   ]
  },
  {
   "cell_type": "markdown",
   "id": "525285f1-4f0d-41c7-9200-5ee919df6529",
   "metadata": {},
   "source": [
    "# Concatenation of lists"
   ]
  },
  {
   "cell_type": "code",
   "execution_count": 1,
   "id": "e564ad5f-860d-4b0b-8b41-448a1cacfb61",
   "metadata": {},
   "outputs": [
    {
     "name": "stdout",
     "output_type": "stream",
     "text": [
      "['a', 'b', ['c', 'd'], 'e', 1, 2, 3, 4, 5, 6, (7, 8), True, False]\n"
     ]
    }
   ],
   "source": [
    "a_list=[\"a\",\"b\",[\"c\",\"d\"],\"e\"]\n",
    "b_list=[1,2,3,4,5,6,(7,8),True,False]\n",
    "\n",
    "new_list=a_list+b_list\n",
    "print(new_list)"
   ]
  },
  {
   "cell_type": "markdown",
   "id": "87bfdd7d-2f64-4180-8d34-7009828bc3e6",
   "metadata": {},
   "source": [
    "# input() function"
   ]
  },
  {
   "cell_type": "code",
   "execution_count": 14,
   "id": "d9d30046-e3ae-4966-8181-ce8b3f1fd1f5",
   "metadata": {},
   "outputs": [
    {
     "name": "stdin",
     "output_type": "stream",
     "text": [
      "Enter any number 123\n"
     ]
    },
    {
     "name": "stdout",
     "output_type": "stream",
     "text": [
      "123\n",
      "<class 'int'>\n"
     ]
    }
   ],
   "source": [
    "x=int(input(\"Enter any number\"))\n",
    "print(x)\n",
    "print(type(x))"
   ]
  },
  {
   "cell_type": "code",
   "execution_count": 17,
   "id": "1102732b-1361-4130-b453-6ee237f2ecb2",
   "metadata": {},
   "outputs": [
    {
     "name": "stdin",
     "output_type": "stream",
     "text": [
      "Enter first number:\n",
      " 12\n",
      "Enter second numebr:\n",
      " 13\n"
     ]
    },
    {
     "name": "stdout",
     "output_type": "stream",
     "text": [
      "Addition for 1st and 2nd value is: 25\n"
     ]
    }
   ],
   "source": [
    "x1=int(input(\"Enter first number:\\n\"))\n",
    "x2=int(input(\"Enter second numebr:\\n\"))\n",
    "\n",
    "z=x1+x2\n",
    "print('Addition for 1st and 2nd value is:',z)"
   ]
  },
  {
   "cell_type": "code",
   "execution_count": 20,
   "id": "d1a5c650-83af-4225-a2d0-e059de009592",
   "metadata": {},
   "outputs": [
    {
     "data": {
      "text/plain": [
       "15"
      ]
     },
     "execution_count": 20,
     "metadata": {},
     "output_type": "execute_result"
    }
   ],
   "source": [
    "eval('8+7')"
   ]
  },
  {
   "cell_type": "code",
   "execution_count": 26,
   "id": "c2171696-01de-47ef-8d2c-b75a5d78e93f",
   "metadata": {},
   "outputs": [
    {
     "data": {
      "text/plain": [
       "44"
      ]
     },
     "execution_count": 26,
     "metadata": {},
     "output_type": "execute_result"
    }
   ],
   "source": [
    "eval('22+22')"
   ]
  },
  {
   "cell_type": "code",
   "execution_count": 37,
   "id": "3fd5f4bb-5a15-4f56-9c11-771a4c7b1d68",
   "metadata": {},
   "outputs": [
    {
     "name": "stdout",
     "output_type": "stream",
     "text": [
      "8+7\n",
      "<class 'str'>\n",
      "Sum of the expression is: 15\n",
      "<class 'int'>\n"
     ]
    }
   ],
   "source": [
    "expression='8+7'\n",
    "print(expression)\n",
    "print(type(expression))\n",
    "total=eval(expression)\n",
    "print('Sum of the expression is:',total)\n",
    "print(type(total))"
   ]
  },
  {
   "cell_type": "markdown",
   "id": "c2926284-42dd-42d4-9dcd-0547f4757b9f",
   "metadata": {},
   "source": [
    "# format() function"
   ]
  },
  {
   "cell_type": "code",
   "execution_count": 41,
   "id": "704f617b-3cd0-4111-8bad-fed4d65651a0",
   "metadata": {},
   "outputs": [
    {
     "name": "stdin",
     "output_type": "stream",
     "text": [
      "Enter any value: 11\n",
      "Enter second value: 14\n"
     ]
    },
    {
     "name": "stdout",
     "output_type": "stream",
     "text": [
      "Sum of 11 and 14.0 value is: 25.0\n",
      "Sum of 11 and 14.0 is 25.0.\n"
     ]
    }
   ],
   "source": [
    "a=int(input(\"Enter any value:\"))\n",
    "b=float(input('Enter second value:'))\n",
    "\n",
    "total=a+b\n",
    "print(f'Sum of {a} and {b} value is:',total)\n",
    "print('Sum of {} and {} is {}.'.format(a,b,total))"
   ]
  },
  {
   "cell_type": "markdown",
   "id": "f8de1e30-d805-4f55-9631-0f6236283aad",
   "metadata": {},
   "source": [
    "# Comparison operators\n",
    "\n",
    " * __The operators such as <,>,<=,>=,==,and != (<>) Compare the certain two operands and return True and False statement.__"
   ]
  },
  {
   "cell_type": "code",
   "execution_count": 45,
   "id": "f8bf533b-34e1-4766-96d4-394f16118ca6",
   "metadata": {},
   "outputs": [
    {
     "name": "stdout",
     "output_type": "stream",
     "text": [
      "True\n",
      "True\n",
      "False\n"
     ]
    }
   ],
   "source": [
    "a=3.14\n",
    "b=1.618\n",
    "c=12\n",
    "d=3.14\n",
    "\n",
    "print(a>b and c>a)\n",
    "print(c>a and a==d)\n",
    "print(a<=b and b>=a)"
   ]
  },
  {
   "cell_type": "code",
   "execution_count": 51,
   "id": "58f47dff-c604-402a-a588-d1df780aac49",
   "metadata": {},
   "outputs": [
    {
     "name": "stdout",
     "output_type": "stream",
     "text": [
      "True\n",
      "True\n",
      "True\n"
     ]
    }
   ],
   "source": [
    "print(a>b or c>a)\n",
    "print(c>a or a==d)\n",
    "print(a<=b or c>a)"
   ]
  },
  {
   "cell_type": "code",
   "execution_count": 55,
   "id": "2bfb1788-76fc-4c82-a4e0-31cfde2b8007",
   "metadata": {},
   "outputs": [
    {
     "name": "stdout",
     "output_type": "stream",
     "text": [
      "True\n",
      "False\n"
     ]
    }
   ],
   "source": [
    "a=3.14\n",
    "b=1.618\n",
    "c=12\n",
    "d=3.14\n",
    "\n",
    "print(a!=b)\n",
    "print(a!=d)"
   ]
  },
  {
   "cell_type": "markdown",
   "id": "32bf2826-2819-4b4d-8ed0-2ce0a1c7aafe",
   "metadata": {},
   "source": [
    "# Assignment operators"
   ]
  },
  {
   "cell_type": "code",
   "execution_count": 58,
   "id": "0c409597-6056-4288-b9b4-3c3c0c6db17e",
   "metadata": {},
   "outputs": [
    {
     "data": {
      "text/plain": [
       "20"
      ]
     },
     "execution_count": 58,
     "metadata": {},
     "output_type": "execute_result"
    }
   ],
   "source": [
    "x=10\n",
    "\n",
    "x+=10\n",
    "x"
   ]
  },
  {
   "cell_type": "code",
   "execution_count": 59,
   "id": "2666844d-24b9-4fa3-9b01-4a8e8269cf5e",
   "metadata": {},
   "outputs": [
    {
     "data": {
      "text/plain": [
       "15"
      ]
     },
     "execution_count": 59,
     "metadata": {},
     "output_type": "execute_result"
    }
   ],
   "source": [
    "x=20\n",
    "x-=5\n",
    "x"
   ]
  },
  {
   "cell_type": "code",
   "execution_count": 60,
   "id": "a9872cdc-9466-4115-b12a-38a7ca37e739",
   "metadata": {},
   "outputs": [
    {
     "data": {
      "text/plain": [
       "25"
      ]
     },
     "execution_count": 60,
     "metadata": {},
     "output_type": "execute_result"
    }
   ],
   "source": [
    "x=5\n",
    "\n",
    "x*=5\n",
    "x"
   ]
  },
  {
   "cell_type": "code",
   "execution_count": 62,
   "id": "4e9c03f6-3e14-4e64-a7a6-9c4c851c995b",
   "metadata": {},
   "outputs": [
    {
     "data": {
      "text/plain": [
       "4"
      ]
     },
     "execution_count": 62,
     "metadata": {},
     "output_type": "execute_result"
    }
   ],
   "source": [
    "x=20\n",
    "x//=5\n",
    "x"
   ]
  },
  {
   "cell_type": "markdown",
   "id": "bda78121-de3f-4572-9fde-9df7ecbd5adb",
   "metadata": {},
   "source": [
    "# Membership operators"
   ]
  },
  {
   "cell_type": "code",
   "execution_count": 66,
   "id": "9bdf1a6f-cc28-4e2b-adcc-a7b683c307cc",
   "metadata": {},
   "outputs": [
    {
     "name": "stdout",
     "output_type": "stream",
     "text": [
      "True\n",
      "True\n"
     ]
    }
   ],
   "source": [
    "nlis=[4,5,6,7,8,9,\"Hello\",{1,2,3},True]\n",
    "\n",
    "print(5 in nlis)\n",
    "print(True in nlis)"
   ]
  },
  {
   "cell_type": "code",
   "execution_count": null,
   "id": "b35eda30-5b16-4d9a-a3be-29255e169096",
   "metadata": {},
   "outputs": [],
   "source": []
  }
 ],
 "metadata": {
  "kernelspec": {
   "display_name": "Python 3 (ipykernel)",
   "language": "python",
   "name": "python3"
  },
  "language_info": {
   "codemirror_mode": {
    "name": "ipython",
    "version": 3
   },
   "file_extension": ".py",
   "mimetype": "text/x-python",
   "name": "python",
   "nbconvert_exporter": "python",
   "pygments_lexer": "ipython3",
   "version": "3.11.4"
  }
 },
 "nbformat": 4,
 "nbformat_minor": 5
}
