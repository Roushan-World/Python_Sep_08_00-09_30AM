{
 "cells": [
  {
   "cell_type": "markdown",
   "id": "858e0dc0",
   "metadata": {},
   "source": [
    "# 14. Lambda Functions in Python\n",
    "\n",
    "\n",
    " * __A lambda function is small anonymous funciton.__\n",
    " * __A lambda function can take any number of arguments, but can only have one expression.__\n",
    " * __The Expression is evalutated and returned.__\n",
    " * __Lambda functions can be used wherever function objects are required.__\n",
    " * __Lambda expression(or lambda functions) are essentially blocks of code that can be assigned to variables, passed as an arguments, or returned from a function call, in languages that support high-order functions.__\n",
    " * __They have been part of programming languages for quire some time.__\n",
    " * __The main role of lambda function is better described in the scenarios when we employ them anonymously inside another functions.__\n",
    " * __n Ptyhon, the lambda function can be utilized as an arguments to the high order functions as arguemnts.__"
   ]
  },
  {
   "cell_type": "code",
   "execution_count": 1,
   "id": "3ee9b371",
   "metadata": {},
   "outputs": [
    {
     "data": {
      "text/plain": [
       "16"
      ]
     },
     "execution_count": 1,
     "metadata": {},
     "output_type": "execute_result"
    }
   ],
   "source": [
    "# define a function using def.\n",
    "\n",
    "def f(x):\n",
    "    return x+6\n",
    "f(10)"
   ]
  },
  {
   "cell_type": "code",
   "execution_count": 2,
   "id": "76a4bd0a",
   "metadata": {},
   "outputs": [
    {
     "data": {
      "text/plain": [
       "16"
      ]
     },
     "execution_count": 2,
     "metadata": {},
     "output_type": "execute_result"
    }
   ],
   "source": [
    "(lambda x:x+6)(10)"
   ]
  },
  {
   "cell_type": "code",
   "execution_count": 3,
   "id": "56d79aaa",
   "metadata": {},
   "outputs": [
    {
     "data": {
      "text/plain": [
       "10000000000"
      ]
     },
     "execution_count": 3,
     "metadata": {},
     "output_type": "execute_result"
    }
   ],
   "source": [
    "10**10"
   ]
  },
  {
   "cell_type": "code",
   "execution_count": 4,
   "id": "929c822d",
   "metadata": {},
   "outputs": [
    {
     "data": {
      "text/plain": [
       "10000000000"
      ]
     },
     "execution_count": 4,
     "metadata": {},
     "output_type": "execute_result"
    }
   ],
   "source": [
    "def f(x,y):\n",
    "    return x**y\n",
    "f(10,10)"
   ]
  },
  {
   "cell_type": "code",
   "execution_count": 5,
   "id": "89d3623e",
   "metadata": {},
   "outputs": [
    {
     "data": {
      "text/plain": [
       "10000000000"
      ]
     },
     "execution_count": 5,
     "metadata": {},
     "output_type": "execute_result"
    }
   ],
   "source": [
    "(lambda x,y:x**y)(10,10)"
   ]
  },
  {
   "cell_type": "code",
   "execution_count": 8,
   "id": "a957fce3",
   "metadata": {},
   "outputs": [
    {
     "name": "stdout",
     "output_type": "stream",
     "text": [
      "The volume of cube is:512\n"
     ]
    }
   ],
   "source": [
    "# find the volume of cube using lambda function\n",
    "\n",
    "print(f'The volume of cube is:{(lambda a:a*a*a)(8)}')"
   ]
  },
  {
   "cell_type": "code",
   "execution_count": 11,
   "id": "bad128c1",
   "metadata": {},
   "outputs": [
    {
     "name": "stdout",
     "output_type": "stream",
     "text": [
      "Enter your age:17\n",
      "You can not vote.\n"
     ]
    }
   ],
   "source": [
    "# Write a program to a person is voting or not using lambda function.\n",
    "\n",
    "age=int(input('Enter your age:'))\n",
    "(lambda age:print('Therefore, You can vote.') if age>=18 else print('You can not vote.'))(age)"
   ]
  },
  {
   "cell_type": "code",
   "execution_count": 14,
   "id": "c28050cd",
   "metadata": {},
   "outputs": [
    {
     "name": "stdout",
     "output_type": "stream",
     "text": [
      "Enter your string:Purushottam\n",
      "Purushottam\n"
     ]
    }
   ],
   "source": [
    "text=input('Enter your string:')\n",
    "\n",
    "(lambda text:print(text))(text)"
   ]
  },
  {
   "cell_type": "code",
   "execution_count": 18,
   "id": "dddbb9cc",
   "metadata": {},
   "outputs": [
    {
     "name": "stdout",
     "output_type": "stream",
     "text": [
      "Enter First number:12\n",
      "Enter Second Number:13\n",
      "[25, -1]\n"
     ]
    }
   ],
   "source": [
    "# Write a Python to append in the list with some calculation perform using lambda (Addition,\n",
    "# Substraction, Multiplication, Division and Exponent) using lambda.\n",
    "\n",
    "\n",
    "list1=[]\n",
    "\n",
    "x=int(input('Enter First number:'))\n",
    "y=int(input('Enter Second Number:'))\n",
    "\n",
    "(lambda x,y:list1.append(x+y))(x,y)\n",
    "(lambda x,y:list1.append(x-y))(x,y)\n",
    "\n",
    "print(list1)"
   ]
  },
  {
   "cell_type": "code",
   "execution_count": 3,
   "id": "82a79140",
   "metadata": {},
   "outputs": [
    {
     "name": "stdout",
     "output_type": "stream",
     "text": [
      "['hello', 'hi']\n"
     ]
    }
   ],
   "source": [
    "# Take 10 Strings in new_variable and store in list using lambda function.\n",
    "\n",
    "a='hello'\n",
    "b='hi'\n",
    "c='congratulation'\n",
    "\n",
    "l1=[]\n",
    "(lambda a:l1.append(a))(a)\n",
    "(lambda b:l1.append(b))(b)\n",
    "\n",
    "print(l1)"
   ]
  },
  {
   "cell_type": "code",
   "execution_count": 8,
   "id": "e74f7451",
   "metadata": {},
   "outputs": [
    {
     "name": "stdout",
     "output_type": "stream",
     "text": [
      "Enter lenght of the reactangle:12\n",
      "Enter breadth of the rectangle:15\n",
      "The area of recntangle that is lenght 12 and breadth 15 is: 180\n",
      "The perimeter of reactagle of len 12 and breadth 15 is: 54\n"
     ]
    }
   ],
   "source": [
    "# Write a lambda function with formula of Area_Reactangle and side are entered by user?.\n",
    "\n",
    "\n",
    "l=int(input('Enter lenght of the reactangle:'))\n",
    "b=int(input('Enter breadth of the rectangle:'))\n",
    "\n",
    "print(f'The area of recntangle that is lenght {l} and breadth {b} is: {(lambda l,b:l*b)(l,b)}')\n",
    "print(f'The perimeter of reactagle of len {l} and breadth {b} is: {(lambda l,b:2*l+2*b)(l,b)}')"
   ]
  },
  {
   "cell_type": "code",
   "execution_count": 9,
   "id": "6c359849",
   "metadata": {},
   "outputs": [
    {
     "name": "stdout",
     "output_type": "stream",
     "text": [
      "Enter the length of rectangle:12\n",
      "Enter the width of rectangle:13\n",
      "Area of reactangle of  156\n"
     ]
    }
   ],
   "source": [
    "length=int(input(\"Enter the length of rectangle:\"))\n",
    "width=int(input(\"Enter the width of rectangle:\"))\n",
    "\n",
    "\n",
    "\n",
    "x=(lambda length,width:length*width)(length,width)\n",
    "\n",
    "print(\"Area of reactangle of \",x)"
   ]
  },
  {
   "cell_type": "code",
   "execution_count": 12,
   "id": "b20b4d1e",
   "metadata": {},
   "outputs": [
    {
     "name": "stdout",
     "output_type": "stream",
     "text": [
      "Enter the side of Square:12\n",
      "Area of square is:  144\n",
      "Perimeter of square is:48\n"
     ]
    }
   ],
   "source": [
    "# find the area of square and perimeter of square side is entered by the user.\n",
    "\n",
    "# Find the area of square and perimeter of square side is entered by the user\n",
    "\n",
    "s=int(input(\"Enter the side of Square:\"))\n",
    "\n",
    "x=(lambda s:s*s)(s)\n",
    "print(\"Area of square is: \", x)\n",
    "\n",
    "\n",
    "\n",
    "#y=(lambda s:4*s)(s)\n",
    "print(f\"Perimeter of square is:{(lambda s:4*s)(s)}\")"
   ]
  },
  {
   "cell_type": "code",
   "execution_count": 13,
   "id": "823385e1",
   "metadata": {},
   "outputs": [
    {
     "name": "stdout",
     "output_type": "stream",
     "text": [
      "Enter the radius of circle:5\n",
      " The radius of circle is: 78.5\n"
     ]
    }
   ],
   "source": [
    "# Using lambda function area of circle and radius given by the user input.\n",
    "\n",
    "# using a lambda function area of circle and radius given by user\n",
    "\n",
    "r=int(input(\"Enter the radius of circle:\"))\n",
    "print(f\" The radius of circle is: {(lambda r:3.14*r*r)(r)}\")"
   ]
  },
  {
   "cell_type": "code",
   "execution_count": 14,
   "id": "c6ef158d",
   "metadata": {},
   "outputs": [
    {
     "name": "stdout",
     "output_type": "stream",
     "text": [
      "Enter the radius of circle:5\n",
      " The radius of circle is: 78.53981633974483\n"
     ]
    }
   ],
   "source": [
    "import math\n",
    "from math import *\n",
    "\n",
    "r=int(input(\"Enter the radius of circle:\"))\n",
    "print(f\" The radius of circle is: {(lambda r:math.pi*r*r)(r)}\")"
   ]
  },
  {
   "cell_type": "code",
   "execution_count": null,
   "id": "6ec15254",
   "metadata": {},
   "outputs": [],
   "source": []
  }
 ],
 "metadata": {
  "kernelspec": {
   "display_name": "Python 3 (ipykernel)",
   "language": "python",
   "name": "python3"
  },
  "language_info": {
   "codemirror_mode": {
    "name": "ipython",
    "version": 3
   },
   "file_extension": ".py",
   "mimetype": "text/x-python",
   "name": "python",
   "nbconvert_exporter": "python",
   "pygments_lexer": "ipython3",
   "version": "3.9.13"
  }
 },
 "nbformat": 4,
 "nbformat_minor": 5
}
