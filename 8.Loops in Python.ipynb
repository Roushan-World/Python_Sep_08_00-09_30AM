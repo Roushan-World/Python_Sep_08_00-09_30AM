{
 "cells": [
  {
   "cell_type": "markdown",
   "id": "c98b31fc",
   "metadata": {},
   "source": [
    "# 8. Loops in Python\n",
    "\n",
    "\n",
    " * __A for loop is used for iterating over a sequence (that is either a list, a tuple, a dictionary, a set, or a string).__\n",
    " * __This is less like the for keyword in other programming languages, and works more like an iterator method as found in other object-oriented programming languages.__\n",
    " * __With the for loop we can execute a set of statements, once for each item in a list, tuple, set etc.__\n",
    " * __The for loop does not require an indexing variable to set beforehand.__\n",
    " * __With the while loop we can execute a set of statements as long as a condition is true.__\n",
    " * __Note: remember to increment i, or else the loop will continue forever.__\n",
    " * __The While loop requires relevant variables to be ready, in this example we need to define an indexing variable, i, which we set to 1.__\n",
    " \n",
    "# range() function\n",
    "\n",
    " * __It is helpful to think of the range object as an ordered list.__\n",
    " * __To loop through a set of code a specified number of times, we can use the range() function.__\n",
    " * __The range() function returns a sequence of numbers, starting from 0 by default, and increments by 1 (by default), and ends at a specified number.__"
   ]
  },
  {
   "cell_type": "code",
   "execution_count": 3,
   "id": "d336070f",
   "metadata": {},
   "outputs": [
    {
     "name": "stdout",
     "output_type": "stream",
     "text": [
      "range(0, 5)\n",
      "range(5, 10)\n"
     ]
    }
   ],
   "source": [
    "# take a range() function\n",
    "\n",
    "print(range(5))\n",
    "print(range(5,10))"
   ]
  },
  {
   "cell_type": "markdown",
   "id": "4588ff51",
   "metadata": {},
   "source": [
    "# for loop\n",
    "\n",
    " * __The for loop enables you to execute a code block multiple times.__"
   ]
  },
  {
   "cell_type": "code",
   "execution_count": 4,
   "id": "5f5a124b",
   "metadata": {},
   "outputs": [
    {
     "name": "stdout",
     "output_type": "stream",
     "text": [
      "2005\n",
      "2006\n",
      "2007\n",
      "2008\n",
      "2009\n",
      "2010\n",
      "2011\n",
      "2012\n",
      "2013\n",
      "2014\n"
     ]
    }
   ],
   "source": [
    "years=[2005,2006,2007,2008,2009,2010,2011,2012,2013,2014]\n",
    "\n",
    "for i in years:\n",
    "    print(i)\n",
    "    "
   ]
  },
  {
   "cell_type": "code",
   "execution_count": 5,
   "id": "a0c318f7",
   "metadata": {},
   "outputs": [
    {
     "name": "stdout",
     "output_type": "stream",
     "text": [
      "2005\n",
      "2006\n",
      "2007\n",
      "2008\n",
      "2009\n",
      "2010\n",
      "2011\n",
      "2012\n",
      "2013\n",
      "2014\n"
     ]
    }
   ],
   "source": [
    "for x in years:\n",
    "    print(x)"
   ]
  },
  {
   "cell_type": "code",
   "execution_count": 18,
   "id": "9f15ad26",
   "metadata": {},
   "outputs": [
    {
     "name": "stdout",
     "output_type": "stream",
     "text": [
      "2005\n",
      "2006\n",
      "2007\n",
      "2008\n",
      "2009\n",
      "2010\n",
      "2011\n",
      "2012\n",
      "2013\n",
      "2014\n"
     ]
    }
   ],
   "source": [
    "for name in years:\n",
    "    print(name)"
   ]
  },
  {
   "cell_type": "code",
   "execution_count": 20,
   "id": "97d5c595",
   "metadata": {},
   "outputs": [
    {
     "name": "stdout",
     "output_type": "stream",
     "text": [
      "0 2005\n",
      "1 2006\n",
      "2 2007\n",
      "3 2008\n",
      "4 2009\n",
      "5 2010\n",
      "6 2011\n",
      "7 2012\n",
      "8 2013\n",
      "9 2014\n"
     ]
    }
   ],
   "source": [
    "# printing using range() function\n",
    "\n",
    "for i in range(len(years)):\n",
    "    print(i,years[i])"
   ]
  },
  {
   "cell_type": "code",
   "execution_count": 10,
   "id": "0fdf25bf",
   "metadata": {},
   "outputs": [
    {
     "name": "stdout",
     "output_type": "stream",
     "text": [
      "2\n",
      "3\n",
      "4\n",
      "5\n",
      "6\n",
      "7\n",
      "8\n",
      "9\n",
      "10\n",
      "11\n"
     ]
    }
   ],
   "source": [
    "for i in range(2,12):\n",
    "    print(i)"
   ]
  },
  {
   "cell_type": "code",
   "execution_count": 13,
   "id": "7c6a543f",
   "metadata": {},
   "outputs": [
    {
     "name": "stdout",
     "output_type": "stream",
     "text": [
      "2\n",
      "5\n",
      "8\n",
      "11\n"
     ]
    }
   ],
   "source": [
    "# Striding in for loop\n",
    "\n",
    "# 2,12    #2,5,8,11\n",
    "\n",
    "for i in range(2,12,3):\n",
    "    print(i)"
   ]
  },
  {
   "cell_type": "code",
   "execution_count": 23,
   "id": "bb460237",
   "metadata": {},
   "outputs": [
    {
     "name": "stdout",
     "output_type": "stream",
     "text": [
      "0 Java\n",
      "1 JavaScript\n",
      "2 C\n",
      "3 C++\n",
      "4 PHP\n",
      "5 Python\n"
     ]
    }
   ],
   "source": [
    "languages=['Java','JavaScript','C','C++','PHP','Python']\n",
    "\n",
    "for i in range(len(languages)):\n",
    "    print(i,languages[i])"
   ]
  },
  {
   "cell_type": "code",
   "execution_count": 24,
   "id": "5411df49",
   "metadata": {},
   "outputs": [
    {
     "name": "stdout",
     "output_type": "stream",
     "text": [
      "-3\n",
      "-2\n",
      "-1\n",
      "0\n",
      "1\n",
      "2\n",
      "3\n",
      "4\n",
      "5\n",
      "6\n"
     ]
    }
   ],
   "source": [
    "for i in range(-3,7):\n",
    "    print(i)"
   ]
  },
  {
   "cell_type": "code",
   "execution_count": 30,
   "id": "7cf2ec27",
   "metadata": {},
   "outputs": [
    {
     "name": "stdout",
     "output_type": "stream",
     "text": [
      "Enter any number:19\n",
      "19X1=19\n",
      "19X2=38\n",
      "19X3=57\n",
      "19X4=76\n",
      "19X5=95\n",
      "19X6=114\n",
      "19X7=133\n",
      "19X8=152\n",
      "19X9=171\n",
      "19X10=190\n"
     ]
    }
   ],
   "source": [
    "num1=int(input('Enter any number:'))\n",
    "\n",
    "for i in range(1,11):\n",
    "    print('%dX%d=%d'%(num1,i,num1*i))\n",
    "    \n",
    "    \n",
    "#9x1=9"
   ]
  },
  {
   "cell_type": "code",
   "execution_count": 34,
   "id": "4d0c1737",
   "metadata": {},
   "outputs": [
    {
     "name": "stdout",
     "output_type": "stream",
     "text": [
      "The total value of the number in the list is: 2780.06\n",
      "The average value of the number in the list is: 252.73272727272726\n"
     ]
    }
   ],
   "source": [
    "nlis=[0.577,1.618,2.718,3.147,1729,6,37,100,200,300,400]\n",
    "\n",
    "# write a for loop addition\n",
    "count=0\n",
    "\n",
    "for i in nlis:\n",
    "    count+=i\n",
    "    \n",
    "print('The total value of the number in the list is:',count)\n",
    "print('The average value of the number in the list is:',count/len(nlis))"
   ]
  },
  {
   "cell_type": "code",
   "execution_count": 10,
   "id": "017b1fdf",
   "metadata": {},
   "outputs": [
    {
     "name": "stdout",
     "output_type": "stream",
     "text": [
      "1,2,3,4,5,These are numbers from 1 to 5.\n"
     ]
    }
   ],
   "source": [
    "# using for print 1 to 5   #1,2,3,4,5\n",
    "\n",
    "for i in range(1,6):\n",
    "    print(i,end=',')\n",
    "    \n",
    "else:\n",
    "    print('These are numbers from 1 to 5.')"
   ]
  },
  {
   "cell_type": "markdown",
   "id": "373d8130",
   "metadata": {},
   "source": [
    "# break() in for loop"
   ]
  },
  {
   "cell_type": "code",
   "execution_count": 16,
   "id": "6149f885",
   "metadata": {},
   "outputs": [
    {
     "name": "stdout",
     "output_type": "stream",
     "text": [
      "1\n",
      "2\n",
      "3\n",
      "4\n",
      "5\n",
      "6\n",
      "7\n",
      "8\n",
      "9\n",
      "10\n"
     ]
    },
    {
     "data": {
      "text/plain": [
       "'\\nYou see that the output includes the numbers before 10.\\nThe break function terminate the loop when it meets with the reference.\\n'"
      ]
     },
     "execution_count": 16,
     "metadata": {},
     "output_type": "execute_result"
    }
   ],
   "source": [
    "nlis=[1,2,3,4,5,6,7,8,9,10,11,12,13,14,15]\n",
    "\n",
    "for i in nlis:\n",
    "    if i==11:\n",
    "        break\n",
    "    print(i)\n",
    "    \n",
    "    \n",
    "'''\n",
    "You see that the output includes the numbers before 10.\n",
    "The break function terminate the loop when it meets with the reference.\n",
    "'''"
   ]
  },
  {
   "cell_type": "markdown",
   "id": "2768b736",
   "metadata": {},
   "source": [
    "# Continue in for loop"
   ]
  },
  {
   "cell_type": "code",
   "execution_count": 19,
   "id": "bf67c771",
   "metadata": {},
   "outputs": [
    {
     "name": "stdout",
     "output_type": "stream",
     "text": [
      "1\n",
      "2\n",
      "3\n",
      "4\n",
      "5\n",
      "6\n",
      "7\n",
      "8\n",
      "9\n",
      "11\n",
      "12\n",
      "13\n",
      "14\n",
      "15\n"
     ]
    },
    {
     "data": {
      "text/plain": [
       "'\\nYou see that the output includes the numbers without 10.\\nThe continue function jumps when it meets with the reference.\\n'"
      ]
     },
     "execution_count": 19,
     "metadata": {},
     "output_type": "execute_result"
    }
   ],
   "source": [
    "nlis=[1,2,3,4,5,6,7,8,9,10,11,12,13,14,15]\n",
    "\n",
    "\n",
    "for i in nlis:\n",
    "    if i==10:\n",
    "        continue\n",
    "    print(i)\n",
    "    \n",
    "    \n",
    "'''\n",
    "You see that the output includes the numbers without 10.\n",
    "The continue function jumps when it meets with the reference.\n",
    "'''"
   ]
  },
  {
   "cell_type": "markdown",
   "id": "97a0703e",
   "metadata": {},
   "source": [
    "# while loop\n",
    "\n",
    "\n",
    " * __The while loop exists as a tool for repeated execution based on a condition. The code block will keep being executed until the given logical condition returns a False boolean value.__"
   ]
  },
  {
   "cell_type": "code",
   "execution_count": 25,
   "id": "e61b6566",
   "metadata": {},
   "outputs": [
    {
     "name": "stdout",
     "output_type": "stream",
     "text": [
      "22\n",
      "23\n",
      "24\n",
      "25\n",
      "26\n",
      "27\n"
     ]
    }
   ],
   "source": [
    "# Take an example\n",
    "\n",
    "i=22 # starting point\n",
    "\n",
    "while i<=27:\n",
    "    print(i)\n",
    "    i+=1"
   ]
  },
  {
   "cell_type": "code",
   "execution_count": 30,
   "id": "834684e5",
   "metadata": {},
   "outputs": [
    {
     "name": "stdout",
     "output_type": "stream",
     "text": [
      "22\n",
      "21\n",
      "20\n",
      "19\n",
      "18\n",
      "17\n"
     ]
    }
   ],
   "source": [
    "i=22\n",
    "\n",
    "while i>=17:\n",
    "    print(i)\n",
    "    i-=1"
   ]
  },
  {
   "cell_type": "markdown",
   "id": "6f1fd59e",
   "metadata": {},
   "source": [
    "# While-else statement"
   ]
  },
  {
   "cell_type": "code",
   "execution_count": 33,
   "id": "682d8b71",
   "metadata": {},
   "outputs": [
    {
     "name": "stdout",
     "output_type": "stream",
     "text": [
      "0,1,2,3,4,5,It gives us the numbers between 0 to 5\n"
     ]
    }
   ],
   "source": [
    "index=0\n",
    "\n",
    "while index<=5:\n",
    "    print(index,end=',')\n",
    "    index+=1\n",
    "    \n",
    "else:\n",
    "    print('It gives us the numbers between 0 to 5')"
   ]
  },
  {
   "cell_type": "markdown",
   "id": "3ea6debe",
   "metadata": {},
   "source": [
    "# break in while loop"
   ]
  },
  {
   "cell_type": "code",
   "execution_count": 36,
   "id": "f033e5a8",
   "metadata": {},
   "outputs": [
    {
     "name": "stdout",
     "output_type": "stream",
     "text": [
      "0\n",
      "1\n",
      "2\n",
      "3\n"
     ]
    }
   ],
   "source": [
    "i=0\n",
    "\n",
    "while i<=5:\n",
    "    print(i)\n",
    "    i+=1\n",
    "    if i==4:\n",
    "        break"
   ]
  },
  {
   "cell_type": "markdown",
   "id": "2e30a623",
   "metadata": {},
   "source": [
    "# Continue in while loop"
   ]
  },
  {
   "cell_type": "code",
   "execution_count": 38,
   "id": "49b25aa1",
   "metadata": {},
   "outputs": [
    {
     "name": "stdout",
     "output_type": "stream",
     "text": [
      "0\n",
      "1\n",
      "2\n",
      "3\n",
      "4\n",
      "5\n"
     ]
    }
   ],
   "source": [
    "i=0\n",
    "\n",
    "while i<=5:\n",
    "    print(i)\n",
    "    i+=1\n",
    "    if i==3:\n",
    "        continue"
   ]
  },
  {
   "cell_type": "code",
   "execution_count": 40,
   "id": "53514d0a",
   "metadata": {},
   "outputs": [
    {
     "name": "stdout",
     "output_type": "stream",
     "text": [
      "1\n",
      "2\n",
      "3\n",
      "4\n",
      "5\n",
      "6\n",
      "7\n",
      "8\n",
      "9\n",
      "10\n"
     ]
    }
   ],
   "source": [
    "# Print the first 10 natural number using for and while loop.\n",
    "for i in range(1,11):\n",
    "    print(i)"
   ]
  },
  {
   "cell_type": "code",
   "execution_count": 41,
   "id": "15b764e8",
   "metadata": {},
   "outputs": [
    {
     "name": "stdout",
     "output_type": "stream",
     "text": [
      "1\n",
      "2\n",
      "3\n",
      "4\n",
      "5\n",
      "6\n",
      "7\n",
      "8\n",
      "9\n",
      "10\n"
     ]
    }
   ],
   "source": [
    "j=1\n",
    "while j<=10:\n",
    "    print(j)\n",
    "    j+=1"
   ]
  },
  {
   "cell_type": "code",
   "execution_count": 44,
   "id": "3a3f4830",
   "metadata": {},
   "outputs": [
    {
     "name": "stdout",
     "output_type": "stream",
     "text": [
      "Even numbers are: 2\n",
      "Even numbers are: 4\n",
      "Even numbers are: 6\n",
      "Even numbers are: 8\n",
      "Even numbers are: 10\n"
     ]
    }
   ],
   "source": [
    "# using for find the even number between 1 to 10.\n",
    "\n",
    "\n",
    "for i in range(1,11):\n",
    "    if i%2==0:\n",
    "        print(\"Even numbers are:\", i)"
   ]
  },
  {
   "cell_type": "code",
   "execution_count": 47,
   "id": "64ed3bfc",
   "metadata": {},
   "outputs": [
    {
     "name": "stdout",
     "output_type": "stream",
     "text": [
      "Total sum of 1 to 10: 55\n"
     ]
    }
   ],
   "source": [
    "# Write a program to calculate the sum of all numbers from 1 to a given number is 10.\n",
    "\n",
    "given_number=11\n",
    "\n",
    "sum1=0\n",
    "\n",
    "for i in range(1,given_number):\n",
    "    sum1+=i\n",
    "print('Total sum of 1 to 10:',sum1)\n"
   ]
  },
  {
   "cell_type": "code",
   "execution_count": 1,
   "id": "c3eb418c",
   "metadata": {},
   "outputs": [
    {
     "name": "stdout",
     "output_type": "stream",
     "text": [
      "Even numbers in the list:  8\n",
      "Odd numbers in the list:  7\n"
     ]
    }
   ],
   "source": [
    "# Write a python program to count kthe number of even or odd numbers from a series of numbers?\n",
    "# num_list=[1,3,5,6,99,134,55,108,200,256,987,963,945,1000,106,3056]\n",
    "\n",
    "num_list=[1,3,5,6,99,134,55,108,200,256,987,945,1000,106,3056]\n",
    "even_count=0\n",
    "odd_count=0\n",
    "\n",
    "for i in num_list:\n",
    "    if i%2==0:\n",
    "        even_count+=1\n",
    "       \n",
    "    else:\n",
    "        odd_count+=1\n",
    "print(\"Even numbers in the list: \", even_count)\n",
    "print(\"Odd numbers in the list: \", odd_count)"
   ]
  },
  {
   "cell_type": "code",
   "execution_count": 5,
   "id": "1c89e558",
   "metadata": {},
   "outputs": [
    {
     "name": "stdout",
     "output_type": "stream",
     "text": [
      "1 : is an odd number.\n",
      "3 : is an odd number.\n",
      "5 : is an odd number.\n",
      "6 : is an even number.\n",
      "99 : is an odd number.\n",
      "134 : is an even number.\n",
      "55 : is an odd number.\n",
      "108 : is an even number.\n",
      "200 : is an even number.\n",
      "256 : is an even number.\n",
      "987 : is an odd number.\n",
      "945 : is an odd number.\n",
      "1000 : is an even number.\n",
      "106 : is an even number.\n",
      "3056 : is an even number.\n",
      "1234 : is an even number.\n",
      "Even numbers in the list:  9\n",
      "Odd numbers in the list:  7\n"
     ]
    }
   ],
   "source": [
    "num_list=[1,3,5,6,99,134,55,108,200,256,987,945,1000,106,3056,1234]\n",
    "even_count=0\n",
    "odd_count=0\n",
    "\n",
    "for i in num_list:\n",
    "    if i%2==0:\n",
    "        even_count+=1\n",
    "        print(i,': is an even number.')\n",
    "        \n",
    "    else:\n",
    "        odd_count+=1\n",
    "        print(i,': is an odd number.')\n",
    "print(\"Even numbers in the list: \", even_count)\n",
    "print(\"Odd numbers in the list: \", odd_count)"
   ]
  },
  {
   "cell_type": "code",
   "execution_count": 7,
   "id": "0ca2b864",
   "metadata": {},
   "outputs": [
    {
     "name": "stdout",
     "output_type": "stream",
     "text": [
      "21\n"
     ]
    }
   ],
   "source": [
    "# Write a program to count the total number of digits in a number 123456789456789123586 using for count.\n",
    "\n",
    "n=123456789456789123586\n",
    "\n",
    "\n",
    "\n",
    "for i in range(len(str(n))+1):\n",
    "    continue\n",
    "print(i)"
   ]
  },
  {
   "cell_type": "code",
   "execution_count": 8,
   "id": "2c4eaa61",
   "metadata": {},
   "outputs": [
    {
     "name": "stdout",
     "output_type": "stream",
     "text": [
      "21\n"
     ]
    }
   ],
   "source": [
    "given_num=123456789456789123586\n",
    "\n",
    "given_num=str(given_num)\n",
    "count=0\n",
    "\n",
    "for i in given_num:\n",
    "    count+=1\n",
    "    \n",
    "print(count)"
   ]
  },
  {
   "cell_type": "code",
   "execution_count": 11,
   "id": "9ed3a02f",
   "metadata": {},
   "outputs": [
    {
     "name": "stdout",
     "output_type": "stream",
     "text": [
      "Enter a string:\n",
      "Purushottam12345678\n",
      "The String is: Purushottam12345678 \n",
      "The no. of digits are: 8 \n",
      "The no. of letters are: 11\n"
     ]
    }
   ],
   "source": [
    "# Write a Python program that accepts a string and count the number of digits and number from user input text.\n",
    "# ex:-  abc123 then output will be 3 letters and 3 numbers.\n",
    "\n",
    "\n",
    "words=input('Enter a string:\\n')\n",
    "\n",
    "digit=0\n",
    "letters=0\n",
    "\n",
    "for i in range(len(words)):\n",
    "    if words[i].isnumeric()==True:\n",
    "        digit+=1\n",
    "        \n",
    "    else:\n",
    "        letters+=1\n",
    "        \n",
    "print('The String is:',words,\"\\nThe no. of digits are:\",digit,'\\nThe no. of letters are:',letters)"
   ]
  },
  {
   "cell_type": "code",
   "execution_count": 1,
   "id": "8f103904",
   "metadata": {},
   "outputs": [],
   "source": [
    "# Write a python program to display the number of names of the digits of a number.\n",
    "# number is 123 then output should be One Two Three."
   ]
  },
  {
   "cell_type": "code",
   "execution_count": 2,
   "id": "817c46ea",
   "metadata": {},
   "outputs": [
    {
     "name": "stdout",
     "output_type": "stream",
     "text": [
      "110\n"
     ]
    }
   ],
   "source": [
    "# Write a python program to print sum of first 10 Even numbers using while loop.\n",
    "\n",
    "# 2,4,6,8,10,12,14,16,18,20\n",
    "\n",
    "num=2\n",
    "sum1=0\n",
    "\n",
    "while num<=20:\n",
    "    sum1=sum1+num\n",
    "    num=num+2\n",
    "    \n",
    "print(sum1)\n",
    "    "
   ]
  },
  {
   "cell_type": "code",
   "execution_count": 3,
   "id": "b982ead0",
   "metadata": {},
   "outputs": [
    {
     "name": "stdout",
     "output_type": "stream",
     "text": [
      "Sum of 10 Even numbers: 110\n"
     ]
    }
   ],
   "source": [
    "i=0\n",
    "sum2=0\n",
    "\n",
    "while i<=20:\n",
    "    if i%2==0:\n",
    "        sum2+=i\n",
    "        \n",
    "    i+=1\n",
    "print('Sum of 10 Even numbers:',sum2)\n",
    "        \n"
   ]
  },
  {
   "cell_type": "code",
   "execution_count": 8,
   "id": "2d718e7e",
   "metadata": {},
   "outputs": [
    {
     "name": "stdout",
     "output_type": "stream",
     "text": [
      "The month of April has 30 days.\n",
      "The month of June has 30 days.\n",
      "The month of September has 30 days.\n",
      "The month of November has 30 days.\n",
      "The month of January has 31 days.\n",
      "The month of March has 31 days.\n",
      "The month of May has 31 days.\n",
      "The month of July has 31 days.\n",
      "The month of August has 31 days.\n",
      "The month of October has 31 days.\n",
      "The month of December has 31 days.\n",
      "The month of February has 28/29 days\n"
     ]
    }
   ],
   "source": [
    "# Python program to print month name with number of days using while loop.\n",
    "\n",
    "# January=31 days\n",
    "\n",
    "month=[\"April\",\"June\",\"September\",\"November\",\"January\",\"March\",\"May\",\"July\",\"August\",\"October\",\"December\",\"February\"]\n",
    "\n",
    "for i in month:\n",
    "    if i == \"February\":\n",
    "        print(\"The month of February has 28/29 days\")\n",
    "        \n",
    "    elif i in (\"April\",\"June\",\"September\",\"November\"):\n",
    "        print(\"The month of\",i,\"has 30 days.\")\n",
    "    elif i in (\"January\",\"March\",\"May\",\"July\",\"August\",\"October\",\"December\"):\n",
    "        print(\"The month of\",i,\"has 31 days.\")\n",
    "    else:\n",
    "        print(i,\"is not a valid month name.\")"
   ]
  },
  {
   "cell_type": "code",
   "execution_count": null,
   "id": "e1757175",
   "metadata": {},
   "outputs": [],
   "source": []
  }
 ],
 "metadata": {
  "kernelspec": {
   "display_name": "Python 3 (ipykernel)",
   "language": "python",
   "name": "python3"
  },
  "language_info": {
   "codemirror_mode": {
    "name": "ipython",
    "version": 3
   },
   "file_extension": ".py",
   "mimetype": "text/x-python",
   "name": "python",
   "nbconvert_exporter": "python",
   "pygments_lexer": "ipython3",
   "version": "3.9.13"
  }
 },
 "nbformat": 4,
 "nbformat_minor": 5
}
