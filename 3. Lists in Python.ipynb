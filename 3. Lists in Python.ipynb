{
 "cells": [
  {
   "cell_type": "markdown",
   "id": "9822262d",
   "metadata": {},
   "source": [
    "# 3. Lists \n",
    "\n",
    "\n",
    " * __Lists are ordered.__\n",
    " * __Lists can contain any arbitrary objects.__\n",
    " * __List element can be accessed by index.__\n",
    " * __Lists are mutable.__\n",
    " * __Lists are dynamic.__"
   ]
  },
  {
   "cell_type": "code",
   "execution_count": 1,
   "id": "526d443c",
   "metadata": {},
   "outputs": [
    {
     "data": {
      "text/plain": [
       "['Hello World',\n",
       " 3.147,\n",
       " 2023,\n",
       " ['Hi Python', 10, 23.023],\n",
       " ('Helllo', 23, 78.23),\n",
       " True,\n",
       " False,\n",
       " {1, 23, 34},\n",
       " {'a': 56, 'b': 'Hello'}]"
      ]
     },
     "execution_count": 1,
     "metadata": {},
     "output_type": "execute_result"
    }
   ],
   "source": [
    "list1=['Hello World',3.147,2023,['Hi Python',10,23.023],('Helllo',23,78.23),True,False,{1,23,34},{'a':56,'b':'Hello'}]\n",
    "\n",
    "list1"
   ]
  },
  {
   "cell_type": "markdown",
   "id": "0ed67eb9",
   "metadata": {},
   "source": [
    "# Accessing by index number"
   ]
  },
  {
   "cell_type": "code",
   "execution_count": 5,
   "id": "06dff2e9",
   "metadata": {},
   "outputs": [
    {
     "name": "stdout",
     "output_type": "stream",
     "text": [
      "Hello World\n",
      "3.147\n",
      "2023\n",
      "['Hi Python', 10, 23.023]\n",
      "('Helllo', 23, 78.23)\n",
      "True\n",
      "False\n",
      "{1, 34, 23}\n",
      "{'a': 56, 'b': 'Hello'}\n"
     ]
    }
   ],
   "source": [
    "print(list1[0])\n",
    "print(list1[1])\n",
    "print(list1[2])\n",
    "print(list1[3])\n",
    "print(list1[4])\n",
    "print(list1[5])\n",
    "print(list1[6])\n",
    "print(list1[7])\n",
    "print(list1[8])"
   ]
  },
  {
   "cell_type": "markdown",
   "id": "e91251ce",
   "metadata": {},
   "source": [
    "# Accessing by index number and data types"
   ]
  },
  {
   "cell_type": "code",
   "execution_count": 15,
   "id": "ee50d507",
   "metadata": {},
   "outputs": [
    {
     "name": "stdout",
     "output_type": "stream",
     "text": [
      "Hello World\n",
      "<class 'str'>\n"
     ]
    }
   ],
   "source": [
    "print(list1[0])\n",
    "print(type(list1[0]))\n"
   ]
  },
  {
   "cell_type": "markdown",
   "id": "0dcc5275",
   "metadata": {},
   "source": [
    "#  What can content a list?\n",
    "\n",
    " * __String__\n",
    " * __Float__\n",
    " * __Integer__\n",
    " * __Boolean__\n",
    " * __Nested list__\n",
    " * __Nested Tuple__\n",
    " * __Nested Dictionary__\n",
    " * __Nested set__"
   ]
  },
  {
   "cell_type": "markdown",
   "id": "a177157f",
   "metadata": {},
   "source": [
    "# Python list method"
   ]
  },
  {
   "cell_type": "code",
   "execution_count": 21,
   "id": "6d5164f2",
   "metadata": {},
   "outputs": [
    {
     "name": "stdout",
     "output_type": "stream",
     "text": [
      "[10, 20, 30, 40]\n",
      "[40, 50, 60, 70, 80, 90, 100, 110, 120]\n",
      "[120, 78, 80, 90, 100]\n"
     ]
    }
   ],
   "source": [
    "# append\n",
    "x= [10,20,30]\n",
    "x.append(40)\n",
    "print(x)\n",
    "\n",
    "\n",
    "# extend\n",
    "y=[40,50,60,70]\n",
    "y.extend([80,90,100,110,120])\n",
    "print(y)\n",
    "\n",
    "\n",
    "# insert\n",
    "z=[78,80,90,100]\n",
    "z.insert(0,120)\n",
    "print(z)"
   ]
  },
  {
   "cell_type": "code",
   "execution_count": 1,
   "id": "014f62ba",
   "metadata": {},
   "outputs": [
    {
     "data": {
      "text/plain": [
       "[10, 20, 10, 20, 40, 50, 50, 50, 50, 60, 70, 80, 80, 80, 90]"
      ]
     },
     "execution_count": 1,
     "metadata": {},
     "output_type": "execute_result"
    }
   ],
   "source": [
    "x1=[10,20,10,20,40,50,50,50,50,60,70,80,80,80,90]\n",
    "x1"
   ]
  },
  {
   "cell_type": "code",
   "execution_count": 9,
   "id": "acb265c0",
   "metadata": {},
   "outputs": [
    {
     "data": {
      "text/plain": [
       "[10, 20, 10, 20, 50, 50, 50, 50, 60, 70, 80, 80, 80, 90]"
      ]
     },
     "execution_count": 9,
     "metadata": {},
     "output_type": "execute_result"
    }
   ],
   "source": [
    "x1"
   ]
  },
  {
   "cell_type": "code",
   "execution_count": 13,
   "id": "8ca40688",
   "metadata": {},
   "outputs": [
    {
     "name": "stdout",
     "output_type": "stream",
     "text": [
      "4\n",
      "0\n"
     ]
    }
   ],
   "source": [
    "# count\n",
    "\n",
    "print(x1.count(50))\n",
    "\n",
    "# index\n",
    "\n",
    "print(x1.index(20))\n",
    "\n",
    "# remove\n",
    "\n"
   ]
  },
  {
   "cell_type": "code",
   "execution_count": 15,
   "id": "c7a60abf",
   "metadata": {},
   "outputs": [
    {
     "name": "stdout",
     "output_type": "stream",
     "text": [
      "[20, 10, 20, 50, 50, 60, 70, 80, 80, 80, 90]\n"
     ]
    }
   ],
   "source": [
    "x1\n",
    "x1.remove(50)\n",
    "print(x1)"
   ]
  },
  {
   "cell_type": "code",
   "execution_count": 17,
   "id": "e812a214",
   "metadata": {},
   "outputs": [
    {
     "name": "stdout",
     "output_type": "stream",
     "text": [
      "[10, 20, 50, 60, 70, 80, 90, 10]\n"
     ]
    }
   ],
   "source": [
    "# pop\n",
    "\n",
    "x2=[10,20,50,60,70,80,90,10,20]\n",
    "\n",
    "x2.pop()\n",
    "print(x2)"
   ]
  },
  {
   "cell_type": "code",
   "execution_count": 21,
   "id": "64be875b",
   "metadata": {},
   "outputs": [
    {
     "data": {
      "text/plain": [
       "[10, 20, 60, 70, 80]"
      ]
     },
     "execution_count": 21,
     "metadata": {},
     "output_type": "execute_result"
    }
   ],
   "source": [
    "x2.pop(2)\n",
    "x2"
   ]
  },
  {
   "cell_type": "code",
   "execution_count": 23,
   "id": "0c090003",
   "metadata": {},
   "outputs": [
    {
     "name": "stdout",
     "output_type": "stream",
     "text": [
      "[60, 50, 40, 30, 20, 10]\n"
     ]
    }
   ],
   "source": [
    "x3=[10,20,30,40,50,60]\n",
    "\n",
    "x3.reverse()\n",
    "print(x3)"
   ]
  },
  {
   "cell_type": "code",
   "execution_count": 25,
   "id": "a18e127a",
   "metadata": {},
   "outputs": [
    {
     "name": "stdout",
     "output_type": "stream",
     "text": [
      "[10, 50, 60, 70, 40, 30, 10, 25, 66, 88]\n"
     ]
    }
   ],
   "source": [
    "x4=[10,50,60,70,40,30,10,25,66,88]\n",
    "print(x4)\n"
   ]
  },
  {
   "cell_type": "code",
   "execution_count": 29,
   "id": "339c4cba",
   "metadata": {},
   "outputs": [],
   "source": [
    "x4.sort()"
   ]
  },
  {
   "cell_type": "code",
   "execution_count": 30,
   "id": "b3999d9c",
   "metadata": {},
   "outputs": [
    {
     "name": "stdout",
     "output_type": "stream",
     "text": [
      "[10, 10, 25, 30, 40, 50, 60, 66, 70, 88]\n"
     ]
    }
   ],
   "source": [
    "print(x4)"
   ]
  },
  {
   "cell_type": "code",
   "execution_count": 34,
   "id": "7ddc7a0f",
   "metadata": {},
   "outputs": [
    {
     "name": "stdout",
     "output_type": "stream",
     "text": [
      "[10, 20, 30]\n",
      "[10, 20, 30]\n",
      "[10, 20, 30, 40]\n",
      "[10, 20, 30, 40]\n"
     ]
    }
   ],
   "source": [
    "# Deep copy()   # Swallow copy\n",
    "\n",
    "\n",
    "y1_original=[10,20,30]\n",
    "\n",
    "y2_copy=y1_original\n",
    "print(y1_original)\n",
    "print(y2_copy)\n",
    "\n",
    "# append the data\n",
    "y1_original.append(40)\n",
    "print(y1_original)\n",
    "\n",
    "print(y2_copy)\n"
   ]
  },
  {
   "cell_type": "code",
   "execution_count": 38,
   "id": "a9fe599b",
   "metadata": {},
   "outputs": [
    {
     "name": "stdout",
     "output_type": "stream",
     "text": [
      "[50, 60, 70]\n",
      "[50, 60, 70]\n",
      "[50, 60, 70, 80]\n",
      "[50, 60, 70]\n"
     ]
    }
   ],
   "source": [
    "# Swallow copy\n",
    "\n",
    "original=[50,60,70]\n",
    "\n",
    "copy=original.copy()\n",
    "print(original)\n",
    "print(copy)\n",
    "\n",
    "\n",
    "# append the data \n",
    "original.append(80)\n",
    "print(original)\n",
    "\n",
    "print(copy)"
   ]
  },
  {
   "cell_type": "markdown",
   "id": "52df81d2",
   "metadata": {},
   "source": [
    "# len(),  max(), min(), sum() functions"
   ]
  },
  {
   "cell_type": "code",
   "execution_count": 43,
   "id": "1f33c7ee",
   "metadata": {},
   "outputs": [
    {
     "name": "stdout",
     "output_type": "stream",
     "text": [
      "10\n",
      "10\n",
      "1\n",
      "55\n"
     ]
    }
   ],
   "source": [
    "lis=[1,2,3,4,5,6,7,8,9,10]\n",
    "\n",
    "# to find the total lenght of the list.\n",
    "print(len(lis))\n",
    "\n",
    "# to find the maximum number in the list.\n",
    "print(max(lis))\n",
    "\n",
    "# to find the minimum number in the list.\n",
    "\n",
    "print(min(lis))\n",
    "\n",
    "\n",
    "# to find the sum of the list.\n",
    "print(sum(lis))"
   ]
  },
  {
   "cell_type": "markdown",
   "id": "586cb87d",
   "metadata": {},
   "source": [
    "# Changing the element of a list since it is mutable. "
   ]
  },
  {
   "cell_type": "code",
   "execution_count": 46,
   "id": "a0dae68c",
   "metadata": {},
   "outputs": [
    {
     "name": "stdout",
     "output_type": "stream",
     "text": [
      "Before Changing: ['Hello World', 3.147, 2023, ['Hi Python', 10, 23.023], ('Helllo', 23, 78.23), True, False, {1, 34, 23}, {'a': 56, 'b': 'Hello'}]\n",
      "After Changing: ['Hello World', 3.147, 5000, ['Hi Python', 10, 23.023], ('Helllo', 23, 78.23), True, False, {1, 34, 23}, {'a': 56, 'b': 'Hello'}]\n",
      "After Changing ['Hello World', 3.147, 5000, ['Hi Python', 10, 23.023], ('Helllo', 23, 78.23), True, False, {1, 34, 23}, 'Welcome']\n"
     ]
    }
   ],
   "source": [
    "list1=['Hello World',3.147,2023,['Hi Python',10,23.023],('Helllo',23,78.23),True,False,{1,23,34},{'a':56,'b':'Hello'}]\n",
    "\n",
    "print('Before Changing:',list1)\n",
    "\n",
    "list1[2]=5000\n",
    "print('After Changing:',list1)\n",
    "\n",
    "\n",
    "list1[8]='Welcome'\n",
    "print('After Changing',list1)"
   ]
  },
  {
   "cell_type": "code",
   "execution_count": null,
   "id": "7a9b7389",
   "metadata": {},
   "outputs": [],
   "source": []
  }
 ],
 "metadata": {
  "kernelspec": {
   "display_name": "Python 3 (ipykernel)",
   "language": "python",
   "name": "python3"
  },
  "language_info": {
   "codemirror_mode": {
    "name": "ipython",
    "version": 3
   },
   "file_extension": ".py",
   "mimetype": "text/x-python",
   "name": "python",
   "nbconvert_exporter": "python",
   "pygments_lexer": "ipython3",
   "version": "3.9.13"
  }
 },
 "nbformat": 4,
 "nbformat_minor": 5
}
