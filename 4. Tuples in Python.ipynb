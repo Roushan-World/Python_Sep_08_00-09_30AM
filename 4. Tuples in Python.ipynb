{
 "cells": [
  {
   "cell_type": "markdown",
   "id": "b1e9cebd",
   "metadata": {},
   "source": [
    "# 4. Tuples in Python\n",
    "\n",
    " * __Tuples are immutable list and cannnot be changed in any way once it is created.__\n",
    "     \n",
    "     * __Tuples are defined in the same way as lists.__\n",
    "     * __They are enclosed within parenthesis and not within square braces.__\n",
    "     * __Tuples are ordered, indexed collections of data.__\n",
    "     * __Similar to the string indices, the first value in the tuple will have the index [0], the second value [1].__\n",
    "     * __Negative indices are counted from the end of the tuple, just like lists.__\n",
    "     * __Tuple also has the same structure where commas separate the values.__\n",
    "     * __Tuples can store duplicate values.__\n",
    "     * __Tuples allow you to store serveral data items including string, integer, float in one variables.__"
   ]
  },
  {
   "cell_type": "code",
   "execution_count": 1,
   "id": "b0ba15ac",
   "metadata": {},
   "outputs": [
    {
     "data": {
      "text/plain": [
       "('Hello',\n",
       " 'Python',\n",
       " 3.14,\n",
       " 1.618,\n",
       " 2023,\n",
       " True,\n",
       " False,\n",
       " [1, 2, 3],\n",
       " {1, 2, 3},\n",
       " {'a': 3, 'b': 45},\n",
       " (0, 1))"
      ]
     },
     "execution_count": 1,
     "metadata": {},
     "output_type": "execute_result"
    }
   ],
   "source": [
    "tuple_1=('Hello','Python',3.14,1.618,2023,True,False,[1,2,3],{1,2,3},{'a':3,'b':45},(0,1))\n",
    "\n",
    "tuple_1"
   ]
  },
  {
   "cell_type": "code",
   "execution_count": 2,
   "id": "6c998fcc",
   "metadata": {},
   "outputs": [
    {
     "name": "stdout",
     "output_type": "stream",
     "text": [
      "<class 'tuple'>\n"
     ]
    }
   ],
   "source": [
    "print(type(tuple_1))"
   ]
  },
  {
   "cell_type": "code",
   "execution_count": 4,
   "id": "362090ec",
   "metadata": {},
   "outputs": [
    {
     "name": "stdout",
     "output_type": "stream",
     "text": [
      "<class 'str'>\n"
     ]
    }
   ],
   "source": [
    "print(type(tuple_1[0]))"
   ]
  },
  {
   "cell_type": "code",
   "execution_count": 5,
   "id": "e88d923e",
   "metadata": {},
   "outputs": [
    {
     "name": "stdout",
     "output_type": "stream",
     "text": [
      "11\n"
     ]
    }
   ],
   "source": [
    "print(len(tuple_1))"
   ]
  },
  {
   "cell_type": "code",
   "execution_count": 6,
   "id": "88590e04",
   "metadata": {},
   "outputs": [
    {
     "data": {
      "text/plain": [
       "('Hello',\n",
       " 'Python',\n",
       " 3.14,\n",
       " 1.618,\n",
       " 2023,\n",
       " True,\n",
       " False,\n",
       " [1, 2, 3],\n",
       " {1, 2, 3},\n",
       " {'a': 3, 'b': 45},\n",
       " (0, 1))"
      ]
     },
     "execution_count": 6,
     "metadata": {},
     "output_type": "execute_result"
    }
   ],
   "source": [
    "tuple_1=('Hello','Python',3.14,1.618,2023,True,False,[1,2,3],{1,2,3},{'a':3,'b':45},(0,1))\n",
    "\n",
    "tuple_1"
   ]
  },
  {
   "cell_type": "code",
   "execution_count": 11,
   "id": "17ec8951",
   "metadata": {},
   "outputs": [
    {
     "name": "stdout",
     "output_type": "stream",
     "text": [
      "3\n"
     ]
    }
   ],
   "source": [
    "print(tuple_1[7][2])"
   ]
  },
  {
   "cell_type": "code",
   "execution_count": 13,
   "id": "2bdf40fb",
   "metadata": {},
   "outputs": [
    {
     "name": "stdout",
     "output_type": "stream",
     "text": [
      "45\n"
     ]
    }
   ],
   "source": [
    "print(tuple_1[9]['b'])"
   ]
  },
  {
   "cell_type": "markdown",
   "id": "42209ef3",
   "metadata": {},
   "source": [
    "# Concatenation of tuples\n",
    "\n",
    " * __To cancatenate tuples + sign is used.__"
   ]
  },
  {
   "cell_type": "code",
   "execution_count": 14,
   "id": "29be277c",
   "metadata": {},
   "outputs": [
    {
     "data": {
      "text/plain": [
       "('Hello',\n",
       " 'Python',\n",
       " 3.14,\n",
       " 1.618,\n",
       " 2023,\n",
       " True,\n",
       " False,\n",
       " [1, 2, 3],\n",
       " {1, 2, 3},\n",
       " {'a': 3, 'b': 45},\n",
       " (0, 1))"
      ]
     },
     "execution_count": 14,
     "metadata": {},
     "output_type": "execute_result"
    }
   ],
   "source": [
    "tuple_1"
   ]
  },
  {
   "cell_type": "code",
   "execution_count": 15,
   "id": "51cb1389",
   "metadata": {},
   "outputs": [
    {
     "data": {
      "text/plain": [
       "('Hello World!', 2022)"
      ]
     },
     "execution_count": 15,
     "metadata": {},
     "output_type": "execute_result"
    }
   ],
   "source": [
    "tuple_2=('Hello World!',2022)\n",
    "tuple_2"
   ]
  },
  {
   "cell_type": "code",
   "execution_count": 16,
   "id": "a6452e67",
   "metadata": {},
   "outputs": [
    {
     "name": "stdout",
     "output_type": "stream",
     "text": [
      "('Hello', 'Python', 3.14, 1.618, 2023, True, False, [1, 2, 3], {1, 2, 3}, {'a': 3, 'b': 45}, (0, 1), 'Hello World!', 2022)\n"
     ]
    }
   ],
   "source": [
    "tuple_3=tuple_1+tuple_2\n",
    "print(tuple_3)"
   ]
  },
  {
   "cell_type": "markdown",
   "id": "a6ac2d71",
   "metadata": {},
   "source": [
    "# Membership "
   ]
  },
  {
   "cell_type": "code",
   "execution_count": 20,
   "id": "df3fe751",
   "metadata": {},
   "outputs": [
    {
     "name": "stdout",
     "output_type": "stream",
     "text": [
      "True\n",
      "False\n",
      "False\n",
      "True\n"
     ]
    }
   ],
   "source": [
    "rep_tup = (1,2,3,4)\n",
    "\n",
    "print(2 in rep_tup)\n",
    "print(2 not in rep_tup)\n",
    "print(5 in rep_tup)\n",
    "print(5 not in rep_tup)"
   ]
  },
  {
   "cell_type": "markdown",
   "id": "def1e6cb",
   "metadata": {},
   "source": [
    "# Sorting tuple\n",
    "\n"
   ]
  },
  {
   "cell_type": "code",
   "execution_count": 21,
   "id": "c8063482",
   "metadata": {},
   "outputs": [
    {
     "name": "stdout",
     "output_type": "stream",
     "text": [
      "[0, 1, 2, 3, 4, 5, 5, 6, 7, 8, 9]\n"
     ]
    }
   ],
   "source": [
    "tuple_4=(0,9,8,5,6,1,2,3,7,4,5)\n",
    "sorted_tuple_4=sorted(tuple_4)\n",
    "print(sorted_tuple_4)"
   ]
  },
  {
   "cell_type": "code",
   "execution_count": 24,
   "id": "29f94a21",
   "metadata": {},
   "outputs": [
    {
     "data": {
      "text/plain": [
       "[9, 8, 7, 6, 5, 5, 4, 3, 2, 1, 0]"
      ]
     },
     "execution_count": 24,
     "metadata": {},
     "output_type": "execute_result"
    }
   ],
   "source": [
    "x4=sorted_tuple_4[::-1]\n",
    "x4"
   ]
  },
  {
   "cell_type": "markdown",
   "id": "e8e9e62a",
   "metadata": {},
   "source": [
    "# Nested tuple\n",
    "\n",
    " * __In Pyhton, a tuple written inside antoher tuple is known as a nested tuple.__"
   ]
  },
  {
   "cell_type": "code",
   "execution_count": 25,
   "id": "8557e865",
   "metadata": {},
   "outputs": [
    {
     "data": {
      "text/plain": [
       "('Hello World', (0, 1), ('India', 'Greece'), (3.14, 'pi', (1.618, 'Bharat')))"
      ]
     },
     "execution_count": 25,
     "metadata": {},
     "output_type": "execute_result"
    }
   ],
   "source": [
    "nested_tuple=('Hello World',(0,1),('India','Greece'),(3.14,'pi',(1.618,'Bharat')))\n",
    "\n",
    "nested_tuple"
   ]
  },
  {
   "cell_type": "code",
   "execution_count": 29,
   "id": "2bc42ea0",
   "metadata": {},
   "outputs": [
    {
     "data": {
      "text/plain": [
       "'Bharat'"
      ]
     },
     "execution_count": 29,
     "metadata": {},
     "output_type": "execute_result"
    }
   ],
   "source": [
    "nested_tuple[3][2][1]"
   ]
  },
  {
   "cell_type": "markdown",
   "id": "0fe8a428",
   "metadata": {},
   "source": [
    "# Delete a tuple\n",
    "\n",
    " * __An element in a tuple can not be deleted since it is immutable.__\n",
    " * __But a whole tuple can be deleted.__"
   ]
  },
  {
   "cell_type": "code",
   "execution_count": 31,
   "id": "77ffb68b",
   "metadata": {},
   "outputs": [
    {
     "name": "stdout",
     "output_type": "stream",
     "text": [
      "Before deleting: (1, 3, 4, 5, 6, 7)\n"
     ]
    },
    {
     "ename": "TypeError",
     "evalue": "'tuple' object doesn't support item deletion",
     "output_type": "error",
     "traceback": [
      "\u001b[1;31m---------------------------------------------------------------------------\u001b[0m",
      "\u001b[1;31mTypeError\u001b[0m                                 Traceback (most recent call last)",
      "\u001b[1;32m~\\AppData\\Local\\Temp\\ipykernel_9028\\1122892467.py\u001b[0m in \u001b[0;36m<module>\u001b[1;34m\u001b[0m\n\u001b[0;32m      3\u001b[0m \u001b[0mprint\u001b[0m\u001b[1;33m(\u001b[0m\u001b[1;34m'Before deleting:'\u001b[0m\u001b[1;33m,\u001b[0m\u001b[0mtuple_4\u001b[0m\u001b[1;33m)\u001b[0m\u001b[1;33m\u001b[0m\u001b[1;33m\u001b[0m\u001b[0m\n\u001b[0;32m      4\u001b[0m \u001b[1;33m\u001b[0m\u001b[0m\n\u001b[1;32m----> 5\u001b[1;33m \u001b[1;32mdel\u001b[0m\u001b[1;33m(\u001b[0m\u001b[0mtuple_4\u001b[0m\u001b[1;33m[\u001b[0m\u001b[1;36m0\u001b[0m\u001b[1;33m]\u001b[0m\u001b[1;33m)\u001b[0m\u001b[1;33m\u001b[0m\u001b[1;33m\u001b[0m\u001b[0m\n\u001b[0m\u001b[0;32m      6\u001b[0m \u001b[0mprint\u001b[0m\u001b[1;33m(\u001b[0m\u001b[0mtuple_4\u001b[0m\u001b[1;33m)\u001b[0m\u001b[1;33m\u001b[0m\u001b[1;33m\u001b[0m\u001b[0m\n",
      "\u001b[1;31mTypeError\u001b[0m: 'tuple' object doesn't support item deletion"
     ]
    }
   ],
   "source": [
    "tuple_4=(1,3,4,5,6,7)\n",
    "\n",
    "print('Before deleting:',tuple_4)\n",
    "\n",
    "del(tuple_4[0])\n",
    "print(tuple_4)"
   ]
  },
  {
   "cell_type": "code",
   "execution_count": 32,
   "id": "7ef75b0f",
   "metadata": {},
   "outputs": [
    {
     "ename": "NameError",
     "evalue": "name 'tuple_4' is not defined",
     "output_type": "error",
     "traceback": [
      "\u001b[1;31m---------------------------------------------------------------------------\u001b[0m",
      "\u001b[1;31mNameError\u001b[0m                                 Traceback (most recent call last)",
      "\u001b[1;32m~\\AppData\\Local\\Temp\\ipykernel_9028\\732754748.py\u001b[0m in \u001b[0;36m<module>\u001b[1;34m\u001b[0m\n\u001b[0;32m      1\u001b[0m \u001b[1;32mdel\u001b[0m\u001b[1;33m(\u001b[0m\u001b[0mtuple_4\u001b[0m\u001b[1;33m)\u001b[0m\u001b[1;33m\u001b[0m\u001b[1;33m\u001b[0m\u001b[0m\n\u001b[1;32m----> 2\u001b[1;33m \u001b[0mprint\u001b[0m\u001b[1;33m(\u001b[0m\u001b[0mtuple_4\u001b[0m\u001b[1;33m)\u001b[0m\u001b[1;33m\u001b[0m\u001b[1;33m\u001b[0m\u001b[0m\n\u001b[0m",
      "\u001b[1;31mNameError\u001b[0m: name 'tuple_4' is not defined"
     ]
    }
   ],
   "source": [
    "del(tuple_4)\n",
    "print(tuple_4)"
   ]
  },
  {
   "cell_type": "code",
   "execution_count": null,
   "id": "e7deac18",
   "metadata": {},
   "outputs": [],
   "source": []
  }
 ],
 "metadata": {
  "kernelspec": {
   "display_name": "Python 3 (ipykernel)",
   "language": "python",
   "name": "python3"
  },
  "language_info": {
   "codemirror_mode": {
    "name": "ipython",
    "version": 3
   },
   "file_extension": ".py",
   "mimetype": "text/x-python",
   "name": "python",
   "nbconvert_exporter": "python",
   "pygments_lexer": "ipython3",
   "version": "3.9.13"
  }
 },
 "nbformat": 4,
 "nbformat_minor": 5
}
