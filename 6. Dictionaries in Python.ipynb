{
 "cells": [
  {
   "cell_type": "markdown",
   "id": "f2413f03",
   "metadata": {},
   "source": [
    "# 6. Dictionaries in Python\n",
    "\n",
    "\n",
    " * __Dictionaries are used to store data values in key:value pair.__\n",
    " * __A dicitonary is a collection which is ordered, changeable or mutable and do not allow duplicates.__\n",
    " * __Dictionary items are ordered, changeable, and does not allow duplicates.__\n",
    " * __Dictionary are presented in key:value pair, and can be referred to by using the key name.__\n",
    " * __Dictionaries are changeable, meaning that we can change, add or remove items after the dictionary has been created.__\n",
    " * __Dictionaries can not have two items with the same key.__\n",
    " * __A dictionary can nested and can contain another dictionary.__\n",
    " \n",
    " \n",
    "     * __Key__---------------__Values__\n",
    "     * __'name'__------------__'John'__\n",
    "     * __'age'__------------__25__\n",
    "     * __'job'__------------__'Dev'__\n",
    "     * __'city'__-----------__'New York'__\n",
    "     * __'email'__---------__'bob@web.com'__"
   ]
  },
  {
   "cell_type": "code",
   "execution_count": 2,
   "id": "e47d3fb0",
   "metadata": {},
   "outputs": [
    {
     "data": {
      "text/plain": [
       "{'key_1': 3.14,\n",
       " 'key_2': 1.618,\n",
       " 'key_3': True,\n",
       " 'key_4': [3.14, 1.618],\n",
       " 'key_5': (3.14, 1.618),\n",
       " 'key_6': 2023,\n",
       " (3.14, 1.618): 'Pi and ratio'}"
      ]
     },
     "execution_count": 2,
     "metadata": {},
     "output_type": "execute_result"
    }
   ],
   "source": [
    "sample_dict={'key_1':3.14,'key_2':1.618,\n",
    "            'key_3':True,'key_4':[3.14,1.618],\n",
    "            'key_5':(3.14,1.618),'key_6':2023,(3.14,1.618):'Pi and ratio'}\n",
    "sample_dict"
   ]
  },
  {
   "cell_type": "code",
   "execution_count": 3,
   "id": "67ddfce4",
   "metadata": {},
   "outputs": [
    {
     "data": {
      "text/plain": [
       "dict_keys(['key_1', 'key_2', 'key_3', 'key_4', 'key_5', 'key_6', (3.14, 1.618)])"
      ]
     },
     "execution_count": 3,
     "metadata": {},
     "output_type": "execute_result"
    }
   ],
   "source": [
    "sample_dict.keys()"
   ]
  },
  {
   "cell_type": "code",
   "execution_count": 4,
   "id": "40e4d984",
   "metadata": {},
   "outputs": [
    {
     "data": {
      "text/plain": [
       "dict_values([3.14, 1.618, True, [3.14, 1.618], (3.14, 1.618), 2023, 'Pi and ratio'])"
      ]
     },
     "execution_count": 4,
     "metadata": {},
     "output_type": "execute_result"
    }
   ],
   "source": [
    "sample_dict.values()"
   ]
  },
  {
   "cell_type": "markdown",
   "id": "1053491c",
   "metadata": {},
   "source": [
    "# Note:\n",
    "\n",
    " * __As you see that the whole dictionary is enclosed in curly braces, each key is separated from its value by a colomn \":\", and commas are used to separate the items in the dictionary.__"
   ]
  },
  {
   "cell_type": "code",
   "execution_count": 14,
   "id": "1c5e7eb6",
   "metadata": {},
   "outputs": [
    {
     "name": "stdout",
     "output_type": "stream",
     "text": [
      "3.14\n",
      "1.618\n",
      "True\n",
      "[3.14, 1.618]\n",
      "(3.14, 1.618)\n",
      "2023\n",
      "Pi and ratio\n"
     ]
    }
   ],
   "source": [
    "# Accessing to the value using the key\n",
    "\n",
    "print(sample_dict['key_1'])\n",
    "print(sample_dict['key_2'])\n",
    "print(sample_dict['key_3'])\n",
    "print(sample_dict['key_4'])\n",
    "print(sample_dict['key_5'])\n",
    "print(sample_dict['key_6'])\n",
    "print(sample_dict[(3.14, 1.618)])    # key can be any immutable object like tuple."
   ]
  },
  {
   "cell_type": "code",
   "execution_count": null,
   "id": "0e964ba8",
   "metadata": {},
   "outputs": [],
   "source": []
  }
 ],
 "metadata": {
  "kernelspec": {
   "display_name": "Python 3 (ipykernel)",
   "language": "python",
   "name": "python3"
  },
  "language_info": {
   "codemirror_mode": {
    "name": "ipython",
    "version": 3
   },
   "file_extension": ".py",
   "mimetype": "text/x-python",
   "name": "python",
   "nbconvert_exporter": "python",
   "pygments_lexer": "ipython3",
   "version": "3.9.13"
  }
 },
 "nbformat": 4,
 "nbformat_minor": 5
}
