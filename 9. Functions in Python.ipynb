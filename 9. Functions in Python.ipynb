{
 "cells": [
  {
   "cell_type": "markdown",
   "id": "34f9df2b",
   "metadata": {},
   "source": [
    "# 9. Functions in Python\n",
    "\n",
    "\n",
    " * __In Python, a function is a group of related statements that performs a specific task.__\n",
    " * __Functions help break our program into smaller and modular chunks.__\n",
    " * __As our program grow larger and larger, functions make it more organized and manageable.__\n",
    " * __Furthermore, it avoids repetition and makes the code reusable.__\n",
    " * __There are two types of functions:\n",
    " * __i.Pre-defined functions.__\n",
    " * __ii.User-defined functions.__\n",
    " * __In python a function is defined using the def keyword followed by the function name and parentheses().__\n",
    " * __Keyword def that makes the start of the function header.__\n",
    " * __A function name to uniquely identify the function.__\n",
    " * __Function naming follows the same rules of writing identifiers in Python.__\n",
    " * __Parameters (arguments) through which we pass values to a function. They are optional.__\n",
    " * __A colon(:) to mark the end of the function header.__\n",
    " * __Optional documentation string(docstring) to describe what the function does.__\n",
    " * __One or more valid python statements that make up the function body.__\n",
    " * __Statements must have the same indentation level (usually 4 spaces).__\n",
    " * __An optional return statement to return a value from the function.__"
   ]
  },
  {
   "cell_type": "code",
   "execution_count": 6,
   "id": "14eaadc8",
   "metadata": {},
   "outputs": [
    {
     "name": "stdout",
     "output_type": "stream",
     "text": [
      "If you make the above operations with 10, the result will be 2,18,80,1.25,2\n"
     ]
    },
    {
     "data": {
      "text/plain": [
       "(2, 18, 80, 1.25, 2)"
      ]
     },
     "execution_count": 6,
     "metadata": {},
     "output_type": "execute_result"
    }
   ],
   "source": [
    "def process(x):  # x argument\n",
    "    y1=x-8\n",
    "    y2=x+8\n",
    "    y3=x*8\n",
    "    y4=x/8\n",
    "    y5=x%8\n",
    "    print(f'If you make the above operations with {x}, the result will be {y1},{y2},{y3},{y4},{y5}')\n",
    "    return y1,y2,y3,y4,y5\n",
    "\n",
    "process(10)   # 10 parameter"
   ]
  },
  {
   "cell_type": "code",
   "execution_count": 7,
   "id": "30179056",
   "metadata": {},
   "outputs": [
    {
     "name": "stdout",
     "output_type": "stream",
     "text": [
      "If you make the above operations with 50, the result will be 42,58,400,6.25,2\n"
     ]
    },
    {
     "data": {
      "text/plain": [
       "(42, 58, 400, 6.25, 2)"
      ]
     },
     "execution_count": 7,
     "metadata": {},
     "output_type": "execute_result"
    }
   ],
   "source": [
    "process(50)"
   ]
  },
  {
   "cell_type": "code",
   "execution_count": 8,
   "id": "27ea350c",
   "metadata": {},
   "outputs": [
    {
     "name": "stdout",
     "output_type": "stream",
     "text": [
      "If you make the above operations with 100, the result will be 92,108,800,12.5,4\n"
     ]
    },
    {
     "data": {
      "text/plain": [
       "(92, 108, 800, 12.5, 4)"
      ]
     },
     "execution_count": 8,
     "metadata": {},
     "output_type": "execute_result"
    }
   ],
   "source": [
    "process(100)"
   ]
  },
  {
   "cell_type": "code",
   "execution_count": 9,
   "id": "ed37047f",
   "metadata": {},
   "outputs": [
    {
     "name": "stdout",
     "output_type": "stream",
     "text": [
      "If you make the above operations with 150, the result will be 142,158,1200,18.75,6\n"
     ]
    },
    {
     "data": {
      "text/plain": [
       "(142, 158, 1200, 18.75, 6)"
      ]
     },
     "execution_count": 9,
     "metadata": {},
     "output_type": "execute_result"
    }
   ],
   "source": [
    "process(150)"
   ]
  },
  {
   "cell_type": "code",
   "execution_count": 11,
   "id": "8f3fdbae",
   "metadata": {},
   "outputs": [
    {
     "name": "stdout",
     "output_type": "stream",
     "text": [
      "If you make the above operations with 20, the result will be 12,28,160,2.5,4\n"
     ]
    },
    {
     "data": {
      "text/plain": [
       "(12, 28, 160, 2.5, 4)"
      ]
     },
     "execution_count": 11,
     "metadata": {},
     "output_type": "execute_result"
    }
   ],
   "source": [
    "process(20)"
   ]
  },
  {
   "cell_type": "code",
   "execution_count": 21,
   "id": "19033a6c",
   "metadata": {},
   "outputs": [
    {
     "name": "stdout",
     "output_type": "stream",
     "text": [
      "Your value is 90\n",
      "90\n"
     ]
    }
   ],
   "source": [
    "z1=25\n",
    "\n",
    "def multi(x,y):\n",
    "    z=2*x+5*y+45\n",
    "    print('Your value is',z)\n",
    "    return z\n",
    "\n",
    "output=multi(10,5)\n",
    "print(output)"
   ]
  },
  {
   "cell_type": "code",
   "execution_count": 22,
   "id": "04e45ec3",
   "metadata": {},
   "outputs": [
    {
     "name": "stdout",
     "output_type": "stream",
     "text": [
      "Your value is 1245\n"
     ]
    },
    {
     "data": {
      "text/plain": [
       "1245"
      ]
     },
     "execution_count": 22,
     "metadata": {},
     "output_type": "execute_result"
    }
   ],
   "source": [
    "x=multi(100,200)\n",
    "x"
   ]
  },
  {
   "cell_type": "code",
   "execution_count": 23,
   "id": "e2b04d1a",
   "metadata": {},
   "outputs": [
    {
     "name": "stdout",
     "output_type": "stream",
     "text": [
      "Your value is 148\n"
     ]
    },
    {
     "data": {
      "text/plain": [
       "148"
      ]
     },
     "execution_count": 23,
     "metadata": {},
     "output_type": "execute_result"
    }
   ],
   "source": [
    "y=multi(14,15)\n",
    "y"
   ]
  },
  {
   "cell_type": "markdown",
   "id": "d5ae770b",
   "metadata": {},
   "source": [
    "# Variables\n",
    "\n",
    " * __The input to a function is called a formal parameter.__\n",
    " * __A variable that is declared inside a function is called a local variable.__\n",
    " * __The parameter only exists within the function (i.e. the point where the function starts and stops)__\n",
    " * __A variable that is declared outside a function definition is global variable, and its value is accessible and modifiable thoughout the program.__"
   ]
  },
  {
   "cell_type": "code",
   "execution_count": 24,
   "id": "df436d66",
   "metadata": {},
   "outputs": [
    {
     "data": {
      "text/plain": [
       "25"
      ]
     },
     "execution_count": 24,
     "metadata": {},
     "output_type": "execute_result"
    }
   ],
   "source": [
    "z1"
   ]
  },
  {
   "cell_type": "code",
   "execution_count": 26,
   "id": "e87683ab",
   "metadata": {},
   "outputs": [
    {
     "data": {
      "text/plain": [
       "25"
      ]
     },
     "execution_count": 26,
     "metadata": {},
     "output_type": "execute_result"
    }
   ],
   "source": [
    "z1"
   ]
  },
  {
   "cell_type": "code",
   "execution_count": 11,
   "id": "c899a532",
   "metadata": {},
   "outputs": [
    {
     "name": "stdout",
     "output_type": "stream",
     "text": [
      "If you make the above operations with 10, the result will be 35.08052.\n",
      "35.08052\n"
     ]
    }
   ],
   "source": [
    "# Define a function\n",
    "x1=50\n",
    "def function(x):\n",
    "  \n",
    "    y=3.14\n",
    "    z=3*x+1.618*y\n",
    "    print(f\"If you make the above operations with {x}, the result will be {z}.\")\n",
    "    return z\n",
    "\n",
    "with_result=function(10)\n",
    "print(with_result)\n",
    "    "
   ]
  },
  {
   "cell_type": "code",
   "execution_count": 5,
   "id": "10036b72",
   "metadata": {},
   "outputs": [
    {
     "name": "stdout",
     "output_type": "stream",
     "text": [
      "If you make the above operations with 50, the result will be 155.08052.\n"
     ]
    }
   ],
   "source": [
    "# it starts the global variable\n",
    "a=50\n",
    "\n",
    "y=function(a)"
   ]
  },
  {
   "cell_type": "code",
   "execution_count": 6,
   "id": "001a565c",
   "metadata": {},
   "outputs": [
    {
     "name": "stdout",
     "output_type": "stream",
     "text": [
      "If you make the above operations with 60, the result will be 185.08052.\n"
     ]
    },
    {
     "data": {
      "text/plain": [
       "185.08052"
      ]
     },
     "execution_count": 6,
     "metadata": {},
     "output_type": "execute_result"
    }
   ],
   "source": [
    "function(60)"
   ]
  },
  {
   "cell_type": "code",
   "execution_count": 7,
   "id": "41add0c4",
   "metadata": {},
   "outputs": [
    {
     "data": {
      "text/plain": [
       "50"
      ]
     },
     "execution_count": 7,
     "metadata": {},
     "output_type": "execute_result"
    }
   ],
   "source": [
    "a"
   ]
  },
  {
   "cell_type": "code",
   "execution_count": 8,
   "id": "b951c5dd",
   "metadata": {},
   "outputs": [
    {
     "data": {
      "text/plain": [
       "155.08052"
      ]
     },
     "execution_count": 8,
     "metadata": {},
     "output_type": "execute_result"
    }
   ],
   "source": []
  },
  {
   "cell_type": "code",
   "execution_count": 12,
   "id": "ff70f30a",
   "metadata": {},
   "outputs": [
    {
     "name": "stdout",
     "output_type": "stream",
     "text": [
      "If you make the above operations with 50, the result will be 155.08052.\n"
     ]
    },
    {
     "data": {
      "text/plain": [
       "155.08052"
      ]
     },
     "execution_count": 12,
     "metadata": {},
     "output_type": "execute_result"
    }
   ],
   "source": [
    "function(x1)"
   ]
  },
  {
   "cell_type": "markdown",
   "id": "976ee3d3",
   "metadata": {},
   "source": [
    "# Without return statement, the function returns None"
   ]
  },
  {
   "cell_type": "code",
   "execution_count": 14,
   "id": "0290e04d",
   "metadata": {},
   "outputs": [
    {
     "name": "stdout",
     "output_type": "stream",
     "text": [
      "Hello, Python!\n",
      "Hello, World!\n"
     ]
    }
   ],
   "source": [
    "# Define a function with and without return statement\n",
    "\n",
    "def msg1():\n",
    "    print(\"Hello, Python!\")\n",
    "    \n",
    "def msg2():\n",
    "    print(\"Hello, World!\")\n",
    "    return None\n",
    "msg1()\n",
    "msg2()\n",
    "    "
   ]
  },
  {
   "cell_type": "code",
   "execution_count": 15,
   "id": "bb579d86",
   "metadata": {},
   "outputs": [
    {
     "name": "stdout",
     "output_type": "stream",
     "text": [
      "Hello, Python!\n",
      "None\n"
     ]
    }
   ],
   "source": [
    "print(msg1())"
   ]
  },
  {
   "cell_type": "code",
   "execution_count": 16,
   "id": "9367adea",
   "metadata": {},
   "outputs": [
    {
     "name": "stdout",
     "output_type": "stream",
     "text": [
      "Hello, World!\n",
      "None\n"
     ]
    }
   ],
   "source": [
    "print(msg2())"
   ]
  },
  {
   "cell_type": "code",
   "execution_count": 17,
   "id": "82332937",
   "metadata": {},
   "outputs": [
    {
     "name": "stdout",
     "output_type": "stream",
     "text": [
      "Good Morning!\n"
     ]
    }
   ],
   "source": [
    "def hello():\n",
    "    print(\"Good Morning!\")\n",
    "    \n",
    "hello()"
   ]
  },
  {
   "cell_type": "code",
   "execution_count": 18,
   "id": "adaa061a",
   "metadata": {},
   "outputs": [
    {
     "name": "stdout",
     "output_type": "stream",
     "text": [
      "Good Morning!\n",
      "None\n"
     ]
    }
   ],
   "source": [
    "print(hello())"
   ]
  },
  {
   "cell_type": "markdown",
   "id": "ca9732a7",
   "metadata": {},
   "source": [
    "# Concatenation of two strings"
   ]
  },
  {
   "cell_type": "code",
   "execution_count": 20,
   "id": "6aab8eb4",
   "metadata": {},
   "outputs": [
    {
     "data": {
      "text/plain": [
       "'Hello World'"
      ]
     },
     "execution_count": 20,
     "metadata": {},
     "output_type": "execute_result"
    }
   ],
   "source": [
    "# Define a function\n",
    "def strings(x,y):\n",
    "    return x+y\n",
    "# Testing the function 'strings'(x+y)\n",
    "\n",
    "strings(\"Hello \",\"World\")"
   ]
  },
  {
   "cell_type": "code",
   "execution_count": 22,
   "id": "4e704ee1",
   "metadata": {},
   "outputs": [
    {
     "data": {
      "text/plain": [
       "30"
      ]
     },
     "execution_count": 22,
     "metadata": {},
     "output_type": "execute_result"
    }
   ],
   "source": [
    "strings(10,20)"
   ]
  },
  {
   "cell_type": "code",
   "execution_count": 23,
   "id": "d36a6662",
   "metadata": {},
   "outputs": [
    {
     "data": {
      "text/plain": [
       "'Purushottam Gupta'"
      ]
     },
     "execution_count": 23,
     "metadata": {},
     "output_type": "execute_result"
    }
   ],
   "source": [
    "strings('Purushottam ','Gupta')"
   ]
  },
  {
   "cell_type": "code",
   "execution_count": 24,
   "id": "2e99cbdf",
   "metadata": {},
   "outputs": [
    {
     "data": {
      "text/plain": [
       "110"
      ]
     },
     "execution_count": 24,
     "metadata": {},
     "output_type": "execute_result"
    }
   ],
   "source": [
    "strings(50,60)"
   ]
  },
  {
   "cell_type": "markdown",
   "id": "92bf07f7",
   "metadata": {},
   "source": [
    "# Predefined functions like print(),sum(),len(),max(),input()"
   ]
  },
  {
   "cell_type": "code",
   "execution_count": 25,
   "id": "a14a2dc2",
   "metadata": {},
   "outputs": [
    {
     "name": "stdout",
     "output_type": "stream",
     "text": [
      "[0.577, 2.718, 3.14, 1.618, 1729, 6, 28, 37]\n"
     ]
    }
   ],
   "source": [
    "special_numbers=[0.577,2.718,3.14,1.618,1729,6,28,37]\n",
    "\n",
    "print(special_numbers)"
   ]
  },
  {
   "cell_type": "code",
   "execution_count": 26,
   "id": "28979333",
   "metadata": {},
   "outputs": [
    {
     "data": {
      "text/plain": [
       "1808.053"
      ]
     },
     "execution_count": 26,
     "metadata": {},
     "output_type": "execute_result"
    }
   ],
   "source": [
    "sum(special_numbers)"
   ]
  },
  {
   "cell_type": "code",
   "execution_count": 27,
   "id": "81795380",
   "metadata": {},
   "outputs": [
    {
     "data": {
      "text/plain": [
       "8"
      ]
     },
     "execution_count": 27,
     "metadata": {},
     "output_type": "execute_result"
    }
   ],
   "source": [
    "len(special_numbers)"
   ]
  },
  {
   "cell_type": "code",
   "execution_count": 28,
   "id": "64acf58b",
   "metadata": {},
   "outputs": [
    {
     "data": {
      "text/plain": [
       "1729"
      ]
     },
     "execution_count": 28,
     "metadata": {},
     "output_type": "execute_result"
    }
   ],
   "source": [
    "max(special_numbers)"
   ]
  },
  {
   "cell_type": "code",
   "execution_count": 29,
   "id": "8205165e",
   "metadata": {},
   "outputs": [
    {
     "data": {
      "text/plain": [
       "0.577"
      ]
     },
     "execution_count": 29,
     "metadata": {},
     "output_type": "execute_result"
    }
   ],
   "source": [
    "min(special_numbers)"
   ]
  },
  {
   "cell_type": "markdown",
   "id": "c9f8fae9",
   "metadata": {},
   "source": [
    "# Global variables\n",
    "\n",
    " * __Variables that are created outside of a function (as in all of the example above) are known as global variables.__\n",
    " * __Global variables can be used by everyone, both inside of functions and outside.__"
   ]
  },
  {
   "cell_type": "code",
   "execution_count": 34,
   "id": "d032e9cb",
   "metadata": {},
   "outputs": [
    {
     "name": "stdout",
     "output_type": "stream",
     "text": [
      "[3.14, 1.618, 1729, 6, 37]\n",
      "1776.758\n",
      "1.618\n",
      "1729\n",
      "5\n"
     ]
    }
   ],
   "source": [
    "def addition(nlist):\n",
    "    nlist.append(3.14)\n",
    "    nlist.append(1.618)\n",
    "    nlist.append(1729)\n",
    "    nlist.append(6)\n",
    "    nlist.append(37)\n",
    "\n",
    "    \n",
    "mylist=[]\n",
    "addition(mylist)\n",
    "print(mylist)\n",
    "print(sum(mylist))\n",
    "print(min(mylist))\n",
    "print(max(mylist))\n",
    "print(len(mylist))"
   ]
  },
  {
   "cell_type": "markdown",
   "id": "2c2f19b4",
   "metadata": {},
   "source": [
    "# Variables in functions\n",
    "\n",
    " * __The scope of a variable is the part of the program to which that variable is accessible.__\n",
    " * __Variables declared outside of all function definitions can be accessed from anywhere in the program.__\n",
    " * __Consequently, such variables are said to have global scope and are known as global variables.__"
   ]
  },
  {
   "cell_type": "markdown",
   "id": "2aef707a",
   "metadata": {},
   "source": [
    "# (args) and/or(*args) and Functions"
   ]
  },
  {
   "cell_type": "code",
   "execution_count": 3,
   "id": "efa2e670",
   "metadata": {},
   "outputs": [
    {
     "name": "stdout",
     "output_type": "stream",
     "text": [
      "Number of elements is: 6\n",
      "Purushottam\n",
      "Gupta\n",
      "25\n",
      "purushottam@gmail.com\n",
      "Lucknow\n",
      "Software Developer\n",
      "\n"
     ]
    }
   ],
   "source": [
    "def details(*args):  # *everything\n",
    "    print(\"Number of elements is:\",len(args))\n",
    "    for element in args:\n",
    "        print(element)\n",
    "        \n",
    "        \n",
    "details(\"Purushottam\",\"Gupta\",\"25\",\"purushottam@gmail.com\",\"Lucknow\",\"Software Developer\") \n",
    "print()\n"
   ]
  },
  {
   "cell_type": "code",
   "execution_count": 5,
   "id": "45a68119",
   "metadata": {},
   "outputs": [
    {
     "name": "stdout",
     "output_type": "stream",
     "text": [
      "Number of elements is: 6\n",
      "name\n",
      "age\n",
      "city\n",
      "email\n",
      "position\n",
      "gender\n",
      "\n"
     ]
    }
   ],
   "source": [
    "details('name','age','city','email','position','gender')\n",
    "print()"
   ]
  },
  {
   "cell_type": "code",
   "execution_count": 8,
   "id": "66ff0a94",
   "metadata": {},
   "outputs": [
    {
     "name": "stdout",
     "output_type": "stream",
     "text": [
      "The sum of the number is: 1449.06\n"
     ]
    }
   ],
   "source": [
    "# Another example regarding 'args'\n",
    "\n",
    "def total(*args):\n",
    "    total=0\n",
    "    for i in args:\n",
    "        total+=i\n",
    "        \n",
    "    return total\n",
    "\n",
    "x=total(10,20,30,50,40,60,80,79,100,123.56,856.50)\n",
    "\n",
    "print(\"The sum of the number is:\",x)"
   ]
  },
  {
   "cell_type": "code",
   "execution_count": 13,
   "id": "8ed677bf",
   "metadata": {},
   "outputs": [
    {
     "name": "stdout",
     "output_type": "stream",
     "text": [
      "Name : Purushottam\n",
      "Age : 23\n",
      "City : Lucknow\n",
      "Email : purushottam123@gmail.com\n"
     ]
    }
   ],
   "source": [
    "# Define a function regarding a dictionary example:\n",
    "\n",
    "def function(**args):\n",
    "    for key in args:\n",
    "        print(key,\":\",args[key])\n",
    "        \n",
    "        \n",
    "x1=function(Name=\"Purushottam\",Age=23,City=\"Lucknow\",Email=\"purushottam123@gmail.com\")\n",
    "x1"
   ]
  },
  {
   "cell_type": "code",
   "execution_count": 19,
   "id": "c798a2cf",
   "metadata": {},
   "outputs": [
    {
     "name": "stdout",
     "output_type": "stream",
     "text": [
      "Name : Sunny Deol\n",
      "Age : 45\n",
      "City : Punjab\n",
      "Email : sunnydeol@gmail.com\n"
     ]
    }
   ],
   "source": [
    "x2=function(Name='Sunny Deol',Age=45,City=\"Punjab\",Email='sunnydeol@gmail.com')\n",
    "x2"
   ]
  },
  {
   "cell_type": "markdown",
   "id": "5dd44c06",
   "metadata": {},
   "source": [
    "# Docstring in Functions\n"
   ]
  },
  {
   "cell_type": "code",
   "execution_count": 25,
   "id": "f55710be",
   "metadata": {},
   "outputs": [
    {
     "name": "stdout",
     "output_type": "stream",
     "text": [
      "The Following function returns the sum of two parameters.\n",
      "30\n"
     ]
    }
   ],
   "source": [
    "def addition(x,y):\n",
    "    \"\"\"The Following function returns the sum of two parameters.\"\"\"\n",
    "    z=x+y\n",
    "    return z\n",
    "\n",
    "print(addition.__doc__)\n",
    "print(addition(10,20))"
   ]
  },
  {
   "cell_type": "code",
   "execution_count": null,
   "id": "46e0fee3",
   "metadata": {},
   "outputs": [],
   "source": []
  }
 ],
 "metadata": {
  "kernelspec": {
   "display_name": "Python 3 (ipykernel)",
   "language": "python",
   "name": "python3"
  },
  "language_info": {
   "codemirror_mode": {
    "name": "ipython",
    "version": 3
   },
   "file_extension": ".py",
   "mimetype": "text/x-python",
   "name": "python",
   "nbconvert_exporter": "python",
   "pygments_lexer": "ipython3",
   "version": "3.9.13"
  }
 },
 "nbformat": 4,
 "nbformat_minor": 5
}
