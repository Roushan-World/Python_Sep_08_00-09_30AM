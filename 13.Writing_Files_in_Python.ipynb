{
 "cells": [
  {
   "cell_type": "markdown",
   "id": "748e00a2",
   "metadata": {},
   "source": [
    "# 13.Writing Files in Python\n",
    "\n",
    " * __To Write a text file in Python, you follows these steps:__\n",
    " * __First, Open the text file for writing(appending) using open() functions.__\n",
    " * __Second, write to the text file using the write() or writelines() method.__\n",
    " * __Third, close the file using close() method.__\n",
    " \n",
    " * __Characters-------------------------> Functions.__\n",
    " * __W --------------------------> Open the file for writing only. File pointer placed at beginning of the file.__\n",
    " * __r --------------------------> Open the file for reading only. Starts reading from beginning of the file. This is default mode.__\n",
    " * __rb --------------------------> Open a file for reading only. Starts reading from the beginning of the file.__\n",
    " * __r+ -------------------------> Open file for reading and writing. File pointer placed at beginning of the file.__\n",
    " * __wb -------------------------> Same as w but opens in binary mode.__\n",
    " * __W+ -------------------------> Same as wb but also allows to read from the file.__\n",
    " * __a --------------------------> Open a file for appending, Starts wrting at the end of the file. Creates a new file if file does not exist.__\n",
    " * __ab--------------------------> Same as a but in binary format. Creates a new file if file does not exists.__\n",
    " * __a+ -------------------------> Same as a but also open for reading.__\n",
    " * __ab+ ------------------------> Same as ab but also open for reading.__"
   ]
  },
  {
   "cell_type": "code",
   "execution_count": 1,
   "id": "2c418da7",
   "metadata": {},
   "outputs": [],
   "source": [
    "fname='purushottam.txt'\n",
    "\n",
    "with open(fname,'w') as f:\n",
    "    f.write(\"My name is Purushottam.\\n\")\n",
    "    f.write('I am from UttarPradesh.\\n')\n",
    "    f.write(\"You can contact me on purushottam@123gmail.com\")"
   ]
  },
  {
   "cell_type": "code",
   "execution_count": 2,
   "id": "15692b77",
   "metadata": {},
   "outputs": [
    {
     "name": "stdout",
     "output_type": "stream",
     "text": [
      "My name is Purushottam.\n",
      "I am from UttarPradesh.\n",
      "You can contact me on purushottam@123gmail.com\n"
     ]
    }
   ],
   "source": [
    "with open(fname,'r') as f:\n",
    "    x=f.read()\n",
    "    print(x)"
   ]
  },
  {
   "cell_type": "code",
   "execution_count": 4,
   "id": "c7f6443a",
   "metadata": {},
   "outputs": [],
   "source": [
    "fname='purushottam.docx'\n",
    "\n",
    "with open(fname,'w') as f:\n",
    "    f.write(\"My name is Purushottam.\\n\")\n",
    "    f.write('I am from UttarPradesh.\\n')\n",
    "    f.write(\"You can contact me on purushottam@123gmail.com\")"
   ]
  },
  {
   "cell_type": "code",
   "execution_count": 8,
   "id": "3c064f61",
   "metadata": {},
   "outputs": [
    {
     "name": "stdout",
     "output_type": "stream",
     "text": [
      "Enter the number of lines:3\n",
      "Begin Writing and Press Enter to continue:\n",
      "My name is xyz.\n",
      "My hobby is yza\n",
      "my email is 789456\n",
      "My name is xyz.\n",
      "My hobby is yza\n",
      "my email is 789456\n",
      "\n"
     ]
    }
   ],
   "source": [
    "user_input='purushottam.txt'\n",
    "\n",
    "n=int(input(\"Enter the number of lines:\"))\n",
    "print(\"Begin Writing and Press Enter to continue:\")\n",
    "with open(user_input,'w') as f:\n",
    "    for i in range(n):\n",
    "        s=input()\n",
    "        f.write(s)\n",
    "        f.write('\\n')\n",
    "        \n",
    "        \n",
    "with open(user_input,'r') as f:\n",
    "    content=f.read()\n",
    "    print(content)"
   ]
  },
  {
   "cell_type": "code",
   "execution_count": 9,
   "id": "fe9138b6",
   "metadata": {},
   "outputs": [
    {
     "name": "stdout",
     "output_type": "stream",
     "text": [
      "Enter your file name:Purushottam\n",
      "Enter Number of Lines:3\n",
      "Mat\n",
      "Rat\n",
      "Cat\n",
      "Mat\n",
      "Rat\n",
      "Cat\n",
      "\n"
     ]
    }
   ],
   "source": [
    "# Using function, Write a file \n",
    "\n",
    "def write(x,n):\n",
    "    with open(x,'w') as f:\n",
    "        for i in range(n):\n",
    "            s=input()\n",
    "            f.write(s)\n",
    "            f.write('\\n')\n",
    "    with open(x,'r') as f:\n",
    "        content=f.read()\n",
    "        print(content)\n",
    "        \n",
    "x=input(\"Enter your file name:\")\n",
    "x=x+'.txt'\n",
    "n=int(input('Enter Number of Lines:'))\n",
    "write(x,n)"
   ]
  },
  {
   "cell_type": "code",
   "execution_count": 12,
   "id": "51a178dd",
   "metadata": {},
   "outputs": [
    {
     "name": "stdout",
     "output_type": "stream",
     "text": [
      "Write the number of lines your want to write:2\n",
      "Write:My name is xyz\n",
      "Write:My age is 45\n"
     ]
    }
   ],
   "source": [
    "# file opening using classes and object\n",
    "\n",
    "class am:\n",
    "    def __init__(self,filename):\n",
    "        self.filename=filename\n",
    "        \n",
    "    def am2file(self):\n",
    "        fname=open(self.filename,'w')\n",
    "        aboutme=[]\n",
    "        \n",
    "        n=int(input('Write the number of lines your want to write:'))\n",
    "        \n",
    "        for x in range(n):\n",
    "            am=input('Write:')\n",
    "            aboutme.append(am)\n",
    "            \n",
    "        for i in aboutme:\n",
    "            fname.write(i)\n",
    "            fname.write('\\n')\n",
    "            \n",
    "        fname.close()\n",
    "am1=am('Purushottam.txt')\n",
    "am1.am2file()"
   ]
  },
  {
   "cell_type": "code",
   "execution_count": 15,
   "id": "dfa6b021",
   "metadata": {},
   "outputs": [
    {
     "name": "stdout",
     "output_type": "stream",
     "text": [
      "Write the numbers of line you want to write:3\n",
      "write:1\n",
      "write:2\n",
      "write:3\n"
     ]
    }
   ],
   "source": [
    "# file opening using with class and object\n",
    "\n",
    "class am:\n",
    "    def __init__(self,filename):\n",
    "        self.filename=filename\n",
    "        \n",
    "    def am2file(self):\n",
    "        fname=open(self.filename,'w')\n",
    "        aboutme=[]\n",
    "\n",
    "        n=int(input('Write the numbers of line you want to write:'))\n",
    "        \n",
    "        for x in range(n):\n",
    "            am=input('write:')\n",
    "            aboutme.append(am)\n",
    "            \n",
    "        for i in aboutme:\n",
    "            fname.write(i)\n",
    "            fname.write('\\n')\n",
    "                        \n",
    "        fname.close()\n",
    "        \n",
    "am1=am('My_self.txt')\n",
    "am1.am2file()"
   ]
  },
  {
   "cell_type": "code",
   "execution_count": null,
   "id": "e0e9a930",
   "metadata": {},
   "outputs": [],
   "source": []
  }
 ],
 "metadata": {
  "kernelspec": {
   "display_name": "Python 3 (ipykernel)",
   "language": "python",
   "name": "python3"
  },
  "language_info": {
   "codemirror_mode": {
    "name": "ipython",
    "version": 3
   },
   "file_extension": ".py",
   "mimetype": "text/x-python",
   "name": "python",
   "nbconvert_exporter": "python",
   "pygments_lexer": "ipython3",
   "version": "3.9.13"
  }
 },
 "nbformat": 4,
 "nbformat_minor": 5
}
