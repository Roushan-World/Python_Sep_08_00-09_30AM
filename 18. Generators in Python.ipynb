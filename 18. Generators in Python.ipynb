{
 "cells": [
  {
   "cell_type": "markdown",
   "id": "f19454c8",
   "metadata": {},
   "source": [
    "# 18. Generators in Python\n",
    "\n",
    " * __Python generators are the functions that return the transversal object and a simple way of creating iterators.__\n",
    " * __It transverse the entire items at once.__\n",
    " * __The generator can also be expression in which syntax is similar to the list comprehension in python.__\n",
    " * __There is a lot of complexity in creating iteration in Python, it is required to implement iter() and next() method to keep track of internal states.__\n",
    " * __It is a lenghty process to create iterators.__\n",
    " * __That is why the generator plays a significant role in simplify this process.__\n",
    " * __If there is no value found in iteration, it raises StopIteration exception.__\n",
    " * __It is quit simple to create a generator in Python.__\n",
    " * __It is similar to the normal function defined by the def keyword and employs a yield keyword instead of return.__\n",
    " * __If the body of any function includes a yield statement, it automatically becomes a generator function.__\n",
    " * __It pauses the function execution by saving all states and yielded the caller.__"
   ]
  },
  {
   "cell_type": "code",
   "execution_count": 1,
   "id": "34a3e002",
   "metadata": {},
   "outputs": [
    {
     "name": "stdout",
     "output_type": "stream",
     "text": [
      "[0, 2, 4, 6, 8, 10]\n"
     ]
    }
   ],
   "source": [
    "# 10 even number\n",
    "\n",
    "def function():\n",
    "    for i in range(11):\n",
    "        if i%2==0:\n",
    "            yield i\n",
    "            \n",
    "            \n",
    "nlis=[]\n",
    "for x in function():\n",
    "    nlis.append(x)\n",
    "print(nlis)"
   ]
  },
  {
   "cell_type": "code",
   "execution_count": 3,
   "id": "e48bdc2c",
   "metadata": {},
   "outputs": [
    {
     "name": "stdout",
     "output_type": "stream",
     "text": [
      "[1, 3, 5, 7, 9, 11, 13, 15, 17, 19, 21, 23, 25, 27, 29, 31, 33, 35, 37, 39, 41, 43, 45, 47, 49, 51]\n"
     ]
    }
   ],
   "source": [
    "# 50 odd number\n",
    "\n",
    "def function():\n",
    "    for i in range(52):\n",
    "        if i%2!=0:\n",
    "            yield i\n",
    "            \n",
    "            \n",
    "nlis=[]\n",
    "for x in function():\n",
    "    nlis.append(x)\n",
    "print(nlis)"
   ]
  },
  {
   "cell_type": "code",
   "execution_count": 8,
   "id": "ae2bf841",
   "metadata": {},
   "outputs": [
    {
     "name": "stdout",
     "output_type": "stream",
     "text": [
      "Hello World!\n",
      "My name is Purushottam.\n",
      "Python is most popular programming language.\n"
     ]
    },
    {
     "ename": "StopIteration",
     "evalue": "",
     "output_type": "error",
     "traceback": [
      "\u001b[1;31m---------------------------------------------------------------------------\u001b[0m",
      "\u001b[1;31mStopIteration\u001b[0m                             Traceback (most recent call last)",
      "\u001b[1;32m~\\AppData\\Local\\Temp\\ipykernel_5800\\2301750854.py\u001b[0m in \u001b[0;36m<module>\u001b[1;34m\u001b[0m\n\u001b[0;32m     15\u001b[0m \u001b[0mprint\u001b[0m\u001b[1;33m(\u001b[0m\u001b[0mnext\u001b[0m\u001b[1;33m(\u001b[0m\u001b[0mresult\u001b[0m\u001b[1;33m)\u001b[0m\u001b[1;33m)\u001b[0m\u001b[1;33m\u001b[0m\u001b[1;33m\u001b[0m\u001b[0m\n\u001b[0;32m     16\u001b[0m \u001b[0mprint\u001b[0m\u001b[1;33m(\u001b[0m\u001b[0mnext\u001b[0m\u001b[1;33m(\u001b[0m\u001b[0mresult\u001b[0m\u001b[1;33m)\u001b[0m\u001b[1;33m)\u001b[0m\u001b[1;33m\u001b[0m\u001b[1;33m\u001b[0m\u001b[0m\n\u001b[1;32m---> 17\u001b[1;33m \u001b[0mprint\u001b[0m\u001b[1;33m(\u001b[0m\u001b[0mnext\u001b[0m\u001b[1;33m(\u001b[0m\u001b[0mresult\u001b[0m\u001b[1;33m)\u001b[0m\u001b[1;33m)\u001b[0m\u001b[1;33m\u001b[0m\u001b[1;33m\u001b[0m\u001b[0m\n\u001b[0m",
      "\u001b[1;31mStopIteration\u001b[0m: "
     ]
    }
   ],
   "source": [
    "def message():\n",
    "    msg_one=\"Hello World!\"\n",
    "    yield msg_one\n",
    "    \n",
    "    msg_two=\"My name is Purushottam.\"\n",
    "    yield msg_two\n",
    "    \n",
    "    msg_three='Python is most popular programming language.'\n",
    "    yield msg_three\n",
    "    \n",
    "    \n",
    "result=message()\n",
    "\n",
    "print(next(result))\n",
    "print(next(result))\n",
    "print(next(result))\n",
    "print(next(result))"
   ]
  },
  {
   "cell_type": "code",
   "execution_count": 10,
   "id": "3da321e4",
   "metadata": {},
   "outputs": [
    {
     "name": "stdout",
     "output_type": "stream",
     "text": [
      "Hello World!\n",
      "My name is Purushottam.\n",
      "Python is most popular programming language.\n",
      "No Value Found\n"
     ]
    }
   ],
   "source": [
    "try: \n",
    "    def message():\n",
    "        msg_one=\"Hello World!\"\n",
    "        yield msg_one\n",
    "    \n",
    "        msg_two=\"My name is Purushottam.\"\n",
    "        yield msg_two\n",
    "    \n",
    "        msg_three='Python is most popular programming language.'\n",
    "        yield msg_three\n",
    "\n",
    "    \n",
    "    result=message()\n",
    "\n",
    "    print(next(result))\n",
    "    print(next(result))\n",
    "    print(next(result))\n",
    "    print(next(result))\n",
    "    \n",
    "except StopIteration:\n",
    "    print(\"No Value Found\")"
   ]
  },
  {
   "cell_type": "code",
   "execution_count": 11,
   "id": "5f0dcda6",
   "metadata": {},
   "outputs": [
    {
     "name": "stdout",
     "output_type": "stream",
     "text": [
      "[20, 40, 60, 80, 100, 120, 140, 160, 180, 200]\n"
     ]
    }
   ],
   "source": [
    "# 20\n",
    "\n",
    "\n",
    "def multi_table(n):\n",
    "    for i in range(1,11):\n",
    "        yield n*i\n",
    "        i+=1\n",
    "        \n",
    "        \n",
    "multi_table_list=[]\n",
    "\n",
    "for i in multi_table(20):\n",
    "    multi_table_list.append(i)\n",
    "print(multi_table_list)"
   ]
  },
  {
   "cell_type": "code",
   "execution_count": 17,
   "id": "4a909861",
   "metadata": {},
   "outputs": [
    {
     "name": "stdout",
     "output_type": "stream",
     "text": [
      "0\n",
      "1\n",
      "2\n",
      "3\n",
      "4\n"
     ]
    },
    {
     "ename": "StopIteration",
     "evalue": "",
     "output_type": "error",
     "traceback": [
      "\u001b[1;31m---------------------------------------------------------------------------\u001b[0m",
      "\u001b[1;31mStopIteration\u001b[0m                             Traceback (most recent call last)",
      "\u001b[1;32m~\\AppData\\Local\\Temp\\ipykernel_5800\\3365925678.py\u001b[0m in \u001b[0;36m<module>\u001b[1;34m\u001b[0m\n\u001b[0;32m      9\u001b[0m \u001b[0mprint\u001b[0m\u001b[1;33m(\u001b[0m\u001b[0mnext\u001b[0m\u001b[1;33m(\u001b[0m\u001b[0mx\u001b[0m\u001b[1;33m)\u001b[0m\u001b[1;33m)\u001b[0m\u001b[1;33m\u001b[0m\u001b[1;33m\u001b[0m\u001b[0m\n\u001b[0;32m     10\u001b[0m \u001b[0mprint\u001b[0m\u001b[1;33m(\u001b[0m\u001b[0mnext\u001b[0m\u001b[1;33m(\u001b[0m\u001b[0mx\u001b[0m\u001b[1;33m)\u001b[0m\u001b[1;33m)\u001b[0m\u001b[1;33m\u001b[0m\u001b[1;33m\u001b[0m\u001b[0m\n\u001b[1;32m---> 11\u001b[1;33m \u001b[0mprint\u001b[0m\u001b[1;33m(\u001b[0m\u001b[0mnext\u001b[0m\u001b[1;33m(\u001b[0m\u001b[0mx\u001b[0m\u001b[1;33m)\u001b[0m\u001b[1;33m)\u001b[0m\u001b[1;33m\u001b[0m\u001b[1;33m\u001b[0m\u001b[0m\n\u001b[0m",
      "\u001b[1;31mStopIteration\u001b[0m: "
     ]
    }
   ],
   "source": [
    "def generator(a):\n",
    "    for i in range(a):\n",
    "        yield i\n",
    "        \n",
    "x=generator(5)\n",
    "print(next(x))\n",
    "print(next(x))\n",
    "print(next(x))\n",
    "print(next(x))\n",
    "print(next(x))\n",
    "print(next(x))"
   ]
  },
  {
   "cell_type": "code",
   "execution_count": null,
   "id": "7db6723a",
   "metadata": {},
   "outputs": [],
   "source": []
  }
 ],
 "metadata": {
  "kernelspec": {
   "display_name": "Python 3 (ipykernel)",
   "language": "python",
   "name": "python3"
  },
  "language_info": {
   "codemirror_mode": {
    "name": "ipython",
    "version": 3
   },
   "file_extension": ".py",
   "mimetype": "text/x-python",
   "name": "python",
   "nbconvert_exporter": "python",
   "pygments_lexer": "ipython3",
   "version": "3.9.13"
  }
 },
 "nbformat": 4,
 "nbformat_minor": 5
}
