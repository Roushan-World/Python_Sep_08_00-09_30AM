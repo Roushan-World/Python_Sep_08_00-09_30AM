{
 "cells": [
  {
   "cell_type": "markdown",
   "id": "215a65d1",
   "metadata": {},
   "source": [
    "# 11. Classes and Objects in Python\n",
    "\n",
    " * __Python is an obejct-oriented programming language.__\n",
    " * __Unlike procedure-oriented programming, where the main emphasis is on functions, object-oriented programming stresses on objects.__\n",
    " * __An onject is simply a collections of data(variables) and methods (functions) that act on those data.__\n",
    " * __Similarly, a class is a blueprint for that object.__\n",
    " * __Like function definitions begin with the def keyword in Python, class definitions begin with a class keyword.__\n",
    " * __The first string inside the class is called docstring and has a brief description of the class.__\n",
    " * __Although not mandatrory, this is heigly recommended.__\n",
    " \n",
    " * class class_name:\n",
    "         * school_name=\"ABC School\" <--------------class Variables\n",
    "         \n",
    "         * def __init__(self,name,age):  <---------- Constructor to initialize instance variables\n",
    "             self.name=name\n",
    "             self.age=age\n",
    " * x=class_name(\"first parameter\",\"Second Parameter\")\n",
    " * print(x.name)\n",
    " * print(x.age)\n",
    "  "
   ]
  },
  {
   "cell_type": "code",
   "execution_count": 1,
   "id": "e8690c80",
   "metadata": {},
   "outputs": [
    {
     "name": "stdout",
     "output_type": "stream",
     "text": [
      "<class '__main__.Data'>\n"
     ]
    }
   ],
   "source": [
    "class Data:\n",
    "    num= 3.14\n",
    "    \n",
    "print(Data)"
   ]
  },
  {
   "cell_type": "code",
   "execution_count": 2,
   "id": "3f82e4e9",
   "metadata": {},
   "outputs": [
    {
     "data": {
      "text/plain": [
       "3.14"
      ]
     },
     "execution_count": 2,
     "metadata": {},
     "output_type": "execute_result"
    }
   ],
   "source": [
    "Data.num"
   ]
  },
  {
   "cell_type": "code",
   "execution_count": 10,
   "id": "31bedf82",
   "metadata": {},
   "outputs": [
    {
     "name": "stdout",
     "output_type": "stream",
     "text": [
      "Purushottam\n",
      "35\n",
      "Pune\n",
      "purushottam123@gmail.com\n",
      "123456789\n"
     ]
    }
   ],
   "source": [
    "class Details:\n",
    "    def __init__(self,name,age,contact_add,email,phone): #<-----arguments\n",
    "        self.name=name\n",
    "        self.age=age\n",
    "        self.contact_add=contact_add\n",
    "        self.email=email\n",
    "        self.phone=phone\n",
    "        \n",
    "        \n",
    "val=Details(\"Purushottam\",35,\"Pune\",\"purushottam123@gmail.com\",'123456789')\n",
    "print(val.name)\n",
    "print(val.age)\n",
    "print(val.contact_add)\n",
    "print(val.email)\n",
    "print(val.phone)\n",
    "        "
   ]
  },
  {
   "cell_type": "code",
   "execution_count": 12,
   "id": "1a0af81e",
   "metadata": {},
   "outputs": [
    {
     "name": "stdout",
     "output_type": "stream",
     "text": [
      "My name is Purushottam\n",
      "I am 35 years old.\n",
      "You can contact me at Pune.\n",
      "You can mail me on purushottam123@gmail.com\n",
      "You can call me on 123456789\n"
     ]
    }
   ],
   "source": [
    "class Details:\n",
    "    def __init__(x,name,age,contact_add,email,phone): #<-----arguments\n",
    "        x.name=name\n",
    "        x.age=age\n",
    "        x.contact_add=contact_add\n",
    "        x.email=email\n",
    "        x.phone=phone\n",
    "        \n",
    "    def msg_details(x):\n",
    "        print(f\"My name is {x.name}\")\n",
    "        print(f'I am {x.age} years old.')\n",
    "        print(f'You can contact me at {x.contact_add}.')\n",
    "        print(f'You can mail me on {x.email}')\n",
    "        print(f'You can call me on {x.phone}')\n",
    "        \n",
    "        \n",
    "val=Details(\"Purushottam\",35,\"Pune\",\"purushottam123@gmail.com\",'123456789')\n",
    "val.msg_details()\n",
    "        "
   ]
  },
  {
   "cell_type": "markdown",
   "id": "f7d3c621",
   "metadata": {},
   "source": [
    "# Self parameter\n",
    "\n",
    " * __The self parameter is a reference to the current instance of the class and is used to access variables that belongs to the class.__\n",
    " * __It does not have to be named self, you can call it whatever you like, but it has to be the first parameter of any function in the class.__"
   ]
  },
  {
   "cell_type": "code",
   "execution_count": 4,
   "id": "536a9864",
   "metadata": {},
   "outputs": [
    {
     "name": "stdout",
     "output_type": "stream",
     "text": [
      "My name is i.e dog.\n",
      "It have 4 legs.\n",
      "It have 1 tail.\n",
      "It have 2 eyes\n",
      "It have 1 belly\n",
      "It is brown in color \n",
      "They like Non veg food\n"
     ]
    }
   ],
   "source": [
    "# Class animal and function dog(legs,tail,eye,ears,belley,color,food.)\n",
    "\n",
    "class animal:\n",
    "    def __init__(x,name, legs, tail, eyes, belley, color, food):  # <--- Arguments\n",
    "        x.name=name\n",
    "        x.legs=legs\n",
    "        x.tail= tail\n",
    "        x.eyes= eyes\n",
    "        x.belley= belley\n",
    "        x.color= color\n",
    "        x.food= food\n",
    "        \n",
    "    def dog(x):\n",
    "        print(f'My name is i.e {x.name}.')\n",
    "        print(f'It have {x.legs} legs.')\n",
    "        print(f'It have {x.tail} tail.')\n",
    "        print(f'It have {x.eyes} eyes')\n",
    "        print(f'It have {x.belley} belly')\n",
    "        print(f'It is {x.color} in color ')\n",
    "        print(f'They like {x.food} food')\n",
    "        \n",
    "val=animal(\"dog\",\"4\", \"1\",\"2\", \"1\", \"brown\", \"Non veg\")\n",
    "val.dog()"
   ]
  },
  {
   "cell_type": "code",
   "execution_count": 5,
   "id": "87e34f24",
   "metadata": {},
   "outputs": [
    {
     "name": "stdout",
     "output_type": "stream",
     "text": [
      "My name is i.e Cow.\n",
      "It have 4 legs.\n",
      "It have 1 tail.\n",
      "It have 2 eyes\n",
      "It have 1 belly\n",
      "It is black in color \n",
      "They like Veg food\n"
     ]
    }
   ],
   "source": [
    "cow=animal(\"Cow\",4,1,2,1,\"black\",\"Veg\")\n",
    "cow.dog()"
   ]
  },
  {
   "cell_type": "code",
   "execution_count": 6,
   "id": "19e78a00",
   "metadata": {},
   "outputs": [
    {
     "name": "stdout",
     "output_type": "stream",
     "text": [
      "Vechile name is i.e. Maruti.\n",
      "Maximum speed on road 220 KM/hr.\n",
      "Mileage of the Maruti vechile is 22 per liter.\n"
     ]
    }
   ],
   "source": [
    "# Write a program to create a Vehicle class with Max_speed and mileage instance attributes.\n",
    "\n",
    "class vehicle:\n",
    "    def __init__(x, name, max_speed, mileage):\n",
    "        x.name= name\n",
    "        x.max_speed= max_speed\n",
    "        x.mileage= mileage\n",
    "        \n",
    "    def Vechile_details(x):\n",
    "        print(f'Vechile name is i.e. {x.name}.')\n",
    "        print(f'Maximum speed on road {x.max_speed} KM/hr.')\n",
    "        print(f'Mileage of the {x.name} vechile is {x.mileage} per liter.')\n",
    "        \n",
    "val=vehicle(\"Maruti\", 220, 22)\n",
    "val.Vechile_details()"
   ]
  },
  {
   "cell_type": "markdown",
   "id": "b65351ba",
   "metadata": {},
   "source": [
    "# Inheritance\n",
    "\n",
    " * __1.Single(Simple) Inheritance: Parent Class and Child Class.__\n",
    " * __2.Multilevel Inheritance: Parent/Child Class- Child Class.__\n",
    " * __3.Multiple Inheritance: Parent Class and Parent Class-Child Class.__\n",
    " * __4.Hierarchical Inheritance: Parent Class-Child Class-Child Class.__"
   ]
  },
  {
   "cell_type": "markdown",
   "id": "1235e3b1",
   "metadata": {},
   "source": [
    "# Single Inheritance: When child class is derived from only one parent is called single Inheritance."
   ]
  },
  {
   "cell_type": "code",
   "execution_count": 6,
   "id": "2141bee6",
   "metadata": {},
   "outputs": [
    {
     "name": "stdout",
     "output_type": "stream",
     "text": [
      "Amazon is an Online commerece store.\n"
     ]
    }
   ],
   "source": [
    "# Single Inheritance\n",
    "\n",
    "class Brands:      # parent\n",
    "    brand_name_1='Amazon'\n",
    "    brand_name_2='Flipkart'\n",
    "    brand_name_3='Olx'\n",
    "    \n",
    "class product(Brands):   #child\n",
    "    prod_1=\"Online commerece store.\"\n",
    "    prod_2=\"Online Store.\"\n",
    "    prod_3=\"Online Buy and Sell Store.\"\n",
    "    \n",
    "obj_1=product()\n",
    "\n",
    "print(obj_1.brand_name_1+\" is an \"+obj_1.prod_1)"
   ]
  },
  {
   "cell_type": "markdown",
   "id": "b1bb4ef2",
   "metadata": {},
   "source": [
    "# Multiple Inheritance: When a child class is derived or inherited from more than one parent class is called multiple Inheritance."
   ]
  },
  {
   "cell_type": "code",
   "execution_count": 12,
   "id": "dbc7b9de",
   "metadata": {},
   "outputs": [
    {
     "name": "stdout",
     "output_type": "stream",
     "text": [
      "Amazon is an Online commerece store and its poularity is 100.\n"
     ]
    }
   ],
   "source": [
    "# Multiple Inheritance\n",
    "\n",
    "class Brands:      # parent\n",
    "    brand_name_1='Amazon'\n",
    "    brand_name_2='Flipkart'\n",
    "    brand_name_3='Olx'\n",
    "    \n",
    "class product:   #parent\n",
    "    prod_1=\"Online commerece store\"\n",
    "    prod_2=\"Online Store.\"\n",
    "    prod_3=\"Online Buy and Sell Store.\"\n",
    "    \n",
    "class popularity(Brands,product):\n",
    "    popularity_1='100.'\n",
    "    popularity_2='200'\n",
    "    populairty_3='300'\n",
    "    \n",
    "obj_2=popularity()\n",
    "\n",
    "print(obj_2.brand_name_1+\" is an \"+obj_2.prod_1+\" and its poularity is \"+obj_2.popularity_1)"
   ]
  },
  {
   "cell_type": "code",
   "execution_count": null,
   "id": "fae9ae17",
   "metadata": {},
   "outputs": [],
   "source": []
  }
 ],
 "metadata": {
  "kernelspec": {
   "display_name": "Python 3 (ipykernel)",
   "language": "python",
   "name": "python3"
  },
  "language_info": {
   "codemirror_mode": {
    "name": "ipython",
    "version": 3
   },
   "file_extension": ".py",
   "mimetype": "text/x-python",
   "name": "python",
   "nbconvert_exporter": "python",
   "pygments_lexer": "ipython3",
   "version": "3.9.13"
  }
 },
 "nbformat": 4,
 "nbformat_minor": 5
}
